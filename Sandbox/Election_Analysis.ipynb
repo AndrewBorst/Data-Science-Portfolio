{
 "cells": [
  {
   "cell_type": "code",
   "execution_count": 1,
   "source": [
    "import numpy as np \r\n",
    "import pandas as pd\r\n"
   ],
   "outputs": [],
   "metadata": {}
  },
  {
   "cell_type": "code",
   "execution_count": 9,
   "source": [
    "# print(pd.read_csv('.\\Public_Datasets\\countypres_2000-2020.csv'))\r\n",
    "df = pd.read_csv('.\\Public_Datasets\\countypres_2000-2020.csv')\r\n",
    "\r\n",
    "o = df['state'] == 'INDIANA'\r\n",
    "\r\n",
    "o.head()"
   ],
   "outputs": [
    {
     "output_type": "execute_result",
     "data": {
      "text/plain": [
       "0    False\n",
       "1    False\n",
       "2    False\n",
       "3    False\n",
       "4    False\n",
       "Name: state, dtype: bool"
      ]
     },
     "metadata": {},
     "execution_count": 9
    }
   ],
   "metadata": {
    "colab": {},
    "colab_type": "code",
    "id": "qdn4-UzBZR-T"
   }
  }
 ],
 "metadata": {
  "colab": {
   "collapsed_sections": [],
   "name": "Numpy.ipynb",
   "provenance": []
  },
  "kernelspec": {
   "name": "python3",
   "display_name": "Python 3.9.5 64-bit"
  },
  "language_info": {
   "codemirror_mode": {
    "name": "ipython",
    "version": 3
   },
   "file_extension": ".py",
   "mimetype": "text/x-python",
   "name": "python",
   "nbconvert_exporter": "python",
   "pygments_lexer": "ipython3",
   "version": "3.9.5"
  },
  "interpreter": {
   "hash": "0ed56d531cad8ee35a93e1af05298bff5bae8211d604dfce687c65eef073ff4f"
  }
 },
 "nbformat": 4,
 "nbformat_minor": 1
}