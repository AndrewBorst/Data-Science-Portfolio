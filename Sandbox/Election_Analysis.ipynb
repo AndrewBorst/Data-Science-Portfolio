{
 "cells": [
  {
   "cell_type": "code",
   "execution_count": 17,
   "metadata": {},
   "outputs": [],
   "source": [
    "import numpy as np \n",
    "import pandas as pd\n",
    "import matplotlib.pyplot as plt\n"
   ]
  },
  {
   "cell_type": "code",
   "execution_count": 16,
   "metadata": {
    "colab": {},
    "colab_type": "code",
    "id": "qdn4-UzBZR-T"
   },
   "outputs": [
    {
     "data": {
      "text/html": [
       "<div>\n",
       "<style scoped>\n",
       "    .dataframe tbody tr th:only-of-type {\n",
       "        vertical-align: middle;\n",
       "    }\n",
       "\n",
       "    .dataframe tbody tr th {\n",
       "        vertical-align: top;\n",
       "    }\n",
       "\n",
       "    .dataframe thead th {\n",
       "        text-align: right;\n",
       "    }\n",
       "</style>\n",
       "<table border=\"1\" class=\"dataframe\">\n",
       "  <thead>\n",
       "    <tr style=\"text-align: right;\">\n",
       "      <th></th>\n",
       "      <th>year</th>\n",
       "      <th>state</th>\n",
       "      <th>state_po</th>\n",
       "      <th>county_name</th>\n",
       "      <th>county_fips</th>\n",
       "      <th>office</th>\n",
       "      <th>candidate</th>\n",
       "      <th>party</th>\n",
       "      <th>candidatevotes</th>\n",
       "      <th>totalvotes</th>\n",
       "      <th>version</th>\n",
       "      <th>mode</th>\n",
       "      <th>votePercentage</th>\n",
       "    </tr>\n",
       "  </thead>\n",
       "  <tbody>\n",
       "    <tr>\n",
       "      <th>2777</th>\n",
       "      <td>2000</td>\n",
       "      <td>INDIANA</td>\n",
       "      <td>IN</td>\n",
       "      <td>HAMILTON</td>\n",
       "      <td>18057.0</td>\n",
       "      <td>PRESIDENT</td>\n",
       "      <td>GEORGE W. BUSH</td>\n",
       "      <td>REPUBLICAN</td>\n",
       "      <td>56372.0</td>\n",
       "      <td>75926.0</td>\n",
       "      <td>20191203</td>\n",
       "      <td>TOTAL</td>\n",
       "      <td>0.742460</td>\n",
       "    </tr>\n",
       "    <tr>\n",
       "      <th>14550</th>\n",
       "      <td>2004</td>\n",
       "      <td>INDIANA</td>\n",
       "      <td>IN</td>\n",
       "      <td>HAMILTON</td>\n",
       "      <td>18057.0</td>\n",
       "      <td>PRESIDENT</td>\n",
       "      <td>GEORGE W. BUSH</td>\n",
       "      <td>REPUBLICAN</td>\n",
       "      <td>77887.0</td>\n",
       "      <td>104906.0</td>\n",
       "      <td>20191203</td>\n",
       "      <td>TOTAL</td>\n",
       "      <td>0.742446</td>\n",
       "    </tr>\n",
       "    <tr>\n",
       "      <th>23901</th>\n",
       "      <td>2008</td>\n",
       "      <td>INDIANA</td>\n",
       "      <td>IN</td>\n",
       "      <td>HAMILTON</td>\n",
       "      <td>18057.0</td>\n",
       "      <td>PRESIDENT</td>\n",
       "      <td>JOHN MCCAIN</td>\n",
       "      <td>REPUBLICAN</td>\n",
       "      <td>78401.0</td>\n",
       "      <td>129064.0</td>\n",
       "      <td>20191203</td>\n",
       "      <td>TOTAL</td>\n",
       "      <td>0.607458</td>\n",
       "    </tr>\n",
       "    <tr>\n",
       "      <th>33252</th>\n",
       "      <td>2012</td>\n",
       "      <td>INDIANA</td>\n",
       "      <td>IN</td>\n",
       "      <td>HAMILTON</td>\n",
       "      <td>18057.0</td>\n",
       "      <td>PRESIDENT</td>\n",
       "      <td>MITT ROMNEY</td>\n",
       "      <td>REPUBLICAN</td>\n",
       "      <td>90747.0</td>\n",
       "      <td>136863.0</td>\n",
       "      <td>20191203</td>\n",
       "      <td>TOTAL</td>\n",
       "      <td>0.663050</td>\n",
       "    </tr>\n",
       "    <tr>\n",
       "      <th>42603</th>\n",
       "      <td>2016</td>\n",
       "      <td>INDIANA</td>\n",
       "      <td>IN</td>\n",
       "      <td>HAMILTON</td>\n",
       "      <td>18057.0</td>\n",
       "      <td>PRESIDENT</td>\n",
       "      <td>DONALD TRUMP</td>\n",
       "      <td>REPUBLICAN</td>\n",
       "      <td>87404.0</td>\n",
       "      <td>154256.0</td>\n",
       "      <td>20191203</td>\n",
       "      <td>TOTAL</td>\n",
       "      <td>0.566617</td>\n",
       "    </tr>\n",
       "  </tbody>\n",
       "</table>\n",
       "</div>"
      ],
      "text/plain": [
       "       year    state state_po county_name  county_fips     office  \\\n",
       "2777   2000  INDIANA       IN    HAMILTON      18057.0  PRESIDENT   \n",
       "14550  2004  INDIANA       IN    HAMILTON      18057.0  PRESIDENT   \n",
       "23901  2008  INDIANA       IN    HAMILTON      18057.0  PRESIDENT   \n",
       "33252  2012  INDIANA       IN    HAMILTON      18057.0  PRESIDENT   \n",
       "42603  2016  INDIANA       IN    HAMILTON      18057.0  PRESIDENT   \n",
       "\n",
       "            candidate       party  candidatevotes  totalvotes   version  \\\n",
       "2777   GEORGE W. BUSH  REPUBLICAN         56372.0     75926.0  20191203   \n",
       "14550  GEORGE W. BUSH  REPUBLICAN         77887.0    104906.0  20191203   \n",
       "23901     JOHN MCCAIN  REPUBLICAN         78401.0    129064.0  20191203   \n",
       "33252     MITT ROMNEY  REPUBLICAN         90747.0    136863.0  20191203   \n",
       "42603    DONALD TRUMP  REPUBLICAN         87404.0    154256.0  20191203   \n",
       "\n",
       "        mode  votePercentage  \n",
       "2777   TOTAL        0.742460  \n",
       "14550  TOTAL        0.742446  \n",
       "23901  TOTAL        0.607458  \n",
       "33252  TOTAL        0.663050  \n",
       "42603  TOTAL        0.566617  "
      ]
     },
     "execution_count": 16,
     "metadata": {},
     "output_type": "execute_result"
    }
   ],
   "source": [
    "countyResults = pd.read_csv('..\\\\Public_Datasets\\\\countypres_2000-2020.csv')\n",
    "\n",
    "countyResults['votePercentage'] = countyResults['candidatevotes'] / countyResults['totalvotes']\n",
    "\n",
    "cr1 = countyResults[(countyResults['state'] == 'INDIANA') \\\n",
    "        & (countyResults['county_name'] == 'HAMILTON') \\\n",
    "        & (countyResults['office'] == 'PRESIDENT') \\\n",
    "        & (countyResults['party'] == 'REPUBLICAN') \n",
    "    ]\n",
    "\n",
    "cr1.head()"
   ]
  },
  {
   "cell_type": "code",
   "execution_count": 21,
   "metadata": {},
   "outputs": [
    {
     "data": {
      "image/png": "[encoded data removed]",
      "text/plain": [
       "<Figure size 432x288 with 1 Axes>"
      ]
     },
     "metadata": {
      "needs_background": "light"
     },
     "output_type": "display_data"
    }
   ],
   "source": [
    "plt.plot(cr1['year'], cr1['votePercentage'])\n",
    "plt.show()\n"
   ]
  }
 ],
 "metadata": {
  "colab": {
   "collapsed_sections": [],
   "name": "Numpy.ipynb",
   "provenance": []
  },
  "interpreter": {
   "hash": "0ed56d531cad8ee35a93e1af05298bff5bae8211d604dfce687c65eef073ff4f"
  },
  "kernelspec": {
   "display_name": "Python 3",
   "language": "python",
   "name": "python3"
  },
  "language_info": {
   "codemirror_mode": {
    "name": "ipython",
    "version": 3
   },
   "file_extension": ".py",
   "mimetype": "text/x-python",
   "name": "python",
   "nbconvert_exporter": "python",
   "pygments_lexer": "ipython3",
   "version": "3.8.8"
  }
 },
 "nbformat": 4,
 "nbformat_minor": 1
}
