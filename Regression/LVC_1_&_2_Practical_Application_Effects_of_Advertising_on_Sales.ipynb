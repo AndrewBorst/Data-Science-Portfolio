{
 "cells": [
  {
   "cell_type": "markdown",
   "metadata": {
    "id": "mM7KaMsIyx5q"
   },
   "source": [
    "# Effects of Advertising on Sales\n",
    "\n",
    "### LVC 1 - Introduction to Supervised Learning: Regression\n",
    "\n",
    "\n",
    "## Context and Problem\n",
    "\n",
    "- An interesting application of regression is to quantify the effect of advertisement on sales. Various channels of advertisement are newspaper, TV, radio, etc. \n",
    "- In this case study, we will have a look at the advertising data of a company and try to see its effect on sales.\n",
    "- We will also try to predict the sales given the different parameters of advertising. \n",
    "\n",
    "\n",
    "## Data Information\n",
    "\n",
    "The data at hand has three features about the spending on advertising and the target variable is the net sales. Attributes are:\n",
    "\n",
    "- TV    - Independent variable quantifying budget for TV ads\n",
    "- Radio - Independent variable quantifying budget for radio ads \n",
    "- News  - Independent variable quantifying budget for news ads\n",
    "- Sales - Dependent variable"
   ]
  },
  {
   "cell_type": "markdown",
   "metadata": {
    "id": "rzjQEUms29nL"
   },
   "source": [
    "### Let us start by importing necessary packages"
   ]
  },
  {
   "cell_type": "code",
   "execution_count": 1,
   "metadata": {
    "id": "Mbek6djw26sQ"
   },
   "outputs": [],
   "source": [
    "import pandas as pd\n",
    "import numpy as np\n",
    "import numpy as np\n",
    "from sklearn import linear_model\n",
    "import matplotlib.pyplot as plt"
   ]
  },
  {
   "cell_type": "code",
   "execution_count": 2,
   "metadata": {
    "colab": {
     "base_uri": "https://localhost:8080/",
     "height": 72,
     "resources": {
      "http://localhost:8080/nbextensions/google.colab/files.js": {
       "data": "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",
       "headers": [
        [
         "content-type",
         "application/javascript"
        ]
       ],
       "ok": true,
       "status": 200,
       "status_text": ""
      }
     }
    },
    "id": "eujy4X4H5Vgp",
    "outputId": "c4068269-ad88-4b42-a2fb-554d2d9a3158"
   },
   "outputs": [],
   "source": [
    "# Let us import the files from our system. Note that you can also load the data from the drive. \n",
    "# The below code is applicable only if you are working on Google Colab, In case you are using Jupyter Notebook, you can directly use pd.read_csv(filename) to load data into dataframe\n",
    "\n",
    "#from google.colab import files\n",
    "#uploaded = files.upload()"
   ]
  },
  {
   "cell_type": "code",
   "execution_count": 3,
   "metadata": {
    "colab": {
     "base_uri": "https://localhost:8080/",
     "height": 202
    },
    "id": "qIbGMZS36De1",
    "outputId": "403b1426-9d51-481c-c1ab-e5c93eb1fa4a"
   },
   "outputs": [
    {
     "data": {
      "text/html": [
       "<div>\n",
       "<style scoped>\n",
       "    .dataframe tbody tr th:only-of-type {\n",
       "        vertical-align: middle;\n",
       "    }\n",
       "\n",
       "    .dataframe tbody tr th {\n",
       "        vertical-align: top;\n",
       "    }\n",
       "\n",
       "    .dataframe thead th {\n",
       "        text-align: right;\n",
       "    }\n",
       "</style>\n",
       "<table border=\"1\" class=\"dataframe\">\n",
       "  <thead>\n",
       "    <tr style=\"text-align: right;\">\n",
       "      <th></th>\n",
       "      <th>Unnamed: 0</th>\n",
       "      <th>TV</th>\n",
       "      <th>Radio</th>\n",
       "      <th>Newspaper</th>\n",
       "      <th>Sales</th>\n",
       "    </tr>\n",
       "  </thead>\n",
       "  <tbody>\n",
       "    <tr>\n",
       "      <th>0</th>\n",
       "      <td>1</td>\n",
       "      <td>230.1</td>\n",
       "      <td>37.8</td>\n",
       "      <td>69.2</td>\n",
       "      <td>22.1</td>\n",
       "    </tr>\n",
       "    <tr>\n",
       "      <th>1</th>\n",
       "      <td>2</td>\n",
       "      <td>44.5</td>\n",
       "      <td>39.3</td>\n",
       "      <td>45.1</td>\n",
       "      <td>10.4</td>\n",
       "    </tr>\n",
       "    <tr>\n",
       "      <th>2</th>\n",
       "      <td>3</td>\n",
       "      <td>17.2</td>\n",
       "      <td>45.9</td>\n",
       "      <td>69.3</td>\n",
       "      <td>9.3</td>\n",
       "    </tr>\n",
       "    <tr>\n",
       "      <th>3</th>\n",
       "      <td>4</td>\n",
       "      <td>151.5</td>\n",
       "      <td>41.3</td>\n",
       "      <td>58.5</td>\n",
       "      <td>18.5</td>\n",
       "    </tr>\n",
       "    <tr>\n",
       "      <th>4</th>\n",
       "      <td>5</td>\n",
       "      <td>180.8</td>\n",
       "      <td>10.8</td>\n",
       "      <td>58.4</td>\n",
       "      <td>12.9</td>\n",
       "    </tr>\n",
       "  </tbody>\n",
       "</table>\n",
       "</div>"
      ],
      "text/plain": [
       "   Unnamed: 0     TV  Radio  Newspaper  Sales\n",
       "0           1  230.1   37.8       69.2   22.1\n",
       "1           2   44.5   39.3       45.1   10.4\n",
       "2           3   17.2   45.9       69.3    9.3\n",
       "3           4  151.5   41.3       58.5   18.5\n",
       "4           5  180.8   10.8       58.4   12.9"
      ]
     },
     "execution_count": 3,
     "metadata": {},
     "output_type": "execute_result"
    }
   ],
   "source": [
    "Ad_df = pd.read_csv('Advertising.csv')\n",
    "\n",
    "# we have loaded the data into the Ad_df data frame. Let us now have a quick look.\n",
    "Ad_df.head()"
   ]
  },
  {
   "cell_type": "code",
   "execution_count": 4,
   "metadata": {
    "id": "dQD08slX6tVt"
   },
   "outputs": [],
   "source": [
    "# we can drop the first column as it is just the index\n",
    "Ad_df.drop(columns = 'Unnamed: 0', inplace=True)"
   ]
  },
  {
   "cell_type": "code",
   "execution_count": 5,
   "metadata": {
    "colab": {
     "base_uri": "https://localhost:8080/",
     "height": 416
    },
    "id": "PHN8-pYv7IAP",
    "outputId": "19cfac7e-d7c5-45da-b20f-4fb03cc6ca6f"
   },
   "outputs": [
    {
     "data": {
      "text/html": [
       "<div>\n",
       "<style scoped>\n",
       "    .dataframe tbody tr th:only-of-type {\n",
       "        vertical-align: middle;\n",
       "    }\n",
       "\n",
       "    .dataframe tbody tr th {\n",
       "        vertical-align: top;\n",
       "    }\n",
       "\n",
       "    .dataframe thead th {\n",
       "        text-align: right;\n",
       "    }\n",
       "</style>\n",
       "<table border=\"1\" class=\"dataframe\">\n",
       "  <thead>\n",
       "    <tr style=\"text-align: right;\">\n",
       "      <th></th>\n",
       "      <th>TV</th>\n",
       "      <th>Radio</th>\n",
       "      <th>Newspaper</th>\n",
       "      <th>Sales</th>\n",
       "    </tr>\n",
       "  </thead>\n",
       "  <tbody>\n",
       "    <tr>\n",
       "      <th>0</th>\n",
       "      <td>230.1</td>\n",
       "      <td>37.8</td>\n",
       "      <td>69.2</td>\n",
       "      <td>22.1</td>\n",
       "    </tr>\n",
       "    <tr>\n",
       "      <th>1</th>\n",
       "      <td>44.5</td>\n",
       "      <td>39.3</td>\n",
       "      <td>45.1</td>\n",
       "      <td>10.4</td>\n",
       "    </tr>\n",
       "    <tr>\n",
       "      <th>2</th>\n",
       "      <td>17.2</td>\n",
       "      <td>45.9</td>\n",
       "      <td>69.3</td>\n",
       "      <td>9.3</td>\n",
       "    </tr>\n",
       "    <tr>\n",
       "      <th>3</th>\n",
       "      <td>151.5</td>\n",
       "      <td>41.3</td>\n",
       "      <td>58.5</td>\n",
       "      <td>18.5</td>\n",
       "    </tr>\n",
       "    <tr>\n",
       "      <th>4</th>\n",
       "      <td>180.8</td>\n",
       "      <td>10.8</td>\n",
       "      <td>58.4</td>\n",
       "      <td>12.9</td>\n",
       "    </tr>\n",
       "    <tr>\n",
       "      <th>...</th>\n",
       "      <td>...</td>\n",
       "      <td>...</td>\n",
       "      <td>...</td>\n",
       "      <td>...</td>\n",
       "    </tr>\n",
       "    <tr>\n",
       "      <th>195</th>\n",
       "      <td>38.2</td>\n",
       "      <td>3.7</td>\n",
       "      <td>13.8</td>\n",
       "      <td>7.6</td>\n",
       "    </tr>\n",
       "    <tr>\n",
       "      <th>196</th>\n",
       "      <td>94.2</td>\n",
       "      <td>4.9</td>\n",
       "      <td>8.1</td>\n",
       "      <td>9.7</td>\n",
       "    </tr>\n",
       "    <tr>\n",
       "      <th>197</th>\n",
       "      <td>177.0</td>\n",
       "      <td>9.3</td>\n",
       "      <td>6.4</td>\n",
       "      <td>12.8</td>\n",
       "    </tr>\n",
       "    <tr>\n",
       "      <th>198</th>\n",
       "      <td>283.6</td>\n",
       "      <td>42.0</td>\n",
       "      <td>66.2</td>\n",
       "      <td>25.5</td>\n",
       "    </tr>\n",
       "    <tr>\n",
       "      <th>199</th>\n",
       "      <td>232.1</td>\n",
       "      <td>8.6</td>\n",
       "      <td>8.7</td>\n",
       "      <td>13.4</td>\n",
       "    </tr>\n",
       "  </tbody>\n",
       "</table>\n",
       "<p>200 rows × 4 columns</p>\n",
       "</div>"
      ],
      "text/plain": [
       "        TV  Radio  Newspaper  Sales\n",
       "0    230.1   37.8       69.2   22.1\n",
       "1     44.5   39.3       45.1   10.4\n",
       "2     17.2   45.9       69.3    9.3\n",
       "3    151.5   41.3       58.5   18.5\n",
       "4    180.8   10.8       58.4   12.9\n",
       "..     ...    ...        ...    ...\n",
       "195   38.2    3.7       13.8    7.6\n",
       "196   94.2    4.9        8.1    9.7\n",
       "197  177.0    9.3        6.4   12.8\n",
       "198  283.6   42.0       66.2   25.5\n",
       "199  232.1    8.6        8.7   13.4\n",
       "\n",
       "[200 rows x 4 columns]"
      ]
     },
     "execution_count": 5,
     "metadata": {},
     "output_type": "execute_result"
    }
   ],
   "source": [
    "Ad_df"
   ]
  },
  {
   "cell_type": "code",
   "execution_count": 6,
   "metadata": {
    "colab": {
     "base_uri": "https://localhost:8080/"
    },
    "id": "lPtSvD8T-ALA",
    "outputId": "a18e28e4-458e-4708-941d-9eb423fd6653"
   },
   "outputs": [
    {
     "name": "stdout",
     "output_type": "stream",
     "text": [
      "<class 'pandas.core.frame.DataFrame'>\n",
      "RangeIndex: 200 entries, 0 to 199\n",
      "Data columns (total 4 columns):\n",
      " #   Column     Non-Null Count  Dtype  \n",
      "---  ------     --------------  -----  \n",
      " 0   TV         200 non-null    float64\n",
      " 1   Radio      200 non-null    float64\n",
      " 2   Newspaper  200 non-null    float64\n",
      " 3   Sales      200 non-null    float64\n",
      "dtypes: float64(4)\n",
      "memory usage: 6.4 KB\n"
     ]
    }
   ],
   "source": [
    "Ad_df.info()"
   ]
  },
  {
   "cell_type": "markdown",
   "metadata": {
    "id": "TtclE25ghs4f"
   },
   "source": [
    "**Observations:** All the variables are of float data type."
   ]
  },
  {
   "cell_type": "markdown",
   "metadata": {
    "id": "vdPHnnpw_9oV"
   },
   "source": [
    "### Let us now start with the simple linear regression. We will use one feature at a time and have a look at the target variable. "
   ]
  },
  {
   "cell_type": "code",
   "execution_count": 7,
   "metadata": {
    "id": "q4UTFBGd9_Dr"
   },
   "outputs": [],
   "source": [
    "# Dataset is stored in a Pandas Dataframe. Let us take out all the variables in a numpy array.\n",
    "Sales = Ad_df.Sales.values.reshape(len(Ad_df['Sales']), 1)\n",
    "TV = Ad_df.TV.values.reshape(len(Ad_df['Sales']), 1)\n",
    "Radio = Ad_df.Radio.values.reshape(len(Ad_df['Sales']), 1)\n",
    "Newspaper = Ad_df.Newspaper.values.reshape(len(Ad_df['Sales']), 1)"
   ]
  },
  {
   "cell_type": "code",
   "execution_count": 8,
   "metadata": {
    "colab": {
     "base_uri": "https://localhost:8080/",
     "height": 107
    },
    "id": "Q4CKboT-CBgP",
    "outputId": "f8a42090-b219-41dd-db44-d5d42077480d"
   },
   "outputs": [
    {
     "data": {
      "text/html": [
       "<div>\n",
       "<style scoped>\n",
       "    .dataframe tbody tr th:only-of-type {\n",
       "        vertical-align: middle;\n",
       "    }\n",
       "\n",
       "    .dataframe tbody tr th {\n",
       "        vertical-align: top;\n",
       "    }\n",
       "\n",
       "    .dataframe thead th {\n",
       "        text-align: right;\n",
       "    }\n",
       "</style>\n",
       "<table border=\"1\" class=\"dataframe\">\n",
       "  <thead>\n",
       "    <tr style=\"text-align: right;\">\n",
       "      <th></th>\n",
       "      <th>TV</th>\n",
       "      <th>Radio</th>\n",
       "      <th>Newspaper</th>\n",
       "    </tr>\n",
       "  </thead>\n",
       "  <tbody>\n",
       "    <tr>\n",
       "      <th>Intercept</th>\n",
       "      <td>7.032594</td>\n",
       "      <td>9.311638</td>\n",
       "      <td>12.351407</td>\n",
       "    </tr>\n",
       "    <tr>\n",
       "      <th>Coefficient</th>\n",
       "      <td>0.047537</td>\n",
       "      <td>0.202496</td>\n",
       "      <td>0.054693</td>\n",
       "    </tr>\n",
       "  </tbody>\n",
       "</table>\n",
       "</div>"
      ],
      "text/plain": [
       "                   TV     Radio  Newspaper\n",
       "Intercept    7.032594  9.311638  12.351407\n",
       "Coefficient  0.047537  0.202496   0.054693"
      ]
     },
     "execution_count": 8,
     "metadata": {},
     "output_type": "execute_result"
    }
   ],
   "source": [
    "# let us fit the simple linear regression model with the TV feature\n",
    "tv_model = linear_model.LinearRegression()\n",
    "tv_model.fit(TV, Sales)\n",
    "coeffs_tv = np.array(list(tv_model.intercept_.flatten()) + list(tv_model.coef_.flatten()))\n",
    "coeffs_tv = list(coeffs_tv)\n",
    "\n",
    "# let us fit the simple linear regression model with the Radio feature\n",
    "radio_model = linear_model.LinearRegression()\n",
    "radio_model.fit(Radio, Sales)\n",
    "coeffs_radio = np.array(list(radio_model.intercept_.flatten()) + list(radio_model.coef_.flatten()))\n",
    "coeffs_radio = list(coeffs_radio)\n",
    "\n",
    "# let us fit the simple linear regression model with the Newspaper feature\n",
    "newspaper_model = linear_model.LinearRegression()\n",
    "newspaper_model.fit(Newspaper, Sales)\n",
    "coeffs_newspaper = np.array(list(newspaper_model.intercept_.flatten()) + list(newspaper_model.coef_.flatten()))\n",
    "coeffs_newspaper = list(coeffs_newspaper)\n",
    "\n",
    "# let us store the above results in a dictionary and then display using a dataframe\n",
    "dict_Sales = {}\n",
    "dict_Sales[\"TV\"] = coeffs_tv\n",
    "dict_Sales[\"Radio\"] = coeffs_radio\n",
    "dict_Sales[\"Newspaper\"] = coeffs_newspaper\n",
    "\n",
    "metric_Df_SLR =  pd.DataFrame(dict_Sales)\n",
    "metric_Df_SLR.index = ['Intercept', 'Coefficient']\n",
    "metric_Df_SLR"
   ]
  },
  {
   "cell_type": "code",
   "execution_count": 9,
   "metadata": {
    "colab": {
     "base_uri": "https://localhost:8080/"
    },
    "id": "IFjl_ZoW_njD",
    "outputId": "565cbed8-9980-4342-e3ae-a71f12a60f06"
   },
   "outputs": [
    {
     "name": "stdout",
     "output_type": "stream",
     "text": [
      "TV simple linear regression R-Square : 0.611875050850071\n",
      "Radio simple linear regression R-Square : 0.33203245544529525\n",
      "Newspaper simple linear regression R-Square : 0.05212044544430516\n"
     ]
    },
    {
     "data": {
      "text/plain": [
       "[0.611875050850071, 0.33203245544529525, 0.05212044544430516]"
      ]
     },
     "execution_count": 9,
     "metadata": {},
     "output_type": "execute_result"
    }
   ],
   "source": [
    "# Let us now calculate R^2\n",
    "tv_rsq = tv_model.score(TV, Sales)\n",
    "radio_rsq = radio_model.score(Radio, Sales)\n",
    "newspaper_rsq = newspaper_model.score(Newspaper, Sales)\n",
    "\n",
    "print(\"TV simple linear regression R-Square :\", tv_rsq)\n",
    "print(\"Radio simple linear regression R-Square :\", radio_rsq)\n",
    "print(\"Newspaper simple linear regression R-Square :\", newspaper_rsq)\n",
    "list_rsq = [tv_rsq, radio_rsq, newspaper_rsq]\n",
    "list_rsq"
   ]
  },
  {
   "cell_type": "code",
   "execution_count": 10,
   "metadata": {
    "colab": {
     "base_uri": "https://localhost:8080/",
     "height": 137
    },
    "id": "jMAZXp21AGsB",
    "outputId": "ed6b95e1-2bf4-4393-8fc6-4b6fb4f3e701"
   },
   "outputs": [
    {
     "data": {
      "text/html": [
       "<div>\n",
       "<style scoped>\n",
       "    .dataframe tbody tr th:only-of-type {\n",
       "        vertical-align: middle;\n",
       "    }\n",
       "\n",
       "    .dataframe tbody tr th {\n",
       "        vertical-align: top;\n",
       "    }\n",
       "\n",
       "    .dataframe thead th {\n",
       "        text-align: right;\n",
       "    }\n",
       "</style>\n",
       "<table border=\"1\" class=\"dataframe\">\n",
       "  <thead>\n",
       "    <tr style=\"text-align: right;\">\n",
       "      <th></th>\n",
       "      <th>TV</th>\n",
       "      <th>Radio</th>\n",
       "      <th>Newspaper</th>\n",
       "    </tr>\n",
       "  </thead>\n",
       "  <tbody>\n",
       "    <tr>\n",
       "      <th>Intercept</th>\n",
       "      <td>7.032594</td>\n",
       "      <td>9.311638</td>\n",
       "      <td>12.351407</td>\n",
       "    </tr>\n",
       "    <tr>\n",
       "      <th>Coefficient</th>\n",
       "      <td>0.047537</td>\n",
       "      <td>0.202496</td>\n",
       "      <td>0.054693</td>\n",
       "    </tr>\n",
       "    <tr>\n",
       "      <th>R-Squared</th>\n",
       "      <td>0.611875</td>\n",
       "      <td>0.332032</td>\n",
       "      <td>0.052120</td>\n",
       "    </tr>\n",
       "  </tbody>\n",
       "</table>\n",
       "</div>"
      ],
      "text/plain": [
       "                   TV     Radio  Newspaper\n",
       "Intercept    7.032594  9.311638  12.351407\n",
       "Coefficient  0.047537  0.202496   0.054693\n",
       "R-Squared    0.611875  0.332032   0.052120"
      ]
     },
     "execution_count": 10,
     "metadata": {},
     "output_type": "execute_result"
    }
   ],
   "source": [
    "metric_Df_SLR.loc['R-Squared'] = list_rsq\n",
    "metric_Df_SLR"
   ]
  },
  {
   "cell_type": "markdown",
   "metadata": {
    "id": "Es84uRdJhs4i"
   },
   "source": [
    "**Observations:** We can see that TV has the highest R^2 value i.e. 61% followed by Radio and Newspaper"
   ]
  },
  {
   "cell_type": "markdown",
   "metadata": {
    "id": "6x63PBJxhs4i"
   },
   "source": [
    "Let's try to visualize the best fit line using the regression plot"
   ]
  },
  {
   "cell_type": "code",
   "execution_count": 11,
   "metadata": {
    "colab": {
     "base_uri": "https://localhost:8080/",
     "height": 803
    },
    "id": "_R45kkSNQxPx",
    "outputId": "a051ffa7-cf28-41ae-8fcd-32d0ee2ad30a"
   },
   "outputs": [
    {
     "data": {
      "image/png": "[encoded data removed]",
      "text/plain": [
       "<Figure size 432x288 with 1 Axes>"
      ]
     },
     "metadata": {
      "needs_background": "light"
     },
     "output_type": "display_data"
    },
    {
     "data": {
      "image/png": "[encoded data removed]",
      "text/plain": [
       "<Figure size 432x288 with 1 Axes>"
      ]
     },
     "metadata": {
      "needs_background": "light"
     },
     "output_type": "display_data"
    },
    {
     "data": {
      "image/png": "[encoded data removed]",
      "text/plain": [
       "<Figure size 432x288 with 1 Axes>"
      ]
     },
     "metadata": {
      "needs_background": "light"
     },
     "output_type": "display_data"
    }
   ],
   "source": [
    "plt.scatter(TV, Sales,  color='red')\n",
    "plt.xlabel('TV Ads')\n",
    "plt.ylabel('Sales')\n",
    "plt.plot(TV, tv_model.predict(TV), color='blue', linewidth=3)\n",
    "plt.show()\n",
    "\n",
    "plt.scatter(Radio, Sales,  color='red')\n",
    "plt.xlabel('Radio Ads')\n",
    "plt.ylabel('Sales')\n",
    "plt.plot(Radio, radio_model.predict(Radio), color='blue', linewidth=3)\n",
    "plt.show()\n",
    "\n",
    "plt.scatter(Newspaper, Sales,  color='red')\n",
    "plt.xlabel('Newspaper Ads')\n",
    "plt.ylabel('Sales')\n",
    "plt.plot(Newspaper, newspaper_model.predict(Newspaper), color='blue', linewidth=3)\n",
    "plt.show()\n"
   ]
  },
  {
   "cell_type": "markdown",
   "metadata": {
    "id": "QxiuPBWPQnKm"
   },
   "source": [
    "## Multiple Linear Regression\n",
    "\n",
    "- Let us now build a multiple linear regression model."
   ]
  },
  {
   "cell_type": "code",
   "execution_count": 12,
   "metadata": {
    "colab": {
     "base_uri": "https://localhost:8080/"
    },
    "id": "p0XdOsasQ_uq",
    "outputId": "1e84b03f-b378-45d7-9dc5-eaf412a0d233"
   },
   "outputs": [
    {
     "data": {
      "text/plain": [
       "LinearRegression()"
      ]
     },
     "execution_count": 12,
     "metadata": {},
     "output_type": "execute_result"
    }
   ],
   "source": [
    "mlr_model = linear_model.LinearRegression()\n",
    "mlr_model.fit(Ad_df[['TV', 'Radio', 'Newspaper']], Ad_df['Sales'])"
   ]
  },
  {
   "cell_type": "code",
   "execution_count": 13,
   "metadata": {
    "id": "f45Fynt_WSIr"
   },
   "outputs": [],
   "source": [
    "Ad_df['Sales_Predicted']  = mlr_model.predict(Ad_df[['TV', 'Radio', 'Newspaper']]) \n",
    "Ad_df['Error'] = (Ad_df['Sales_Predicted'] - Ad_df['Sales'])**2\n",
    "MSE_MLR = Ad_df['Error'].mean()"
   ]
  },
  {
   "cell_type": "code",
   "execution_count": 14,
   "metadata": {
    "colab": {
     "base_uri": "https://localhost:8080/"
    },
    "id": "2IR7lKmrYCpl",
    "outputId": "6396556a-5894-4906-8813-df3812f74706"
   },
   "outputs": [
    {
     "data": {
      "text/plain": [
       "2.784126314510937"
      ]
     },
     "execution_count": 14,
     "metadata": {},
     "output_type": "execute_result"
    }
   ],
   "source": [
    "MSE_MLR"
   ]
  },
  {
   "cell_type": "code",
   "execution_count": 15,
   "metadata": {
    "colab": {
     "base_uri": "https://localhost:8080/"
    },
    "id": "yXJ6F7b5OqPI",
    "outputId": "86c85dea-76e6-4860-e13f-f315c9407c2d"
   },
   "outputs": [
    {
     "data": {
      "text/plain": [
       "0.8972106381789522"
      ]
     },
     "execution_count": 15,
     "metadata": {},
     "output_type": "execute_result"
    }
   ],
   "source": [
    "mlr_model.score(Ad_df[['TV', 'Radio', 'Newspaper']], Ad_df['Sales'])"
   ]
  },
  {
   "cell_type": "markdown",
   "metadata": {
    "id": "qsZJ-jimhs4k"
   },
   "source": [
    "**Observations:** The R^2 value for the multiple linear regression comes out to be 89.7% i.e. way better than simple linear regression"
   ]
  },
  {
   "cell_type": "markdown",
   "metadata": {
    "id": "UijVypbEhs4k"
   },
   "source": [
    "Let's now try to use statsmodel to get a more detailed model interpretation"
   ]
  },
  {
   "cell_type": "code",
   "execution_count": 16,
   "metadata": {
    "colab": {
     "base_uri": "https://localhost:8080/"
    },
    "id": "qjFCh7tkWf0M",
    "outputId": "5dbf05c8-631e-4d00-9b19-743ba7e18954"
   },
   "outputs": [
    {
     "name": "stdout",
     "output_type": "stream",
     "text": [
      "                            OLS Regression Results                            \n",
      "==============================================================================\n",
      "Dep. Variable:                  Sales   R-squared:                       0.897\n",
      "Model:                            OLS   Adj. R-squared:                  0.896\n",
      "Method:                 Least Squares   F-statistic:                     570.3\n",
      "Date:                Wed, 20 Oct 2021   Prob (F-statistic):           1.58e-96\n",
      "Time:                        18:48:22   Log-Likelihood:                -386.18\n",
      "No. Observations:                 200   AIC:                             780.4\n",
      "Df Residuals:                     196   BIC:                             793.6\n",
      "Df Model:                           3                                         \n",
      "Covariance Type:            nonrobust                                         \n",
      "==============================================================================\n",
      "                 coef    std err          t      P>|t|      [0.025      0.975]\n",
      "------------------------------------------------------------------------------\n",
      "Intercept      2.9389      0.312      9.422      0.000       2.324       3.554\n",
      "TV             0.0458      0.001     32.809      0.000       0.043       0.049\n",
      "Radio          0.1885      0.009     21.893      0.000       0.172       0.206\n",
      "Newspaper     -0.0010      0.006     -0.177      0.860      -0.013       0.011\n",
      "==============================================================================\n",
      "Omnibus:                       60.414   Durbin-Watson:                   2.084\n",
      "Prob(Omnibus):                  0.000   Jarque-Bera (JB):              151.241\n",
      "Skew:                          -1.327   Prob(JB):                     1.44e-33\n",
      "Kurtosis:                       6.332   Cond. No.                         454.\n",
      "==============================================================================\n",
      "\n",
      "Notes:\n",
      "[1] Standard Errors assume that the covariance matrix of the errors is correctly specified.\n"
     ]
    }
   ],
   "source": [
    "# let us get a more detailed model through statsmodel.\n",
    "import statsmodels.formula.api as smf\n",
    "lm1 = smf.ols(formula= 'Sales ~ TV+Radio+Newspaper', data = Ad_df).fit()\n",
    "lm1.params\n",
    "print(lm1.summary())  #Inferential statistics"
   ]
  },
  {
   "cell_type": "code",
   "execution_count": 17,
   "metadata": {
    "colab": {
     "base_uri": "https://localhost:8080/"
    },
    "id": "w2aGVrtKnY7G",
    "outputId": "52b420f6-4dd9-427d-d7f6-b3768e289483"
   },
   "outputs": [
    {
     "name": "stdout",
     "output_type": "stream",
     "text": [
      "*************Parameters**************\n",
      "Intercept    2.938889\n",
      "TV           0.045765\n",
      "Radio        0.188530\n",
      "Newspaper   -0.001037\n",
      "dtype: float64\n",
      "*************P-Values**************\n",
      "Intercept    1.267295e-17\n",
      "TV           1.509960e-81\n",
      "Radio        1.505339e-54\n",
      "Newspaper    8.599151e-01\n",
      "dtype: float64\n",
      "************Standard Errors***************\n",
      "Intercept    0.311908\n",
      "TV           0.001395\n",
      "Radio        0.008611\n",
      "Newspaper    0.005871\n",
      "dtype: float64\n",
      "*************Confidence Interval**************\n",
      "                  0         1\n",
      "Intercept  2.323762  3.554016\n",
      "TV         0.043014  0.048516\n",
      "Radio      0.171547  0.205513\n",
      "Newspaper -0.012616  0.010541\n",
      "*************Error Covariance Matrix**************\n",
      "           Intercept            TV         Radio     Newspaper\n",
      "Intercept   0.097287 -2.657273e-04 -1.115489e-03 -5.910212e-04\n",
      "TV         -0.000266  1.945737e-06 -4.470395e-07 -3.265950e-07\n",
      "Radio      -0.001115 -4.470395e-07  7.415335e-05 -1.780062e-05\n",
      "Newspaper  -0.000591 -3.265950e-07 -1.780062e-05  3.446875e-05\n"
     ]
    }
   ],
   "source": [
    "print(\"*************Parameters**************\")\n",
    "print(lm1.params)\n",
    "print(\"*************P-Values**************\")\n",
    "print(lm1.pvalues)\n",
    "print(\"************Standard Errors***************\")\n",
    "print(lm1.bse) \n",
    "print(\"*************Confidence Interval**************\")\n",
    "print(lm1.conf_int())\n",
    "print(\"*************Error Covariance Matrix**************\")\n",
    "print(lm1.cov_params())\n"
   ]
  },
  {
   "cell_type": "markdown",
   "metadata": {
    "id": "drlo5QI2h2oY"
   },
   "source": [
    "### Visualizing the confidence bands in Simple linear regression"
   ]
  },
  {
   "cell_type": "code",
   "execution_count": 18,
   "metadata": {
    "colab": {
     "base_uri": "https://localhost:8080/",
     "height": 1000
    },
    "id": "daxXRhFiip3e",
    "outputId": "97113a83-dc13-4b6f-c95d-7158305f0016"
   },
   "outputs": [
    {
     "data": {
      "text/plain": [
       "<seaborn.axisgrid.FacetGrid at 0x1f39c22f0a0>"
      ]
     },
     "execution_count": 18,
     "metadata": {},
     "output_type": "execute_result"
    },
    {
     "data": {
      "image/png": "[encoded data removed]",
      "text/plain": [
       "<Figure size 360x360 with 1 Axes>"
      ]
     },
     "metadata": {
      "needs_background": "light"
     },
     "output_type": "display_data"
    },
    {
     "data": {
      "image/png": "[encoded data removed]",
      "text/plain": [
       "<Figure size 360x360 with 1 Axes>"
      ]
     },
     "metadata": {
      "needs_background": "light"
     },
     "output_type": "display_data"
    },
    {
     "data": {
      "image/png": "[encoded data removed]",
      "text/plain": [
       "<Figure size 360x360 with 1 Axes>"
      ]
     },
     "metadata": {
      "needs_background": "light"
     },
     "output_type": "display_data"
    }
   ],
   "source": [
    "import seaborn as sns\n",
    "sns.lmplot(x = 'TV', y = 'Sales', data = Ad_df)\n",
    "\n",
    "sns.lmplot(x = 'Radio', y = 'Sales', data = Ad_df )\n",
    "\n",
    "sns.lmplot(x = 'Newspaper', y = 'Sales', data = Ad_df)"
   ]
  },
  {
   "cell_type": "markdown",
   "metadata": {
    "id": "GGCcusUsz_Az"
   },
   "source": [
    "# LVC  2 - Model Evaluation: Cross validation and Bootstrapping\n",
    "\n",
    "- We realize that the newspaper can be omitted from the list of significant features owing to the p-value.\n",
    "- Let us now run the regression analysis adding a multiplicative feature in it."
   ]
  },
  {
   "cell_type": "code",
   "execution_count": 19,
   "metadata": {
    "id": "zTSASn2az9-B"
   },
   "outputs": [],
   "source": [
    "Ad_df['TVandRadio'] = Ad_df['TV']*Ad_df['Radio']"
   ]
  },
  {
   "cell_type": "code",
   "execution_count": 20,
   "metadata": {
    "id": "h_EfN22CWf5W"
   },
   "outputs": [],
   "source": [
    "# let us remove the sales_predicted and the error column generated earlier\n",
    "Ad_df.drop(columns = [\"Error\", \"Sales_Predicted\"], inplace = True)"
   ]
  },
  {
   "cell_type": "code",
   "execution_count": 21,
   "metadata": {
    "colab": {
     "base_uri": "https://localhost:8080/"
    },
    "id": "rz8DKNiF2QxK",
    "outputId": "03de5d64-01ed-4699-bb1f-8830b5247928"
   },
   "outputs": [
    {
     "name": "stdout",
     "output_type": "stream",
     "text": [
      "                            OLS Regression Results                            \n",
      "==============================================================================\n",
      "Dep. Variable:                  Sales   R-squared:                       0.968\n",
      "Model:                            OLS   Adj. R-squared:                  0.967\n",
      "Method:                 Least Squares   F-statistic:                     1466.\n",
      "Date:                Wed, 20 Oct 2021   Prob (F-statistic):          2.92e-144\n",
      "Time:                        18:48:25   Log-Likelihood:                -270.04\n",
      "No. Observations:                 200   AIC:                             550.1\n",
      "Df Residuals:                     195   BIC:                             566.6\n",
      "Df Model:                           4                                         \n",
      "Covariance Type:            nonrobust                                         \n",
      "==============================================================================\n",
      "                 coef    std err          t      P>|t|      [0.025      0.975]\n",
      "------------------------------------------------------------------------------\n",
      "Intercept      6.7284      0.253     26.561      0.000       6.229       7.228\n",
      "TV             0.0191      0.002     12.633      0.000       0.016       0.022\n",
      "Radio          0.0280      0.009      3.062      0.003       0.010       0.046\n",
      "Newspaper      0.0014      0.003      0.438      0.662      -0.005       0.008\n",
      "TVandRadio     0.0011   5.26e-05     20.686      0.000       0.001       0.001\n",
      "==============================================================================\n",
      "Omnibus:                      126.161   Durbin-Watson:                   2.216\n",
      "Prob(Omnibus):                  0.000   Jarque-Bera (JB):             1123.463\n",
      "Skew:                          -2.291   Prob(JB):                    1.10e-244\n",
      "Kurtosis:                      13.669   Cond. No.                     1.84e+04\n",
      "==============================================================================\n",
      "\n",
      "Notes:\n",
      "[1] Standard Errors assume that the covariance matrix of the errors is correctly specified.\n",
      "[2] The condition number is large, 1.84e+04. This might indicate that there are\n",
      "strong multicollinearity or other numerical problems.\n"
     ]
    }
   ],
   "source": [
    "# Let us do the modelling with the new feature.\n",
    "import statsmodels.formula.api as smf\n",
    "lm2 = smf.ols(formula= 'Sales ~ TV+Radio+Newspaper+TVandRadio', data = Ad_df).fit()\n",
    "lm2.params\n",
    "print(lm2.summary())  #Inferential statistics"
   ]
  },
  {
   "cell_type": "markdown",
   "metadata": {
    "id": "NslaNwMQFjL1"
   },
   "source": [
    "**Observations**\n",
    "- We see an increase in the R-square here. However, is this model useful for prediction? Does it predict well for the unseen data? Let us find out!"
   ]
  },
  {
   "cell_type": "markdown",
   "metadata": {
    "id": "d46mQv0BUKZ8"
   },
   "source": [
    "## Performance assessment, testing and validation"
   ]
  },
  {
   "cell_type": "markdown",
   "metadata": {
    "id": "-EAcqssG3pr0"
   },
   "source": [
    "### Train, Test, and Validation set\n",
    "- We will split data into three sets, one to train the model, one to validate the model performance (not seen during training) and make improvements, and the last to test the model."
   ]
  },
  {
   "cell_type": "code",
   "execution_count": 22,
   "metadata": {
    "id": "uQTTvaQ_3C6D"
   },
   "outputs": [],
   "source": [
    "from sklearn.model_selection import train_test_split"
   ]
  },
  {
   "cell_type": "code",
   "execution_count": 23,
   "metadata": {
    "id": "RRerX1zyDUlM"
   },
   "outputs": [],
   "source": [
    "features_base = [i for i in Ad_df.columns if i not in (\"Sales\" , \"TVandRadio\")]\n",
    "features_added = [i for i in Ad_df.columns if i not in \"Sales\"]\n",
    "target  = 'Sales'\n",
    "train, test = train_test_split(Ad_df, test_size = 0.10, train_size = 0.9)"
   ]
  },
  {
   "cell_type": "code",
   "execution_count": 24,
   "metadata": {
    "id": "ztuTrjlsDUq0"
   },
   "outputs": [],
   "source": [
    "train, validation = train_test_split(train, test_size = 0.2, train_size = 0.80)"
   ]
  },
  {
   "cell_type": "code",
   "execution_count": 25,
   "metadata": {
    "colab": {
     "base_uri": "https://localhost:8080/"
    },
    "id": "jgm44JjJDUtK",
    "outputId": "70e21eef-268e-4057-edaf-9ccad11bfb3c"
   },
   "outputs": [
    {
     "data": {
      "text/plain": [
       "((144, 5), (36, 5), (20, 5))"
      ]
     },
     "execution_count": 25,
     "metadata": {},
     "output_type": "execute_result"
    }
   ],
   "source": [
    "train.shape, validation.shape,test.shape"
   ]
  },
  {
   "cell_type": "code",
   "execution_count": 26,
   "metadata": {
    "colab": {
     "base_uri": "https://localhost:8080/"
    },
    "id": "BCsbEBPoDUwm",
    "outputId": "c0379528-f2c5-4266-d184-084272c7c1a2"
   },
   "outputs": [
    {
     "name": "stdout",
     "output_type": "stream",
     "text": [
      "*********Training set Metrics**************\n",
      "R-Squared: 0.9226370747029704\n",
      "MSE:  1.9700825596239402\n",
      "********Validation set Metrics**************\n",
      "R-Squared: 0.8519409947590885\n",
      "MSE:  4.387631513713752\n"
     ]
    }
   ],
   "source": [
    "# now let us start with the modelling\n",
    "from sklearn.linear_model import LinearRegression\n",
    "\n",
    "mlr = LinearRegression()\n",
    "mlr.fit(train[features_base], train[target])\n",
    "print(\"*********Training set Metrics**************\")\n",
    "print(\"R-Squared:\", mlr.score(train[features_base], train[target]))\n",
    "se_train = (train[target] - mlr.predict(train[features_base]))**2\n",
    "mse_train = se_train.mean()\n",
    "print('MSE: ', mse_train)\n",
    "print(\"********Validation set Metrics**************\")\n",
    "print(\"R-Squared:\", mlr.score(validation[features_base], validation[target]))\n",
    "se_val = (validation[target] - mlr.predict(validation[features_base]))**2\n",
    "mse_val = se_val.mean()\n",
    "print('MSE: ', mse_val)"
   ]
  },
  {
   "cell_type": "code",
   "execution_count": 27,
   "metadata": {},
   "outputs": [
    {
     "data": {
      "text/plain": [
       "array([10.36407277])"
      ]
     },
     "execution_count": 27,
     "metadata": {},
     "output_type": "execute_result"
    }
   ],
   "source": [
    "mlr.predict(validation[features_base].head(1))"
   ]
  },
  {
   "cell_type": "code",
   "execution_count": 28,
   "metadata": {
    "colab": {
     "base_uri": "https://localhost:8080/"
    },
    "id": "BhMVT0OoI-ZR",
    "outputId": "04a4abfe-d2f9-46f0-87f7-721e493f15d1"
   },
   "outputs": [
    {
     "name": "stdout",
     "output_type": "stream",
     "text": [
      "*********Training set Metrics**************\n",
      "R-Squared: 0.9761312753032821\n",
      "MSE:  0.607828078694364\n",
      "********Validation set Metrics**************\n",
      "R-Squared: 0.9668918423197169\n",
      "MSE:  0.9811385383999186\n"
     ]
    }
   ],
   "source": [
    "# Can we increase the model performance by adding the new feature? \n",
    "# We found that to be the case in the analysis above but let's check the same for the validation dataset\n",
    "\n",
    "mlr_added_feature = LinearRegression()\n",
    "mlr_added_feature.fit(train[features_added], train[target])\n",
    "print(\"*********Training set Metrics**************\")\n",
    "print(\"R-Squared:\", mlr_added_feature.score(train[features_added], train[target]))\n",
    "se_train = (train[target] - mlr_added_feature.predict(train[features_added]))**2\n",
    "mse_train = se_train.mean()\n",
    "print('MSE: ', mse_train)\n",
    "print(\"********Validation set Metrics**************\")\n",
    "print(\"R-Squared:\", mlr_added_feature.score(validation[features_added], validation[target]))\n",
    "se_val = (validation[target] - mlr_added_feature.predict(validation[features_added]))**2\n",
    "mse_val = se_val.mean()\n",
    "print('MSE: ', mse_val)"
   ]
  },
  {
   "cell_type": "markdown",
   "metadata": {
    "id": "b6lpvtsONOad"
   },
   "source": [
    "**Observations**\n",
    "- We found the R-squared increased as we would expect after adding a feature. Also the error decreased. Let us now fit a regularized model."
   ]
  },
  {
   "cell_type": "markdown",
   "metadata": {},
   "source": [
    "## Regularization "
   ]
  },
  {
   "cell_type": "code",
   "execution_count": 29,
   "metadata": {
    "colab": {
     "base_uri": "https://localhost:8080/"
    },
    "id": "zvJSmJcAQ5-L",
    "outputId": "63767378-2ff9-4ee1-9b62-d8cb15a811a5"
   },
   "outputs": [
    {
     "data": {
      "text/plain": [
       "['TV', 'Radio', 'Newspaper', 'TVandRadio']"
      ]
     },
     "execution_count": 29,
     "metadata": {},
     "output_type": "execute_result"
    }
   ],
   "source": [
    "features_added"
   ]
  },
  {
   "cell_type": "code",
   "execution_count": 30,
   "metadata": {
    "colab": {
     "base_uri": "https://localhost:8080/"
    },
    "id": "aZoBlRnCKge6",
    "outputId": "35c9fbe9-98eb-45c0-c2a7-6b4a528cd5c7"
   },
   "outputs": [
    {
     "name": "stdout",
     "output_type": "stream",
     "text": [
      "*********Training set Metrics**************\n",
      "R-Squared: 0.976131275157961\n",
      "MSE:  0.6078280823950323\n",
      "********Validation set Metrics**************\n",
      "R-Squared: 0.9668943356689554\n",
      "MSE:  0.9810646496305344\n"
     ]
    }
   ],
   "source": [
    "from sklearn.linear_model import Ridge\n",
    "from sklearn.linear_model import Lasso\n",
    "\n",
    "#fitting Ridge with the default features\n",
    "ridge = Ridge()\n",
    "ridge.fit(train[features_added], train[target])\n",
    "\n",
    "print(\"*********Training set Metrics**************\")\n",
    "print(\"R-Squared:\", ridge.score(train[features_added], train[target]))\n",
    "se_train = (train[target] - ridge.predict(train[features_added]))**2\n",
    "mse_train = se_train.mean()\n",
    "print('MSE: ', mse_train)\n",
    "print(\"********Validation set Metrics**************\")\n",
    "print(\"R-Squared:\", ridge.score(validation[features_added], validation[target]))\n",
    "se_val = (validation[target] - ridge.predict(validation[features_added]))**2\n",
    "mse_val = se_val.mean()\n",
    "print('MSE: ', mse_val)"
   ]
  },
  {
   "cell_type": "code",
   "execution_count": 31,
   "metadata": {},
   "outputs": [
    {
     "data": {
      "text/plain": [
       "array([9.85997505])"
      ]
     },
     "execution_count": 31,
     "metadata": {},
     "output_type": "execute_result"
    }
   ],
   "source": [
    "ridge.predict(validation[features_added].head(1))"
   ]
  },
  {
   "cell_type": "code",
   "execution_count": 32,
   "metadata": {
    "colab": {
     "base_uri": "https://localhost:8080/"
    },
    "id": "oL3Px7TORUVN",
    "outputId": "7f4f9f05-2222-4172-b2d7-0c4d470bc211"
   },
   "outputs": [
    {
     "name": "stdout",
     "output_type": "stream",
     "text": [
      "*********Training set Metrics**************\n",
      "R-Squared: 0.9751017775695029\n",
      "MSE:  0.6340447131184599\n",
      "********Validation set Metrics**************\n",
      "R-Squared: 0.9719731322364169\n",
      "MSE:  0.8305578443546507\n"
     ]
    }
   ],
   "source": [
    "from sklearn.linear_model import Ridge\n",
    "from sklearn.linear_model import Lasso\n",
    "\n",
    "#fitting Lasso with the default features\n",
    "lasso = Lasso()\n",
    "lasso.fit(train[features_added], train[target])\n",
    "\n",
    "print(\"*********Training set Metrics**************\")\n",
    "print(\"R-Squared:\", lasso.score(train[features_added], train[target]))\n",
    "se_train = (train[target] - lasso.predict(train[features_added]))**2\n",
    "mse_train = se_train.mean()\n",
    "print('MSE: ', mse_train)\n",
    "print(\"********Validation set Metrics**************\")\n",
    "print(\"R-Squared:\", lasso.score(validation[features_added], validation[target]))\n",
    "se_val = (validation[target] - lasso.predict(validation[features_added]))**2\n",
    "mse_val = se_val.mean()\n",
    "print('MSE: ', mse_val)"
   ]
  },
  {
   "cell_type": "code",
   "execution_count": 33,
   "metadata": {
    "colab": {
     "base_uri": "https://localhost:8080/"
    },
    "id": "auLl5-cWRhKb",
    "outputId": "547a604e-d1ce-4364-c753-a0860242ec4e"
   },
   "outputs": [
    {
     "name": "stdout",
     "output_type": "stream",
     "text": [
      "*****************Test set Metrics******************\n",
      "Rsquared:  0.8979205295129417\n",
      "MSE:  3.1716499798210993\n",
      "Intercept is 6.399289053636188 and Coefficients are [ 0.02037713  0.05552866 -0.00062904  0.00097491]\n"
     ]
    }
   ],
   "source": [
    "#Let us predict on the unseen data using Ridge\n",
    "\n",
    "rsq_test = ridge.score(test[features_added], test[target])\n",
    "se_test = (test[target] - ridge.predict(test[features_added]))**2\n",
    "mse_test = se_test.mean()\n",
    "\n",
    "print(\"*****************Test set Metrics******************\")\n",
    "\n",
    "print(\"Rsquared: \", rsq_test)\n",
    "print(\"MSE: \", mse_test)\n",
    "print(\"Intercept is {} and Coefficients are {}\".format(ridge.intercept_, ridge.coef_))"
   ]
  },
  {
   "cell_type": "markdown",
   "metadata": {
    "id": "SvdZcoUc9r4C"
   },
   "source": [
    "- We will now evaluate the performance using the LooCV and KFold methods.\n",
    "\n",
    "### K-Fold and LooCV"
   ]
  },
  {
   "cell_type": "code",
   "execution_count": 34,
   "metadata": {
    "id": "tY9Rz4rf9ql5"
   },
   "outputs": [],
   "source": [
    "from sklearn.linear_model import Ridge\n",
    "from sklearn.linear_model import Lasso\n",
    "from sklearn.model_selection import cross_val_score"
   ]
  },
  {
   "cell_type": "code",
   "execution_count": 35,
   "metadata": {
    "colab": {
     "base_uri": "https://localhost:8080/",
     "height": 105
    },
    "id": "WMcwry-h64ZA",
    "outputId": "aac321a0-ab04-4655-95de-f9ab260b03c4"
   },
   "outputs": [
    {
     "name": "stdout",
     "output_type": "stream",
     "text": [
      "Mean Score:\n",
      "0.9649887636257691 \n",
      "\n",
      "Confidence Interval:\n"
     ]
    },
    {
     "data": {
      "text/plain": [
       "(0.9430473456799694, 0.9869301815715689)"
      ]
     },
     "execution_count": 35,
     "metadata": {},
     "output_type": "execute_result"
    }
   ],
   "source": [
    "ridgeCV = Ridge()\n",
    "cvs = cross_val_score(ridgeCV, Ad_df[features_added], Ad_df[target], cv = 10)\n",
    "print(\"Mean Score:\")\n",
    "print(cvs.mean(), \"\\n\")\n",
    "print(\"Confidence Interval:\")\n",
    "cvs.mean() - cvs.std(), cvs.mean() + cvs.std() \n",
    "\n",
    "# note that the same can be set as LooCV if cv parameter above is set to n, i.e, 200."
   ]
  },
  {
   "cell_type": "markdown",
   "metadata": {
    "id": "id70R6LjYLEW"
   },
   "source": [
    "## Extra: Statsmodel to fit regularized model"
   ]
  },
  {
   "cell_type": "code",
   "execution_count": 36,
   "metadata": {
    "id": "XVfz6N4yCT09"
   },
   "outputs": [],
   "source": [
    "# You can also use the statsmodel for the regularization using the below code\n",
    "# import statsmodels.formula.api as smf\n",
    "# We will use the below code to fit a regularized regression.\n",
    "\n",
    "\n",
    "# Here, lasso is fit\n",
    "# lm3 = smf.ols(formula= 'Sales ~ TV+Radio+Newspaper+TVandRadio', data = Ad_df).fit_regularized(method = 'elastic_net', L1_wt = 1)\n",
    "# print(\"*************Parameters**************\")\n",
    "# print(lm3.params)\n",
    "\n",
    "# Here, ridge regularization has been fit\n",
    "# lm4 = smf.ols(formula= 'Sales ~ TV+Radio+Newspaper+TVandRadio', data = Ad_df).fit_regularized(method = 'elastic_net', L1_wt = 0)\n",
    "# print(\"*************Parameters**************\")\n",
    "# print(lm4.params)"
   ]
  },
  {
   "cell_type": "markdown",
   "metadata": {
    "id": "i6veKXLlmMWr"
   },
   "source": [
    "## Bootstrapping"
   ]
  },
  {
   "cell_type": "code",
   "execution_count": 37,
   "metadata": {
    "colab": {
     "base_uri": "https://localhost:8080/"
    },
    "id": "8FcvUb-YmLUP",
    "outputId": "d0785df0-11a5-4d5b-f419-778a4e0cfc30"
   },
   "outputs": [
    {
     "name": "stdout",
     "output_type": "stream",
     "text": [
      "                            OLS Regression Results                            \n",
      "==============================================================================\n",
      "Dep. Variable:                  Sales   R-squared:                       0.612\n",
      "Model:                            OLS   Adj. R-squared:                  0.610\n",
      "Method:                 Least Squares   F-statistic:                     312.1\n",
      "Date:                Wed, 20 Oct 2021   Prob (F-statistic):           1.47e-42\n",
      "Time:                        18:48:25   Log-Likelihood:                -519.05\n",
      "No. Observations:                 200   AIC:                             1042.\n",
      "Df Residuals:                     198   BIC:                             1049.\n",
      "Df Model:                           1                                         \n",
      "Covariance Type:            nonrobust                                         \n",
      "==============================================================================\n",
      "                 coef    std err          t      P>|t|      [0.025      0.975]\n",
      "------------------------------------------------------------------------------\n",
      "Intercept      7.0326      0.458     15.360      0.000       6.130       7.935\n",
      "TV             0.0475      0.003     17.668      0.000       0.042       0.053\n",
      "==============================================================================\n",
      "Omnibus:                        0.531   Durbin-Watson:                   1.935\n",
      "Prob(Omnibus):                  0.767   Jarque-Bera (JB):                0.669\n",
      "Skew:                          -0.089   Prob(JB):                        0.716\n",
      "Kurtosis:                       2.779   Cond. No.                         338.\n",
      "==============================================================================\n",
      "\n",
      "Notes:\n",
      "[1] Standard Errors assume that the covariance matrix of the errors is correctly specified.\n"
     ]
    }
   ],
   "source": [
    "# let us get a more detailed model through statsmodel.\n",
    "import statsmodels.formula.api as smf\n",
    "lm2 = smf.ols(formula= 'Sales ~ TV', data = Ad_df).fit()\n",
    "lm2.params\n",
    "print(lm2.summary())  #Inferential statistics"
   ]
  },
  {
   "cell_type": "code",
   "execution_count": 38,
   "metadata": {
    "colab": {
     "base_uri": "https://localhost:8080/",
     "height": 278
    },
    "id": "_qjK1Fn9UOJT",
    "outputId": "a848a024-c4d4-4987-a72c-b838625a9a00"
   },
   "outputs": [
    {
     "data": {
      "image/png": "[encoded data removed]",
      "text/plain": [
       "<Figure size 432x288 with 1 Axes>"
      ]
     },
     "metadata": {
      "needs_background": "light"
     },
     "output_type": "display_data"
    }
   ],
   "source": [
    "#Now, let us calculate the slopes a 1000 times using bootstrapping\n",
    "\n",
    "import statsmodels.formula.api as smf\n",
    "\n",
    "\n",
    "Slope = []\n",
    "for i in range(1000):\n",
    "  bootstrap_df = Ad_df.sample(n = 200, replace = True )\n",
    "  lm3 = smf.ols(formula= 'Sales ~ TV', data = bootstrap_df).fit()\n",
    "  Slope.append(lm3.params.TV)\n",
    "  \n",
    "  plt.xlabel('TV Ads')\n",
    "  plt.ylabel('Sales')\n",
    "  plt.plot(bootstrap_df['TV'], lm3.predict(bootstrap_df['TV']), color='green', linewidth=3)\n",
    "  \n",
    "plt.scatter(Ad_df['TV'], Ad_df['Sales'],  color=(0,0,0.5))\n",
    "plt.show()\n"
   ]
  },
  {
   "cell_type": "code",
   "execution_count": 39,
   "metadata": {
    "colab": {
     "base_uri": "https://localhost:8080/"
    },
    "id": "my0E81YkGwCN",
    "outputId": "e8aee2af-3ec0-489b-9e2c-d3a020689cb1"
   },
   "outputs": [
    {
     "data": {
      "text/plain": [
       "array([0.04207024, 0.05310089])"
      ]
     },
     "execution_count": 39,
     "metadata": {},
     "output_type": "execute_result"
    }
   ],
   "source": [
    "# Let's now find out the 2.5 and 97.5 percentile for the slopes obtained\n",
    "import numpy as np\n",
    "\n",
    "Slope = np.array(Slope)\n",
    "Sort_Slope = np.sort(Slope)\n",
    "\n",
    "\n",
    "Slope_limits = np.percentile(Sort_Slope, (2.5, 97.5))\n",
    "Slope_limits"
   ]
  },
  {
   "cell_type": "code",
   "execution_count": 40,
   "metadata": {
    "colab": {
     "base_uri": "https://localhost:8080/",
     "height": 282
    },
    "id": "tfuLE-9Hoh2G",
    "outputId": "a4719d2a-57ef-4abe-fc6a-660a53a50e07"
   },
   "outputs": [
    {
     "data": {
      "text/plain": [
       "<matplotlib.lines.Line2D at 0x1f39dfc9fa0>"
      ]
     },
     "execution_count": 40,
     "metadata": {},
     "output_type": "execute_result"
    },
    {
     "data": {
      "image/png": "[encoded data removed]",
      "text/plain": [
       "<Figure size 432x288 with 1 Axes>"
      ]
     },
     "metadata": {
      "needs_background": "light"
     },
     "output_type": "display_data"
    }
   ],
   "source": [
    "# Plotting the slopes and the upper and the lower limits\n",
    "\n",
    "plt.hist(Slope, 50)\n",
    "plt.axvline(Slope_limits[0], color = 'r')\n",
    "plt.axvline(Slope_limits[1], color = 'r')"
   ]
  }
 ],
 "metadata": {
  "colab": {
   "collapsed_sections": [],
   "name": "LVC_1_&_2_Practical_Application_Effects_of_Advertising_on_Sales.ipynb",
   "provenance": []
  },
  "kernelspec": {
   "display_name": "Python 3",
   "language": "python",
   "name": "python3"
  },
  "language_info": {
   "codemirror_mode": {
    "name": "ipython",
    "version": 3
   },
   "file_extension": ".py",
   "mimetype": "text/x-python",
   "name": "python",
   "nbconvert_exporter": "python",
   "pygments_lexer": "ipython3",
   "version": "3.8.8"
  }
 },
 "nbformat": 4,
 "nbformat_minor": 1
}
