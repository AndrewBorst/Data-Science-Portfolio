{
 "cells": [
  {
   "cell_type": "markdown",
   "metadata": {
    "id": "t1LKB8p3jWXv"
   },
   "source": [
    "# **MLS 2 Case Study - CNNs**"
   ]
  },
  {
   "cell_type": "markdown",
   "metadata": {
    "id": "i4wjHldi5Lnf"
   },
   "source": [
    "### **Context**"
   ]
  },
  {
   "cell_type": "markdown",
   "metadata": {
    "id": "dmIjv87jjZHw"
   },
   "source": [
    "**CIFAR-10** (Canadian Institute For Advanced Research) is a **collection of images with 10 different classes** representing airplanes, cars, birds, cats, deer, dogs, frogs, horses, ships, and trucks. **CIFAR-10 is a set of images that can be used to teach a computer how to recognize objects.**\n",
    "\n",
    "The CIFAR-10 dataset consists of 60000 32x32x3 i.e. color images in 10 classes, with 6000 images per class. There are 50000 training images and 10000 test images. You can learn more about this dataset from here - https://www.cs.toronto.edu/~kriz/cifar.html\n",
    "\n",
    "Since the images in CIFAR-10 are low-resolution (32x32x3), this dataset can allow researchers to quickly try different algorithms to see what works. Various kinds of convolutional neural networks tend to be the best at recognizing the images in CIFAR-10."
   ]
  },
  {
   "cell_type": "markdown",
   "metadata": {
    "id": "rGH8HJvAkO9k"
   },
   "source": [
    "### **Objective**"
   ]
  },
  {
   "cell_type": "markdown",
   "metadata": {
    "id": "4bwUDZIikRK2"
   },
   "source": [
    "In this case study, we will build a multi-class classification algorithm to predict 10 different classes of the CIFAR-10 dataset using **Convolutional Neural Networks and Transfer Learning**."
   ]
  },
  {
   "cell_type": "markdown",
   "metadata": {
    "id": "AVGx1739McwF"
   },
   "source": [
    "### **Loading Libraries**"
   ]
  },
  {
   "cell_type": "code",
   "execution_count": null,
   "metadata": {
    "id": "8g1pu5BeBlOe"
   },
   "outputs": [],
   "source": [
    "import keras\n",
    "import numpy as np\n",
    "import matplotlib.pyplot as plt\n",
    "import seaborn as sns\n",
    "\n",
    "import tensorflow as tf\n",
    "\n",
    "# Keras Sequential Model\n",
    "from tensorflow.keras.models import Sequential\n",
    "\n",
    "# Importing all the different layers and optimizers\n",
    "from tensorflow.keras.layers import Dense, Dropout, Flatten, Conv2D, MaxPooling2D, BatchNormalization, Activation, LeakyReLU\n",
    "from tensorflow.keras.optimizers import Adam"
   ]
  },
  {
   "cell_type": "markdown",
   "metadata": {
    "id": "QQQbdM3PMl7k"
   },
   "source": [
    "### **Importing and loading the CIFAR dataset**"
   ]
  },
  {
   "cell_type": "markdown",
   "metadata": {
    "id": "rVbnTLGUkjpC"
   },
   "source": [
    "The CIFAR dataset is already present in the Keras library in the form of n-dimensional NumPy array. We will download this dataset from the Keras module here."
   ]
  },
  {
   "cell_type": "code",
   "execution_count": null,
   "metadata": {
    "colab": {
     "base_uri": "https://localhost:8080/"
    },
    "executionInfo": {
     "elapsed": 5810,
     "status": "ok",
     "timestamp": 1625321154725,
     "user": {
      "displayName": "Prateek Dhokwal",
      "photoUrl": "",
      "userId": "08627769684824629279"
     },
     "user_tz": -330
    },
    "id": "gXsS0bsfBmGv",
    "outputId": "a57f636b-0b00-4950-9402-e50765ada6bf"
   },
   "outputs": [
    {
     "name": "stdout",
     "output_type": "stream",
     "text": [
      "Downloading data from https://www.cs.toronto.edu/~kriz/cifar-10-python.tar.gz\n",
      "170500096/170498071 [==============================] - 4s 0us/step\n",
      "170508288/170498071 [==============================] - 4s 0us/step\n"
     ]
    }
   ],
   "source": [
    "from keras.datasets import cifar10\n",
    "(x_train, y_train), (x_test, y_test) = cifar10.load_data()"
   ]
  },
  {
   "cell_type": "code",
   "execution_count": null,
   "metadata": {
    "colab": {
     "base_uri": "https://localhost:8080/"
    },
    "executionInfo": {
     "elapsed": 15,
     "status": "ok",
     "timestamp": 1625321154726,
     "user": {
      "displayName": "Prateek Dhokwal",
      "photoUrl": "",
      "userId": "08627769684824629279"
     },
     "user_tz": -330
    },
    "id": "PUJuf_oRMxp2",
    "outputId": "4591e794-fc74-46ea-982b-b263e3bcc708"
   },
   "outputs": [
    {
     "data": {
      "text/plain": [
       "(50000, 32, 32, 3)"
      ]
     },
     "execution_count": 3,
     "metadata": {
      "tags": []
     },
     "output_type": "execute_result"
    }
   ],
   "source": [
    "x_train.shape"
   ]
  },
  {
   "cell_type": "markdown",
   "metadata": {
    "id": "Qcbdl8niM28o"
   },
   "source": [
    "Here the data is stored in a **4-dimensional NumPy array**. The first dimension **50000** is denoting **the number of images in the training data**, and each image is stacked on top of the other as a 3-dimensional NumPy array. The second dimension **32** is denoting **the number of pixels along the x-axis**, **the third dimension 32 is denoting the number of pixels along the y-axis** and **the fourth dimension 3 is the total number of channels in those images** i.e. these are colored image consisting of RGB (Red, Green, and Blue) channels."
   ]
  },
  {
   "cell_type": "markdown",
   "metadata": {
    "id": "vkfwqHgrOPg4"
   },
   "source": [
    "Below is a 3-dimensional NumPy representation of the first image in the training data. **Each pixel in an image has 3 values - the intensity of R, G, and B channels**, and the size of each image is 32x32. So, each image is represented by 32 arrays of shape 32x3."
   ]
  },
  {
   "cell_type": "code",
   "execution_count": null,
   "metadata": {
    "colab": {
     "base_uri": "https://localhost:8080/"
    },
    "executionInfo": {
     "elapsed": 12,
     "status": "ok",
     "timestamp": 1625321154726,
     "user": {
      "displayName": "Prateek Dhokwal",
      "photoUrl": "",
      "userId": "08627769684824629279"
     },
     "user_tz": -330
    },
    "id": "5jvdVTFNOKre",
    "outputId": "2904c32f-6203-4b7b-bcf4-9b8f18bb15dd"
   },
   "outputs": [
    {
     "data": {
      "text/plain": [
       "array([[[ 59,  62,  63],\n",
       "        [ 43,  46,  45],\n",
       "        [ 50,  48,  43],\n",
       "        ...,\n",
       "        [158, 132, 108],\n",
       "        [152, 125, 102],\n",
       "        [148, 124, 103]],\n",
       "\n",
       "       [[ 16,  20,  20],\n",
       "        [  0,   0,   0],\n",
       "        [ 18,   8,   0],\n",
       "        ...,\n",
       "        [123,  88,  55],\n",
       "        [119,  83,  50],\n",
       "        [122,  87,  57]],\n",
       "\n",
       "       [[ 25,  24,  21],\n",
       "        [ 16,   7,   0],\n",
       "        [ 49,  27,   8],\n",
       "        ...,\n",
       "        [118,  84,  50],\n",
       "        [120,  84,  50],\n",
       "        [109,  73,  42]],\n",
       "\n",
       "       ...,\n",
       "\n",
       "       [[208, 170,  96],\n",
       "        [201, 153,  34],\n",
       "        [198, 161,  26],\n",
       "        ...,\n",
       "        [160, 133,  70],\n",
       "        [ 56,  31,   7],\n",
       "        [ 53,  34,  20]],\n",
       "\n",
       "       [[180, 139,  96],\n",
       "        [173, 123,  42],\n",
       "        [186, 144,  30],\n",
       "        ...,\n",
       "        [184, 148,  94],\n",
       "        [ 97,  62,  34],\n",
       "        [ 83,  53,  34]],\n",
       "\n",
       "       [[177, 144, 116],\n",
       "        [168, 129,  94],\n",
       "        [179, 142,  87],\n",
       "        ...,\n",
       "        [216, 184, 140],\n",
       "        [151, 118,  84],\n",
       "        [123,  92,  72]]], dtype=uint8)"
      ]
     },
     "execution_count": 4,
     "metadata": {
      "tags": []
     },
     "output_type": "execute_result"
    }
   ],
   "source": [
    "x_train[0]"
   ]
  },
  {
   "cell_type": "code",
   "execution_count": null,
   "metadata": {
    "colab": {
     "base_uri": "https://localhost:8080/"
    },
    "executionInfo": {
     "elapsed": 9,
     "status": "ok",
     "timestamp": 1625321154726,
     "user": {
      "displayName": "Prateek Dhokwal",
      "photoUrl": "",
      "userId": "08627769684824629279"
     },
     "user_tz": -330
    },
    "id": "8JN88vDAlqld",
    "outputId": "6d61f30b-0046-4707-c520-afc470d4204b"
   },
   "outputs": [
    {
     "data": {
      "text/plain": [
       "array([6], dtype=uint8)"
      ]
     },
     "execution_count": 5,
     "metadata": {
      "tags": []
     },
     "output_type": "execute_result"
    }
   ],
   "source": [
    "y_train[0]"
   ]
  },
  {
   "cell_type": "markdown",
   "metadata": {
    "id": "KbESa76slt25"
   },
   "source": [
    "The target labels are encoded in numerical format. Here the encoding 6 denotes the category frog. **We will create a list of category names to convert the number to its original category name.**"
   ]
  },
  {
   "cell_type": "code",
   "execution_count": null,
   "metadata": {
    "colab": {
     "base_uri": "https://localhost:8080/"
    },
    "executionInfo": {
     "elapsed": 8,
     "status": "ok",
     "timestamp": 1625321154727,
     "user": {
      "displayName": "Prateek Dhokwal",
      "photoUrl": "",
      "userId": "08627769684824629279"
     },
     "user_tz": -330
    },
    "id": "oFVdko1zAplm",
    "outputId": "205ee437-2627-40d8-d042-90415a08b110"
   },
   "outputs": [
    {
     "data": {
      "text/plain": [
       "(10000, 32, 32, 3)"
      ]
     },
     "execution_count": 6,
     "metadata": {
      "tags": []
     },
     "output_type": "execute_result"
    }
   ],
   "source": [
    "x_test.shape"
   ]
  },
  {
   "cell_type": "markdown",
   "metadata": {
    "id": "VeLBinxebDX7"
   },
   "source": [
    "- There are **10,000 images in the test data**."
   ]
  },
  {
   "cell_type": "markdown",
   "metadata": {
    "id": "D19_wFTVQAWg"
   },
   "source": [
    "### **Converting NumPy arrays to images and visualizing some random images**"
   ]
  },
  {
   "cell_type": "markdown",
   "metadata": {
    "id": "oYKVrc-zlEsv"
   },
   "source": [
    "As we saw above, all the images are stored as NumPy arrays, and values in the array denote the pixel intensities of the image. We can use matplotlib's **imshow** function to visualize the image from NumPy arrays. Below we are plotting a few random images from the dataset, to see how the images look like."
   ]
  },
  {
   "cell_type": "code",
   "execution_count": null,
   "metadata": {
    "id": "zEPZTcFsBIZM"
   },
   "outputs": [],
   "source": [
    "num_classes = 10\n",
    "\n",
    "# creating a list of category names in alphabetical order\n",
    "cifar10_classes = [\"airplane\", \"automobile\", \"bird\", \"cat\", \"deer\", \"dog\", \"frog\", \"horse\", \"ship\", \"truck\"]"
   ]
  },
  {
   "cell_type": "code",
   "execution_count": null,
   "metadata": {
    "colab": {
     "base_uri": "https://localhost:8080/",
     "height": 492
    },
    "executionInfo": {
     "elapsed": 1477,
     "status": "ok",
     "timestamp": 1625321156199,
     "user": {
      "displayName": "Prateek Dhokwal",
      "photoUrl": "",
      "userId": "08627769684824629279"
     },
     "user_tz": -330
    },
    "id": "Fd_Ok9g7BO-X",
    "outputId": "c733bccf-ae32-4f06-e7a3-32639a512a13"
   },
   "outputs": [
    {
     "data": {
      "image/png": "[encoded data removed]",
      "text/plain": [
       "<Figure size 720x576 with 12 Axes>"
      ]
     },
     "metadata": {
      "needs_background": "light",
      "tags": []
     },
     "output_type": "display_data"
    }
   ],
   "source": [
    "rows = 3\n",
    "cols = 4\n",
    "fig = plt.figure(figsize=(10, 8))\n",
    "for i in range(cols):\n",
    "    for j in range(rows):\n",
    "        random_index = np.random.randint(0, len(y_train))\n",
    "        ax = fig.add_subplot(rows, cols, i * rows + j + 1)\n",
    "        ax.imshow(x_train[random_index, :])\n",
    "        ax.set_title(cifar10_classes[y_train[random_index, 0]])\n",
    "plt.show()"
   ]
  },
  {
   "cell_type": "markdown",
   "metadata": {
    "id": "8cdXeSMgQXUA"
   },
   "source": [
    "### **Data Preparation**"
   ]
  },
  {
   "cell_type": "markdown",
   "metadata": {
    "id": "GqHqJmQxmj8W"
   },
   "source": [
    "In neural networks, it is always suggested to **normalize the feature inputs**. Normalization has the below benefits while training a neural networks model - \n",
    "\n",
    "1. **Normalization makes the training faster and reduces the chances of getting stuck at local optima.**\n",
    "2. Also, **weight decay and estimation can be done more conveniently** with normalized inputs.\n",
    "3. In deep neural networks, **normalization helps to avoid exploding gradient problems.** Gradient exploding problem occurs when large error gradients accumulate and result in very large updates to neural network model weights during training. This makes a model unstable and unable to learn from the training data."
   ]
  },
  {
   "cell_type": "markdown",
   "metadata": {
    "id": "QkvuUR5apH5C"
   },
   "source": [
    "As we know image pixel **values range from 0-255**, here we are simply **dividing all the pixel values by 255 to standardize all the images to have values between 0-1.**"
   ]
  },
  {
   "cell_type": "code",
   "execution_count": null,
   "metadata": {
    "id": "xRU93r1FB-t3"
   },
   "outputs": [],
   "source": [
    "# normalizing the image pixels\n",
    "x_train_normalized = x_train/255\n",
    "x_test_normalized = x_test/255"
   ]
  },
  {
   "cell_type": "markdown",
   "metadata": {
    "id": "bF-SawytpZbG"
   },
   "source": [
    "Since this is a **10 class classification problem**, the output layer should have **10 neurons** which will provide us with the probabilities of the input image belonging to each of those 10 classes. Therefore, we also need to create a **one-hot encoded representation for the target classes.**"
   ]
  },
  {
   "cell_type": "code",
   "execution_count": null,
   "metadata": {
    "id": "Gfm1zlLmQcLd"
   },
   "outputs": [],
   "source": [
    "# creating one-hot encoded representation of target labels\n",
    "# we can do this by using this utility function - https://www.tensorflow.org/api_docs/python/tf/keras/utils/to_categorical\n",
    "\n",
    "y_train_encoded = tf.keras.utils.to_categorical(y_train)\n",
    "y_test_encoded = tf.keras.utils.to_categorical(y_test)"
   ]
  },
  {
   "cell_type": "markdown",
   "metadata": {
    "id": "Cev0I5MpRB84"
   },
   "source": [
    "### **Model Building**"
   ]
  },
  {
   "cell_type": "markdown",
   "metadata": {
    "id": "qno43xABp8oz"
   },
   "source": [
    "Let's now create a CNN model sequentially where we will be adding the layers one after another"
   ]
  },
  {
   "cell_type": "markdown",
   "metadata": {
    "id": "xFuQzCq3j19x"
   },
   "source": [
    "First, let's **set the seed for random number generators in NumPy, Python, and TensorFlow** to be able to reproduce the same results every time we run the code."
   ]
  },
  {
   "cell_type": "code",
   "execution_count": null,
   "metadata": {
    "id": "rJjQnhvtj3ed"
   },
   "outputs": [],
   "source": [
    "#Fixing the seed for random number generators\n",
    "np.random.seed(42)\n",
    "import random\n",
    "random.seed(42)\n",
    "tf.random.set_seed(42)"
   ]
  },
  {
   "cell_type": "markdown",
   "metadata": {
    "id": "ib7sjXKzkoAI"
   },
   "source": [
    "Let's build a **CNN model with Leaky Rectified Linear Unit (LeakyRelu)** as the activation function. LeakyReLU is a type of activation function based on a ReLU, but it has a small slope for negative values instead of a flat slope. The slope coefficient is determined before training, i.e. it is not learned during training."
   ]
  },
  {
   "cell_type": "markdown",
   "metadata": {
    "id": "vojrKoZ5sDkj"
   },
   "source": [
    "**Note:**\n",
    "- In Keras, The input features be 4-dimensional to build a CNN model.\n",
    "- Here, we have already have 4-dimensional input as these are colored images.\n",
    "- In the case of grayscale images, we must reshape the input features to specifically mention that we have only 1 channel i.e. gray"
   ]
  },
  {
   "cell_type": "code",
   "execution_count": null,
   "metadata": {
    "id": "jfkL9lliRNWH"
   },
   "outputs": [],
   "source": [
    "# initialized a sequential model\n",
    "model_1 = Sequential()\n",
    "\n",
    "# adding first conv layer with 16 filters and kernel size 3x3 , padding 'same' provides the output size same as the input size\n",
    "#input_shape denotes input image dimension of CIFAR images\n",
    "model_1.add(Conv2D(filters=16, kernel_size=(3, 3), padding=\"same\", input_shape=(32, 32, 3)))\n",
    "\n",
    "# adding leaky relu activation function with negative slope of 0.1\n",
    "model_1.add(LeakyReLU(0.1))\n",
    "\n",
    "# adding second conv layer with 32 filters and with kernel size 3x3\n",
    "model_1.add(Conv2D(filters=32, kernel_size=(3, 3), padding='same'))\n",
    "\n",
    "# adding leaky relu activation function with negative slope of 0.1\n",
    "model_1.add(LeakyReLU(0.1))\n",
    "    \n",
    "# adding max pooling to reduce the size of output of second conv layer\n",
    "model_1.add(MaxPooling2D(pool_size=(2, 2)))\n",
    "    \n",
    "# flattening the 3-d output of the conv layer after max pooling to make it ready for creating dense connections\n",
    "model_1.add(Flatten())\n",
    "\n",
    "# adding a fully connected dense layer with 256 neurons    \n",
    "model_1.add(Dense(256))\n",
    "\n",
    "# adding leaky relu activation function with negative slope of 0.1\n",
    "model_1.add(LeakyReLU(0.1))\n",
    "\n",
    "# adding the output layer with 10 neurons and activation functions as softmax since this is a multi-class classification problem\n",
    "model_1.add(Dense(10, activation='softmax'))"
   ]
  },
  {
   "cell_type": "code",
   "execution_count": null,
   "metadata": {
    "colab": {
     "base_uri": "https://localhost:8080/"
    },
    "executionInfo": {
     "elapsed": 11,
     "status": "ok",
     "timestamp": 1625321161842,
     "user": {
      "displayName": "Prateek Dhokwal",
      "photoUrl": "",
      "userId": "08627769684824629279"
     },
     "user_tz": -330
    },
    "id": "ZdPXI2DjCRQZ",
    "outputId": "bc65db75-961e-473b-94a5-560af32c8279"
   },
   "outputs": [
    {
     "name": "stdout",
     "output_type": "stream",
     "text": [
      "Model: \"sequential\"\n",
      "_________________________________________________________________\n",
      "Layer (type)                 Output Shape              Param #   \n",
      "=================================================================\n",
      "conv2d (Conv2D)              (None, 32, 32, 16)        448       \n",
      "_________________________________________________________________\n",
      "leaky_re_lu (LeakyReLU)      (None, 32, 32, 16)        0         \n",
      "_________________________________________________________________\n",
      "conv2d_1 (Conv2D)            (None, 32, 32, 32)        4640      \n",
      "_________________________________________________________________\n",
      "leaky_re_lu_1 (LeakyReLU)    (None, 32, 32, 32)        0         \n",
      "_________________________________________________________________\n",
      "max_pooling2d (MaxPooling2D) (None, 16, 16, 32)        0         \n",
      "_________________________________________________________________\n",
      "flatten (Flatten)            (None, 8192)              0         \n",
      "_________________________________________________________________\n",
      "dense (Dense)                (None, 256)               2097408   \n",
      "_________________________________________________________________\n",
      "leaky_re_lu_2 (LeakyReLU)    (None, 256)               0         \n",
      "_________________________________________________________________\n",
      "dense_1 (Dense)              (None, 10)                2570      \n",
      "=================================================================\n",
      "Total params: 2,105,066\n",
      "Trainable params: 2,105,066\n",
      "Non-trainable params: 0\n",
      "_________________________________________________________________\n"
     ]
    }
   ],
   "source": [
    "# printing the model summary\n",
    "model_1.summary()"
   ]
  },
  {
   "cell_type": "markdown",
   "metadata": {
    "id": "F7RB4Zl4sP9z"
   },
   "source": [
    "As we can see from the above summary, this CNN model will train and learn **2,105,066 parameters (weights and biases).**"
   ]
  },
  {
   "cell_type": "markdown",
   "metadata": {
    "id": "SfL_GQcAsdYL"
   },
   "source": [
    "Let's now compile and train the model using the train data. Here, we are using the loss function - **categorical_crossentropy** as this is a multi-class classification problem. We will try to minimize this loss at every iteration using the **optimizer** of our choice. Also, we are choosing **accuracy** as the metric to measure the performance of the model."
   ]
  },
  {
   "cell_type": "code",
   "execution_count": null,
   "metadata": {
    "id": "hg9-QaAVS0CD"
   },
   "outputs": [],
   "source": [
    "model_1.compile(\n",
    "    loss='categorical_crossentropy',\n",
    "    optimizer=tf.keras.optimizers.Adamax(learning_rate=0.005), # here we are starting with 0.005 learning rate, by default it is 0.001\n",
    "    metrics=['accuracy']\n",
    ")"
   ]
  },
  {
   "cell_type": "code",
   "execution_count": null,
   "metadata": {
    "colab": {
     "base_uri": "https://localhost:8080/"
    },
    "executionInfo": {
     "elapsed": 75477,
     "status": "ok",
     "timestamp": 1625321237314,
     "user": {
      "displayName": "Prateek Dhokwal",
      "photoUrl": "",
      "userId": "08627769684824629279"
     },
     "user_tz": -330
    },
    "id": "PWeXlWsNCeYi",
    "outputId": "8528eb25-4666-4f9b-80f6-1afe581e8b1e"
   },
   "outputs": [
    {
     "name": "stdout",
     "output_type": "stream",
     "text": [
      "Epoch 1/10\n",
      "1407/1407 - 36s - loss: 1.3507 - accuracy: 0.5168 - val_loss: 1.0287 - val_accuracy: 0.6362\n",
      "Epoch 2/10\n",
      "1407/1407 - 4s - loss: 0.9203 - accuracy: 0.6759 - val_loss: 0.9176 - val_accuracy: 0.6832\n",
      "Epoch 3/10\n",
      "1407/1407 - 5s - loss: 0.6880 - accuracy: 0.7580 - val_loss: 0.9264 - val_accuracy: 0.6958\n",
      "Epoch 4/10\n",
      "1407/1407 - 5s - loss: 0.4773 - accuracy: 0.8342 - val_loss: 0.9821 - val_accuracy: 0.6898\n",
      "Epoch 5/10\n",
      "1407/1407 - 4s - loss: 0.2824 - accuracy: 0.9039 - val_loss: 1.1465 - val_accuracy: 0.7034\n",
      "Epoch 6/10\n",
      "1407/1407 - 4s - loss: 0.1518 - accuracy: 0.9495 - val_loss: 1.3619 - val_accuracy: 0.7046\n",
      "Epoch 7/10\n",
      "1407/1407 - 4s - loss: 0.0818 - accuracy: 0.9723 - val_loss: 1.6512 - val_accuracy: 0.7000\n",
      "Epoch 8/10\n",
      "1407/1407 - 4s - loss: 0.0518 - accuracy: 0.9832 - val_loss: 1.8907 - val_accuracy: 0.7028\n",
      "Epoch 9/10\n",
      "1407/1407 - 4s - loss: 0.0338 - accuracy: 0.9895 - val_loss: 2.1342 - val_accuracy: 0.6948\n",
      "Epoch 10/10\n",
      "1407/1407 - 4s - loss: 0.0301 - accuracy: 0.9903 - val_loss: 2.0855 - val_accuracy: 0.7032\n"
     ]
    }
   ],
   "source": [
    "history_1 = model_1.fit(\n",
    "            x_train_normalized, y_train_encoded,\n",
    "            epochs=10,\n",
    "            validation_split=0.1,\n",
    "            shuffle=True,\n",
    "            verbose=2\n",
    ")"
   ]
  },
  {
   "cell_type": "code",
   "execution_count": null,
   "metadata": {
    "colab": {
     "base_uri": "https://localhost:8080/",
     "height": 295
    },
    "executionInfo": {
     "elapsed": 48,
     "status": "ok",
     "timestamp": 1625321237315,
     "user": {
      "displayName": "Prateek Dhokwal",
      "photoUrl": "",
      "userId": "08627769684824629279"
     },
     "user_tz": -330
    },
    "id": "XgrY0780yscb",
    "outputId": "bdb94750-4f7f-42e7-922c-a01e964fdca9"
   },
   "outputs": [
    {
     "data": {
      "image/png": "[encoded data removed]",
      "text/plain": [
       "<Figure size 432x288 with 1 Axes>"
      ]
     },
     "metadata": {
      "needs_background": "light",
      "tags": []
     },
     "output_type": "display_data"
    }
   ],
   "source": [
    "plt.plot(history_1.history['accuracy'])\n",
    "plt.plot(history_1.history['val_accuracy'])\n",
    "plt.title('Model Accuracy')\n",
    "plt.ylabel('Accuracy')\n",
    "plt.xlabel('Epoch')\n",
    "plt.legend(['Train', 'Validation'], loc='upper left')\n",
    "plt.show()"
   ]
  },
  {
   "cell_type": "markdown",
   "metadata": {
    "id": "pq4P01pszDkP"
   },
   "source": [
    "**Observations:** \n",
    "\n",
    "- We can see from the above plot that the model has done poorly on the validation data. The model is highly overfitting the training data. \n",
    "- The validation accuracy has become more or less constant after 2 epochs.\n",
    "\n",
    "Let's try adding few dropout layers to the model structure to reduce overfitting and see if this improves the model or not."
   ]
  },
  {
   "cell_type": "markdown",
   "metadata": {
    "id": "0HmdpOhFqtHD"
   },
   "source": [
    "First, we need to clear the previous model's history from the session. In Keras, we need special command to clear the model's history otherwise the previous model history remains in the backend.\n",
    "\n",
    "Also, let's fix the seed again after clearing the backend."
   ]
  },
  {
   "cell_type": "code",
   "execution_count": null,
   "metadata": {
    "id": "tVdO3htxq4Vp"
   },
   "outputs": [],
   "source": [
    "#Clearing backend\n",
    "from tensorflow.keras import backend\n",
    "backend.clear_session()"
   ]
  },
  {
   "cell_type": "code",
   "execution_count": null,
   "metadata": {
    "id": "jeZxhu7-q4bY"
   },
   "outputs": [],
   "source": [
    "#Fixing the seed for random number generators\n",
    "np.random.seed(42)\n",
    "import random\n",
    "random.seed(42)\n",
    "tf.random.set_seed(42)"
   ]
  },
  {
   "cell_type": "code",
   "execution_count": null,
   "metadata": {
    "id": "0zsE9daOzC3u"
   },
   "outputs": [],
   "source": [
    "# initialized a sequential model\n",
    "model_2 = Sequential()\n",
    "\n",
    "# adding first conv layer with 16 filters and kernel size 3x3 , padding 'same' provides the output size same as the input size\n",
    "#input_shape denotes input image dimension of CIFAR images\n",
    "model_2.add(Conv2D(filters=16, kernel_size=(3, 3), padding=\"same\", input_shape=(32, 32, 3)))\n",
    "\n",
    "# adding leaky relu activation function with negative slope of 0.1\n",
    "model_2.add(LeakyReLU(0.1))\n",
    "\n",
    "# adding dropout to randomly switch off 20% neurons to reduce overfitting\n",
    "model_2.add(Dropout(0.2))\n",
    "\n",
    "# adding second conv layer with 32 filters and with kernel size 3x3\n",
    "model_2.add(Conv2D(filters=32, kernel_size=(3, 3), padding='same'))\n",
    "\n",
    "# adding leaky relu activation function with negative slope of 0.1\n",
    "model_2.add(LeakyReLU(0.1))\n",
    "\n",
    "# adding dropout to randomly switch off 20% neurons to reduce overfitting\n",
    "model_2.add(Dropout(0.2))\n",
    "    \n",
    "# adding max pooling to reduce the size of output of second conv layer\n",
    "model_2.add(MaxPooling2D(pool_size=(2, 2)))\n",
    "    \n",
    "# flattening the 3-d output of the conv layer after max pooling to make it ready for creating dense connections\n",
    "model_2.add(Flatten())\n",
    "\n",
    "# adding a fully connected dense layer with 256 neurons    \n",
    "model_2.add(Dense(256))\n",
    "\n",
    "# adding leaky relu activation function with negative slope of 0.1\n",
    "model_2.add(LeakyReLU(0.1))\n",
    "\n",
    "# adding dropout to randomly switch off 50% neurons to reduce overfitting\n",
    "model_2.add(Dropout(0.5))\n",
    "\n",
    "# adding the output layer with 10 neurons and activation functions as softmax since this is a multi-class classification problem\n",
    "model_2.add(Dense(10, activation='softmax'))"
   ]
  },
  {
   "cell_type": "code",
   "execution_count": null,
   "metadata": {
    "colab": {
     "base_uri": "https://localhost:8080/"
    },
    "executionInfo": {
     "elapsed": 23,
     "status": "ok",
     "timestamp": 1625321237317,
     "user": {
      "displayName": "Prateek Dhokwal",
      "photoUrl": "",
      "userId": "08627769684824629279"
     },
     "user_tz": -330
    },
    "id": "DXDwgPhvzcrC",
    "outputId": "b63cef26-1fa4-4941-b9b0-6c8c7b57e1b1"
   },
   "outputs": [
    {
     "name": "stdout",
     "output_type": "stream",
     "text": [
      "Model: \"sequential\"\n",
      "_________________________________________________________________\n",
      "Layer (type)                 Output Shape              Param #   \n",
      "=================================================================\n",
      "conv2d (Conv2D)              (None, 32, 32, 16)        448       \n",
      "_________________________________________________________________\n",
      "leaky_re_lu (LeakyReLU)      (None, 32, 32, 16)        0         \n",
      "_________________________________________________________________\n",
      "dropout (Dropout)            (None, 32, 32, 16)        0         \n",
      "_________________________________________________________________\n",
      "conv2d_1 (Conv2D)            (None, 32, 32, 32)        4640      \n",
      "_________________________________________________________________\n",
      "leaky_re_lu_1 (LeakyReLU)    (None, 32, 32, 32)        0         \n",
      "_________________________________________________________________\n",
      "dropout_1 (Dropout)          (None, 32, 32, 32)        0         \n",
      "_________________________________________________________________\n",
      "max_pooling2d (MaxPooling2D) (None, 16, 16, 32)        0         \n",
      "_________________________________________________________________\n",
      "flatten (Flatten)            (None, 8192)              0         \n",
      "_________________________________________________________________\n",
      "dense (Dense)                (None, 256)               2097408   \n",
      "_________________________________________________________________\n",
      "leaky_re_lu_2 (LeakyReLU)    (None, 256)               0         \n",
      "_________________________________________________________________\n",
      "dropout_2 (Dropout)          (None, 256)               0         \n",
      "_________________________________________________________________\n",
      "dense_1 (Dense)              (None, 10)                2570      \n",
      "=================================================================\n",
      "Total params: 2,105,066\n",
      "Trainable params: 2,105,066\n",
      "Non-trainable params: 0\n",
      "_________________________________________________________________\n"
     ]
    }
   ],
   "source": [
    "#printing the model summary\n",
    "model_2.summary()"
   ]
  },
  {
   "cell_type": "code",
   "execution_count": null,
   "metadata": {
    "id": "W4FETGNizjn2"
   },
   "outputs": [],
   "source": [
    "#compiling the model\n",
    "model_2.compile(\n",
    "    loss='categorical_crossentropy',\n",
    "    optimizer=tf.keras.optimizers.Adamax(learning_rate=0.005), \n",
    "    metrics=['accuracy']\n",
    ")"
   ]
  },
  {
   "cell_type": "code",
   "execution_count": null,
   "metadata": {
    "colab": {
     "base_uri": "https://localhost:8080/"
    },
    "executionInfo": {
     "elapsed": 82958,
     "status": "ok",
     "timestamp": 1625321320258,
     "user": {
      "displayName": "Prateek Dhokwal",
      "photoUrl": "",
      "userId": "08627769684824629279"
     },
     "user_tz": -330
    },
    "id": "z-yo7xvizpZA",
    "outputId": "acd2a33c-aafc-497e-d4ae-035eb7385811"
   },
   "outputs": [
    {
     "name": "stdout",
     "output_type": "stream",
     "text": [
      "Epoch 1/10\n",
      "1407/1407 - 5s - loss: 1.5526 - accuracy: 0.4457 - val_loss: 1.7355 - val_accuracy: 0.4250\n",
      "Epoch 2/10\n",
      "1407/1407 - 5s - loss: 1.1760 - accuracy: 0.5826 - val_loss: 1.1827 - val_accuracy: 0.5998\n",
      "Epoch 3/10\n",
      "1407/1407 - 5s - loss: 1.0216 - accuracy: 0.6395 - val_loss: 1.2583 - val_accuracy: 0.5940\n",
      "Epoch 4/10\n",
      "1407/1407 - 5s - loss: 0.9253 - accuracy: 0.6746 - val_loss: 1.2331 - val_accuracy: 0.6038\n",
      "Epoch 5/10\n",
      "1407/1407 - 5s - loss: 0.8461 - accuracy: 0.7004 - val_loss: 1.0878 - val_accuracy: 0.6416\n",
      "Epoch 6/10\n",
      "1407/1407 - 5s - loss: 0.7810 - accuracy: 0.7240 - val_loss: 1.0714 - val_accuracy: 0.6574\n",
      "Epoch 7/10\n",
      "1407/1407 - 5s - loss: 0.7182 - accuracy: 0.7498 - val_loss: 1.1893 - val_accuracy: 0.6406\n",
      "Epoch 8/10\n",
      "1407/1407 - 5s - loss: 0.6746 - accuracy: 0.7600 - val_loss: 1.2292 - val_accuracy: 0.6326\n",
      "Epoch 9/10\n",
      "1407/1407 - 5s - loss: 0.6280 - accuracy: 0.7772 - val_loss: 1.1903 - val_accuracy: 0.6518\n",
      "Epoch 10/10\n",
      "1407/1407 - 5s - loss: 0.5912 - accuracy: 0.7884 - val_loss: 0.9759 - val_accuracy: 0.6826\n"
     ]
    }
   ],
   "source": [
    "#Fitting the model\n",
    "history_2 = model_2.fit(\n",
    "            x_train_normalized, y_train_encoded,\n",
    "            epochs=10,\n",
    "            validation_split=0.1,\n",
    "            shuffle=True,\n",
    "            verbose=2\n",
    ")"
   ]
  },
  {
   "cell_type": "code",
   "execution_count": null,
   "metadata": {
    "colab": {
     "base_uri": "https://localhost:8080/",
     "height": 295
    },
    "executionInfo": {
     "elapsed": 57,
     "status": "ok",
     "timestamp": 1625321320277,
     "user": {
      "displayName": "Prateek Dhokwal",
      "photoUrl": "",
      "userId": "08627769684824629279"
     },
     "user_tz": -330
    },
    "id": "4z5hUlzszpgm",
    "outputId": "8752afdf-4128-4c0b-c919-f21f811273b3"
   },
   "outputs": [
    {
     "data": {
      "image/png": "[encoded data removed]",
      "text/plain": [
       "<Figure size 432x288 with 1 Axes>"
      ]
     },
     "metadata": {
      "needs_background": "light",
      "tags": []
     },
     "output_type": "display_data"
    }
   ],
   "source": [
    "plt.plot(history_2.history['accuracy'])\n",
    "plt.plot(history_2.history['val_accuracy'])\n",
    "plt.title('Model Accuracy')\n",
    "plt.ylabel('Accuracy')\n",
    "plt.xlabel('Epoch')\n",
    "plt.legend(['Train', 'Validation'], loc='upper left')\n",
    "plt.show()"
   ]
  },
  {
   "cell_type": "markdown",
   "metadata": {
    "id": "DO7c23GZz1id"
   },
   "source": [
    "**Observations:** \n",
    "\n",
    "- The second model with dropout layers seems to have reduced the overfitting as compared to the previous model but still, the model is not performing well on the validation data. \n",
    "- The validation accuracy has decreased slightly as compared to the previous model.\n",
    "\n",
    "Let's now build another model with few more convolution layers, max-pooling layers, and dropout layers to reduce overfitting. Also, let's change the learning rate and the number of epochs and see if the model's performance improves."
   ]
  },
  {
   "cell_type": "code",
   "execution_count": null,
   "metadata": {
    "id": "FxYh6iL4tvHx"
   },
   "outputs": [],
   "source": [
    "#Clearing backend\n",
    "from tensorflow.keras import backend\n",
    "backend.clear_session()"
   ]
  },
  {
   "cell_type": "code",
   "execution_count": null,
   "metadata": {
    "id": "x3EHgJurtvP7"
   },
   "outputs": [],
   "source": [
    "#Fixing the seed for random number generators\n",
    "np.random.seed(42)\n",
    "import random\n",
    "random.seed(42)\n",
    "tf.random.set_seed(42)"
   ]
  },
  {
   "cell_type": "code",
   "execution_count": null,
   "metadata": {
    "id": "Fbwty5Owz18k"
   },
   "outputs": [],
   "source": [
    "# initialized a sequential model\n",
    "model_3 = Sequential()\n",
    "\n",
    "# adding first conv layer with 16 filters and kernel size 3x3 , padding 'same' provides the output size same as the input size\n",
    "#input_shape denotes input image dimension of CIFAR images\n",
    "model_3.add(Conv2D(filters=16, kernel_size=(3, 3), padding=\"same\", input_shape=(32, 32, 3)))\n",
    "\n",
    "# adding leaky relu activation function with negative slope of 0.1\n",
    "model_3.add(LeakyReLU(0.1))\n",
    "\n",
    "# adding second conv layer with 32 filters and with kernel size 3x3\n",
    "model_3.add(Conv2D(filters=32, kernel_size=(3, 3), padding='same'))\n",
    "\n",
    "# adding leaky relu activation function with negative slope of 0.1\n",
    "model_3.add(LeakyReLU(0.1))\n",
    "    \n",
    "# adding max pooling to reduce the size of output of second conv layer\n",
    "model_3.add(MaxPooling2D(pool_size=(2, 2)))\n",
    "    \n",
    "# adding dropout to randomly switch off 25% of the network to reduce overfitting\n",
    "model_3.add(Dropout(0.25))\n",
    "    \n",
    "# adding third conv layer with 32 filters and with kernel size 3x3\n",
    "model_3.add(Conv2D(filters=32, kernel_size=(3, 3), padding='same'))\n",
    "\n",
    "# adding leaky relu activation function with negative slope of 0.1\n",
    "model_3.add(LeakyReLU(0.1))\n",
    "\n",
    "# adding fourth conv layer with 64 filters and with kernel size 3x3\n",
    "model_3.add(Conv2D(filters=64, kernel_size=(3, 3), padding='same'))\n",
    "\n",
    "# adding leaky relu activation function with negative slope of 0.1\n",
    "model_3.add(LeakyReLU(0.1))\n",
    "\n",
    "# adding max pooling to reduce the size of output of fourth conv layer    \n",
    "model_3.add(MaxPooling2D(pool_size=(2, 2)))\n",
    "    \n",
    "# adding dropout to randomly switch off 25% of the network to reduce overfitting\n",
    "model_3.add(Dropout(0.25))\n",
    "\n",
    "# flattening the 3-d output of the conv layer after max pooling to make it ready for creating dense connections\n",
    "model_3.add(Flatten())\n",
    "\n",
    "# adding a fully connected dense layer with 256 neurons    \n",
    "model_3.add(Dense(256))\n",
    "\n",
    "# adding leaky relu activation function with negative slope of 0.1\n",
    "model_3.add(LeakyReLU(0.1))\n",
    "    \n",
    "# adding dropout to randomly switch off 50% of dense layer neurons to reduce overfitting\n",
    "model_3.add(Dropout(0.5))\n",
    "\n",
    "# adding the output layer with 10 neurons and activation functions as softmax since this is a multi-class classification problem\n",
    "model_3.add(Dense(10, activation='softmax'))"
   ]
  },
  {
   "cell_type": "code",
   "execution_count": null,
   "metadata": {
    "colab": {
     "base_uri": "https://localhost:8080/"
    },
    "executionInfo": {
     "elapsed": 31,
     "status": "ok",
     "timestamp": 1625321320279,
     "user": {
      "displayName": "Prateek Dhokwal",
      "photoUrl": "",
      "userId": "08627769684824629279"
     },
     "user_tz": -330
    },
    "id": "Fn3i6fm80k9W",
    "outputId": "cef6b296-9340-4240-811b-404d31cb06c6"
   },
   "outputs": [
    {
     "name": "stdout",
     "output_type": "stream",
     "text": [
      "Model: \"sequential\"\n",
      "_________________________________________________________________\n",
      "Layer (type)                 Output Shape              Param #   \n",
      "=================================================================\n",
      "conv2d (Conv2D)              (None, 32, 32, 16)        448       \n",
      "_________________________________________________________________\n",
      "leaky_re_lu (LeakyReLU)      (None, 32, 32, 16)        0         \n",
      "_________________________________________________________________\n",
      "conv2d_1 (Conv2D)            (None, 32, 32, 32)        4640      \n",
      "_________________________________________________________________\n",
      "leaky_re_lu_1 (LeakyReLU)    (None, 32, 32, 32)        0         \n",
      "_________________________________________________________________\n",
      "max_pooling2d (MaxPooling2D) (None, 16, 16, 32)        0         \n",
      "_________________________________________________________________\n",
      "dropout (Dropout)            (None, 16, 16, 32)        0         \n",
      "_________________________________________________________________\n",
      "conv2d_2 (Conv2D)            (None, 16, 16, 32)        9248      \n",
      "_________________________________________________________________\n",
      "leaky_re_lu_2 (LeakyReLU)    (None, 16, 16, 32)        0         \n",
      "_________________________________________________________________\n",
      "conv2d_3 (Conv2D)            (None, 16, 16, 64)        18496     \n",
      "_________________________________________________________________\n",
      "leaky_re_lu_3 (LeakyReLU)    (None, 16, 16, 64)        0         \n",
      "_________________________________________________________________\n",
      "max_pooling2d_1 (MaxPooling2 (None, 8, 8, 64)          0         \n",
      "_________________________________________________________________\n",
      "dropout_1 (Dropout)          (None, 8, 8, 64)          0         \n",
      "_________________________________________________________________\n",
      "flatten (Flatten)            (None, 4096)              0         \n",
      "_________________________________________________________________\n",
      "dense (Dense)                (None, 256)               1048832   \n",
      "_________________________________________________________________\n",
      "leaky_re_lu_4 (LeakyReLU)    (None, 256)               0         \n",
      "_________________________________________________________________\n",
      "dropout_2 (Dropout)          (None, 256)               0         \n",
      "_________________________________________________________________\n",
      "dense_1 (Dense)              (None, 10)                2570      \n",
      "=================================================================\n",
      "Total params: 1,084,234\n",
      "Trainable params: 1,084,234\n",
      "Non-trainable params: 0\n",
      "_________________________________________________________________\n"
     ]
    }
   ],
   "source": [
    "model_3.summary()"
   ]
  },
  {
   "cell_type": "markdown",
   "metadata": {
    "id": "DguLgpAZ0rh-"
   },
   "source": [
    "In this new architecture, although **the number of convolutional layers has increased** but the **total number of trainable parameters has reduced significantly (~50%)**. This is due to the addition of few **max-pooling layers in between**. Let's train this model."
   ]
  },
  {
   "cell_type": "code",
   "execution_count": null,
   "metadata": {
    "id": "soStr8km0lIt"
   },
   "outputs": [],
   "source": [
    "model_3.compile(\n",
    "    loss='categorical_crossentropy',\n",
    "    optimizer=tf.keras.optimizers.Adamax(learning_rate=0.001),\n",
    "    metrics=['accuracy']\n",
    ")"
   ]
  },
  {
   "cell_type": "code",
   "execution_count": null,
   "metadata": {
    "colab": {
     "base_uri": "https://localhost:8080/"
    },
    "executionInfo": {
     "elapsed": 84579,
     "status": "ok",
     "timestamp": 1625321404834,
     "user": {
      "displayName": "Prateek Dhokwal",
      "photoUrl": "",
      "userId": "08627769684824629279"
     },
     "user_tz": -330
    },
    "id": "4vKm-IiB1BcB",
    "outputId": "557f0018-9df0-4eed-9e0b-89feea04b73e"
   },
   "outputs": [
    {
     "name": "stdout",
     "output_type": "stream",
     "text": [
      "Epoch 1/15\n",
      "1407/1407 - 7s - loss: 1.6293 - accuracy: 0.4082 - val_loss: 1.2969 - val_accuracy: 0.5312\n",
      "Epoch 2/15\n",
      "1407/1407 - 6s - loss: 1.2704 - accuracy: 0.5467 - val_loss: 1.0711 - val_accuracy: 0.6282\n",
      "Epoch 3/15\n",
      "1407/1407 - 6s - loss: 1.1047 - accuracy: 0.6079 - val_loss: 0.9539 - val_accuracy: 0.6680\n",
      "Epoch 4/15\n",
      "1407/1407 - 6s - loss: 1.0000 - accuracy: 0.6473 - val_loss: 0.8928 - val_accuracy: 0.6920\n",
      "Epoch 5/15\n",
      "1407/1407 - 6s - loss: 0.9208 - accuracy: 0.6774 - val_loss: 0.8374 - val_accuracy: 0.7072\n",
      "Epoch 6/15\n",
      "1407/1407 - 5s - loss: 0.8591 - accuracy: 0.6976 - val_loss: 0.7689 - val_accuracy: 0.7378\n",
      "Epoch 7/15\n",
      "1407/1407 - 5s - loss: 0.8064 - accuracy: 0.7180 - val_loss: 0.7816 - val_accuracy: 0.7264\n",
      "Epoch 8/15\n",
      "1407/1407 - 6s - loss: 0.7703 - accuracy: 0.7297 - val_loss: 0.7197 - val_accuracy: 0.7488\n",
      "Epoch 9/15\n",
      "1407/1407 - 5s - loss: 0.7348 - accuracy: 0.7418 - val_loss: 0.7386 - val_accuracy: 0.7450\n",
      "Epoch 10/15\n",
      "1407/1407 - 6s - loss: 0.6981 - accuracy: 0.7545 - val_loss: 0.6868 - val_accuracy: 0.7586\n",
      "Epoch 11/15\n",
      "1407/1407 - 6s - loss: 0.6764 - accuracy: 0.7615 - val_loss: 0.6730 - val_accuracy: 0.7708\n",
      "Epoch 12/15\n",
      "1407/1407 - 5s - loss: 0.6477 - accuracy: 0.7711 - val_loss: 0.6438 - val_accuracy: 0.7744\n",
      "Epoch 13/15\n",
      "1407/1407 - 5s - loss: 0.6218 - accuracy: 0.7800 - val_loss: 0.6436 - val_accuracy: 0.7848\n",
      "Epoch 14/15\n",
      "1407/1407 - 6s - loss: 0.6056 - accuracy: 0.7864 - val_loss: 0.6436 - val_accuracy: 0.7800\n",
      "Epoch 15/15\n",
      "1407/1407 - 5s - loss: 0.5831 - accuracy: 0.7955 - val_loss: 0.6240 - val_accuracy: 0.7832\n"
     ]
    }
   ],
   "source": [
    "history_3 = model_3.fit(\n",
    "            x_train_normalized, y_train_encoded,\n",
    "            epochs=15,\n",
    "            validation_split=0.1,\n",
    "            shuffle=True,\n",
    "            verbose=2\n",
    ")"
   ]
  },
  {
   "cell_type": "code",
   "execution_count": null,
   "metadata": {
    "colab": {
     "base_uri": "https://localhost:8080/",
     "height": 295
    },
    "executionInfo": {
     "elapsed": 24,
     "status": "ok",
     "timestamp": 1625321404837,
     "user": {
      "displayName": "Prateek Dhokwal",
      "photoUrl": "",
      "userId": "08627769684824629279"
     },
     "user_tz": -330
    },
    "id": "VUoFwdcf1BpE",
    "outputId": "bca7e7a7-bdaa-446d-8e77-811702c2d4bf"
   },
   "outputs": [
    {
     "data": {
      "image/png": "[encoded data removed]",
      "text/plain": [
       "<Figure size 432x288 with 1 Axes>"
      ]
     },
     "metadata": {
      "needs_background": "light",
      "tags": []
     },
     "output_type": "display_data"
    }
   ],
   "source": [
    "plt.plot(history_3.history['accuracy'])\n",
    "plt.plot(history_3.history['val_accuracy'])\n",
    "plt.title('Model Accuracy')\n",
    "plt.ylabel('Accuracy')\n",
    "plt.xlabel('Epoch')\n",
    "plt.legend(['Train', 'Validation'], loc='upper left')\n",
    "plt.show()"
   ]
  },
  {
   "cell_type": "markdown",
   "metadata": {
    "id": "n4fzt2Yu1jAh"
   },
   "source": [
    "**Observations:** \n",
    "\n",
    "- The third iteration of this model seems very promising now.\n",
    "- **The validation accuracy has improved substantially** and the problem of **overfitting has been reduced** completely. We can say that the **model is giving a generalized performance.** \n",
    "- The above plot shows that **the validation accuracy is higher than the training accuracy**. There are a **few possible reasons** for this:\n",
    "    - The **size of the validation set is not big enough**\n",
    "    - We may have **imbalanced data in the validation set**\n",
    "    - **High regularization**. If we use regularization methods such as L2, L1, or Dropout, while the model calculates training accuracy it uses a regularized model but when it tests accuracy on the validation set, it processes the data through an unregularized model. Regularization introduces some noise in loss value during training, because of this the training accuracy decreases more than expected, but while evaluating the model, the model doesn't use regularization and hence there's no noise, which is why the validation accuracy doesn't decrease.\n",
    "    - **To overcome this, We can try reducing the regularization or increase the size of the validation set**"
   ]
  },
  {
   "cell_type": "markdown",
   "metadata": {
    "id": "9tTjZvQOsDkp"
   },
   "source": [
    "**We can try out some more iterations and tune some of the hyperparameters** to further improve the model **but hyperparameter tuning is exhaustive** and can take a long time to find the right set of values for each hyperparameter.\n",
    "\n",
    "**Let's try some other techniques like transfer learning** to see if we can speed up the process of training the model, and can also get a more accurate model overall."
   ]
  },
  {
   "cell_type": "markdown",
   "metadata": {
    "id": "GVTSpUWzy5BO"
   },
   "source": [
    "### **Transfer Learning**"
   ]
  },
  {
   "cell_type": "markdown",
   "metadata": {
    "id": "OxrSaPVozACz"
   },
   "source": [
    "**Transfer learning** is a popular deep learning technique that **reuses a pre-trained model on a new problem**. **It can train deep neural networks with comparatively little data.** This is very useful in the data science field since most real-world problems typically do not have millions of labeled data points to train complex models.\n",
    "\n",
    "Let's begin by clearing the backend and fixing the seed."
   ]
  },
  {
   "cell_type": "code",
   "execution_count": null,
   "metadata": {
    "id": "u5BMbjZNR1CN"
   },
   "outputs": [],
   "source": [
    "#Clearing backend\n",
    "from tensorflow.keras import backend\n",
    "backend.clear_session()"
   ]
  },
  {
   "cell_type": "code",
   "execution_count": null,
   "metadata": {
    "id": "OVve5_ifR1TV"
   },
   "outputs": [],
   "source": [
    "#Fixing the seed for random number generators\n",
    "np.random.seed(42)\n",
    "import random\n",
    "random.seed(42)\n",
    "tf.random.set_seed(42)"
   ]
  },
  {
   "cell_type": "markdown",
   "metadata": {
    "id": "cv1gTK2wUHyK"
   },
   "source": [
    "We will use VGG16 as the pre-trained model. You can read about it [here](https://www.tensorflow.org/api_docs/python/tf/keras/applications/vgg16/VGG16).\n",
    "\n",
    "Also, we will use the **Functional Model API** to build the model this time because it allows explicitly connecting the output of one layer to the input of another layer. Each connection is specified. You can read about it [here](https://www.tensorflow.org/guide/keras/functional)."
   ]
  },
  {
   "cell_type": "code",
   "execution_count": null,
   "metadata": {
    "id": "ODAE8aL9zs4X"
   },
   "outputs": [],
   "source": [
    "#Importing necessary libraries\n",
    "from tensorflow.keras import Model\n",
    "from tensorflow.keras.applications.vgg16 import VGG16"
   ]
  },
  {
   "cell_type": "markdown",
   "metadata": {
    "id": "kaJBYC1u70bm"
   },
   "source": [
    "Now, let's instantiate the VGG16 model.\n",
    "\n",
    "- The **VGG16 model was originally trained on images of size 224 x 224**. The **TensorFlow application allows the minimum image size of 32x32** which is luckily the same as the image size in the CIFAR-10 dataset. If you want to use any other size, you can change the size of the input image.\n",
    "- By specifying the **argument include_top=False argument**, we load a **network that doesn't include the classification layers at the top** i.e. **we will use the VGG16 model only for feature extraction.**"
   ]
  },
  {
   "cell_type": "code",
   "execution_count": null,
   "metadata": {
    "colab": {
     "base_uri": "https://localhost:8080/"
    },
    "executionInfo": {
     "elapsed": 636,
     "status": "ok",
     "timestamp": 1625321405462,
     "user": {
      "displayName": "Prateek Dhokwal",
      "photoUrl": "",
      "userId": "08627769684824629279"
     },
     "user_tz": -330
    },
    "id": "p4RUKTJk85c7",
    "outputId": "59cb81f7-d240-43a8-8322-6160926d50be"
   },
   "outputs": [
    {
     "name": "stdout",
     "output_type": "stream",
     "text": [
      "Downloading data from https://storage.googleapis.com/tensorflow/keras-applications/vgg16/vgg16_weights_tf_dim_ordering_tf_kernels_notop.h5\n",
      "58892288/58889256 [==============================] - 0s 0us/step\n"
     ]
    }
   ],
   "source": [
    "vgg_model = VGG16(weights='imagenet', \n",
    "                       include_top=False, \n",
    "                       input_shape=(32, 32, 3), pooling='max')"
   ]
  },
  {
   "cell_type": "code",
   "execution_count": null,
   "metadata": {
    "colab": {
     "base_uri": "https://localhost:8080/"
    },
    "executionInfo": {
     "elapsed": 11,
     "status": "ok",
     "timestamp": 1625321405462,
     "user": {
      "displayName": "Prateek Dhokwal",
      "photoUrl": "",
      "userId": "08627769684824629279"
     },
     "user_tz": -330
    },
    "id": "J1ZRaq1tMPGl",
    "outputId": "19137e21-ec34-4578-cb93-2b99825e4a61"
   },
   "outputs": [
    {
     "name": "stdout",
     "output_type": "stream",
     "text": [
      "Model: \"vgg16\"\n",
      "_________________________________________________________________\n",
      "Layer (type)                 Output Shape              Param #   \n",
      "=================================================================\n",
      "input_1 (InputLayer)         [(None, 32, 32, 3)]       0         \n",
      "_________________________________________________________________\n",
      "block1_conv1 (Conv2D)        (None, 32, 32, 64)        1792      \n",
      "_________________________________________________________________\n",
      "block1_conv2 (Conv2D)        (None, 32, 32, 64)        36928     \n",
      "_________________________________________________________________\n",
      "block1_pool (MaxPooling2D)   (None, 16, 16, 64)        0         \n",
      "_________________________________________________________________\n",
      "block2_conv1 (Conv2D)        (None, 16, 16, 128)       73856     \n",
      "_________________________________________________________________\n",
      "block2_conv2 (Conv2D)        (None, 16, 16, 128)       147584    \n",
      "_________________________________________________________________\n",
      "block2_pool (MaxPooling2D)   (None, 8, 8, 128)         0         \n",
      "_________________________________________________________________\n",
      "block3_conv1 (Conv2D)        (None, 8, 8, 256)         295168    \n",
      "_________________________________________________________________\n",
      "block3_conv2 (Conv2D)        (None, 8, 8, 256)         590080    \n",
      "_________________________________________________________________\n",
      "block3_conv3 (Conv2D)        (None, 8, 8, 256)         590080    \n",
      "_________________________________________________________________\n",
      "block3_pool (MaxPooling2D)   (None, 4, 4, 256)         0         \n",
      "_________________________________________________________________\n",
      "block4_conv1 (Conv2D)        (None, 4, 4, 512)         1180160   \n",
      "_________________________________________________________________\n",
      "block4_conv2 (Conv2D)        (None, 4, 4, 512)         2359808   \n",
      "_________________________________________________________________\n",
      "block4_conv3 (Conv2D)        (None, 4, 4, 512)         2359808   \n",
      "_________________________________________________________________\n",
      "block4_pool (MaxPooling2D)   (None, 2, 2, 512)         0         \n",
      "_________________________________________________________________\n",
      "block5_conv1 (Conv2D)        (None, 2, 2, 512)         2359808   \n",
      "_________________________________________________________________\n",
      "block5_conv2 (Conv2D)        (None, 2, 2, 512)         2359808   \n",
      "_________________________________________________________________\n",
      "block5_conv3 (Conv2D)        (None, 2, 2, 512)         2359808   \n",
      "_________________________________________________________________\n",
      "block5_pool (MaxPooling2D)   (None, 1, 1, 512)         0         \n",
      "_________________________________________________________________\n",
      "global_max_pooling2d (Global (None, 512)               0         \n",
      "=================================================================\n",
      "Total params: 14,714,688\n",
      "Trainable params: 14,714,688\n",
      "Non-trainable params: 0\n",
      "_________________________________________________________________\n"
     ]
    }
   ],
   "source": [
    "vgg_model.summary()"
   ]
  },
  {
   "cell_type": "markdown",
   "metadata": {
    "id": "lk6jzKV2sDkr"
   },
   "source": [
    "- The VGG16 model has **more than 14.7M trainable parameters.** \n",
    "- Here, **we will not train any of the layers from the VGG16 model**. We will use the pre-trained weights and biases.\n",
    "- Also, we can take any layer's output from the VGG16 model as the input of our new model. Here, **we will take the output of the 3rd block of the VGG16 model as the input of our new model.**"
   ]
  },
  {
   "cell_type": "code",
   "execution_count": null,
   "metadata": {
    "id": "MDccBW_kfbcH"
   },
   "outputs": [],
   "source": [
    "transfer_layer = vgg_model.get_layer('block3_pool')"
   ]
  },
  {
   "cell_type": "code",
   "execution_count": null,
   "metadata": {
    "id": "y-H7ulUhuZnC"
   },
   "outputs": [],
   "source": [
    "vgg_model.trainable=False"
   ]
  },
  {
   "cell_type": "markdown",
   "metadata": {
    "id": "25vWN052sDks"
   },
   "source": [
    "Now, we will add classification layers to our model using Functional Model API"
   ]
  },
  {
   "cell_type": "code",
   "execution_count": null,
   "metadata": {
    "id": "MgtKRP8UuZrK"
   },
   "outputs": [],
   "source": [
    "# Add classification layers on top of it\n",
    " \n",
    "x = Flatten()(transfer_layer.output) #Flatten the output from the 3rd block of the VGG16 model\n",
    "x = Dense(256, activation='relu')(x)\n",
    "x = Dense(128, activation='relu')(x)\n",
    "x = Dropout(0.3)(x)\n",
    "x = Dense(64, activation='relu')(x)\n",
    "x = BatchNormalization()(x)\n",
    "pred = Dense(10, activation='softmax')(x)\n",
    "\n",
    "model_4 = Model(vgg_model.input, pred) #Initializing the model"
   ]
  },
  {
   "cell_type": "code",
   "execution_count": null,
   "metadata": {
    "id": "o8CMoDGUuZtc"
   },
   "outputs": [],
   "source": [
    "#Compiling the model\n",
    "model_4.compile(loss='categorical_crossentropy',\n",
    "              optimizer=tf.keras.optimizers.Adamax(learning_rate = 0.0005),\n",
    "              metrics=['accuracy'])"
   ]
  },
  {
   "cell_type": "code",
   "execution_count": null,
   "metadata": {
    "colab": {
     "base_uri": "https://localhost:8080/"
    },
    "executionInfo": {
     "elapsed": 42326,
     "status": "ok",
     "timestamp": 1625321447783,
     "user": {
      "displayName": "Prateek Dhokwal",
      "photoUrl": "",
      "userId": "08627769684824629279"
     },
     "user_tz": -330
    },
    "id": "FiXrP8LduZwx",
    "outputId": "8aee6281-45e1-4963-af17-4b777ec4c95b"
   },
   "outputs": [
    {
     "name": "stdout",
     "output_type": "stream",
     "text": [
      "Epoch 1/10\n",
      "180/180 - 5s - loss: 1.4319 - accuracy: 0.5172 - val_loss: 0.9345 - val_accuracy: 0.6836\n",
      "Epoch 2/10\n",
      "180/180 - 3s - loss: 0.9789 - accuracy: 0.6694 - val_loss: 0.8275 - val_accuracy: 0.7218\n",
      "Epoch 3/10\n",
      "180/180 - 3s - loss: 0.8383 - accuracy: 0.7165 - val_loss: 0.7354 - val_accuracy: 0.7532\n",
      "Epoch 4/10\n",
      "180/180 - 3s - loss: 0.7547 - accuracy: 0.7439 - val_loss: 0.6936 - val_accuracy: 0.7618\n",
      "Epoch 5/10\n",
      "180/180 - 3s - loss: 0.6868 - accuracy: 0.7661 - val_loss: 0.6660 - val_accuracy: 0.7694\n",
      "Epoch 6/10\n",
      "180/180 - 3s - loss: 0.6372 - accuracy: 0.7842 - val_loss: 0.6455 - val_accuracy: 0.7786\n",
      "Epoch 7/10\n",
      "180/180 - 3s - loss: 0.5901 - accuracy: 0.7998 - val_loss: 0.6376 - val_accuracy: 0.7850\n",
      "Epoch 8/10\n",
      "180/180 - 3s - loss: 0.5575 - accuracy: 0.8091 - val_loss: 0.6327 - val_accuracy: 0.7856\n",
      "Epoch 9/10\n",
      "180/180 - 3s - loss: 0.5140 - accuracy: 0.8241 - val_loss: 0.6246 - val_accuracy: 0.7844\n",
      "Epoch 10/10\n",
      "180/180 - 3s - loss: 0.4816 - accuracy: 0.8358 - val_loss: 0.6150 - val_accuracy: 0.7938\n"
     ]
    }
   ],
   "source": [
    "#Fitting the model\n",
    "history_4 = model_4.fit(\n",
    "            x_train_normalized, y_train_encoded,\n",
    "            epochs=10,\n",
    "            batch_size=250,\n",
    "            validation_split=0.1,\n",
    "            verbose=2\n",
    ")"
   ]
  },
  {
   "cell_type": "code",
   "execution_count": null,
   "metadata": {
    "colab": {
     "base_uri": "https://localhost:8080/",
     "height": 295
    },
    "executionInfo": {
     "elapsed": 33,
     "status": "ok",
     "timestamp": 1625321447791,
     "user": {
      "displayName": "Prateek Dhokwal",
      "photoUrl": "",
      "userId": "08627769684824629279"
     },
     "user_tz": -330
    },
    "id": "94ENiWyh4gU2",
    "outputId": "c90f4f03-b6f8-4db1-e099-4becb60cfd52"
   },
   "outputs": [
    {
     "data": {
      "image/png": "[encoded data removed]",
      "text/plain": [
       "<Figure size 432x288 with 1 Axes>"
      ]
     },
     "metadata": {
      "needs_background": "light",
      "tags": []
     },
     "output_type": "display_data"
    }
   ],
   "source": [
    "plt.plot(history_4.history['accuracy'])\n",
    "plt.plot(history_4.history['val_accuracy'])\n",
    "plt.title('Model Accuracy')\n",
    "plt.ylabel('Accuracy')\n",
    "plt.xlabel('Epoch')\n",
    "plt.legend(['Train', 'Validation'], loc='upper left')\n",
    "plt.show()"
   ]
  },
  {
   "cell_type": "markdown",
   "metadata": {
    "id": "sDvnjvsIsDkt"
   },
   "source": [
    "**Observations:**\n",
    "\n",
    "- The model **training accuracy is slightly higher than the validation accuracy**.\n",
    "- The **validation accuracy has improved as compared to the previous model**.\n",
    "- We have been able to achieve the **best validation accuracy so far without actually training any of the convolutional layers.** There are other pre-trained models as well which can be tried and/or tuned to get better performance.\n",
    "\n",
    "Here, let's use the this model to make predictions on the test data"
   ]
  },
  {
   "cell_type": "markdown",
   "metadata": {
    "id": "Ks65bYtVTUuE"
   },
   "source": [
    "### **Making predictions**"
   ]
  },
  {
   "cell_type": "code",
   "execution_count": null,
   "metadata": {
    "id": "CEY6KvQ-F3nl"
   },
   "outputs": [],
   "source": [
    "#Making predictions on the test data\n",
    "y_pred_test = model_4.predict(x_test_normalized)\n",
    "\n",
    "#Converting probabilities to class labels\n",
    "y_pred_test_classes = np.argmax(y_pred_test, axis=1)\n",
    "\n",
    "#Calculating the probability of the predicted class\n",
    "y_pred_test_max_probas = np.max(y_pred_test, axis=1)"
   ]
  },
  {
   "cell_type": "code",
   "execution_count": null,
   "metadata": {
    "colab": {
     "base_uri": "https://localhost:8080/",
     "height": 669
    },
    "executionInfo": {
     "elapsed": 1638,
     "status": "ok",
     "timestamp": 1625321450477,
     "user": {
      "displayName": "Prateek Dhokwal",
      "photoUrl": "",
      "userId": "08627769684824629279"
     },
     "user_tz": -330
    },
    "id": "uZap-nK-xD5U",
    "outputId": "045f0223-6d27-41fd-cfb9-78239e513036"
   },
   "outputs": [
    {
     "name": "stdout",
     "output_type": "stream",
     "text": [
      "              precision    recall  f1-score   support\n",
      "\n",
      "           0       0.86      0.78      0.82      1000\n",
      "           1       0.85      0.87      0.86      1000\n",
      "           2       0.80      0.64      0.71      1000\n",
      "           3       0.61      0.62      0.61      1000\n",
      "           4       0.71      0.80      0.75      1000\n",
      "           5       0.70      0.69      0.69      1000\n",
      "           6       0.83      0.84      0.84      1000\n",
      "           7       0.85      0.81      0.83      1000\n",
      "           8       0.87      0.90      0.88      1000\n",
      "           9       0.78      0.88      0.83      1000\n",
      "\n",
      "    accuracy                           0.78     10000\n",
      "   macro avg       0.79      0.78      0.78     10000\n",
      "weighted avg       0.79      0.78      0.78     10000\n",
      "\n"
     ]
    },
    {
     "data": {
      "image/png": "[encoded data removed]",
      "text/plain": [
       "<Figure size 576x360 with 2 Axes>"
      ]
     },
     "metadata": {
      "needs_background": "light",
      "tags": []
     },
     "output_type": "display_data"
    }
   ],
   "source": [
    "#importing required functions\n",
    "from sklearn.metrics import classification_report\n",
    "from sklearn.metrics import confusion_matrix\n",
    "\n",
    "#Printing the classification report\n",
    "print(classification_report(y_test, y_pred_test_classes))\n",
    "\n",
    "#Plotting the heatmap using confusion matrix\n",
    "cm = confusion_matrix(y_test, y_pred_test_classes)\n",
    "plt.figure(figsize=(8,5))\n",
    "sns.heatmap(cm, annot=True,  fmt='.0f', xticklabels=cifar10_classes, yticklabels=cifar10_classes)\n",
    "plt.ylabel('Actual')\n",
    "plt.xlabel('Predicted')\n",
    "plt.show()"
   ]
  },
  {
   "cell_type": "markdown",
   "metadata": {
    "id": "alR34cG2sDku"
   },
   "source": [
    "**Observations:**\n",
    "\n",
    "- The model is giving about **78% accuracy on the test data** which is **comparable to the accuracy of the validation data.** This implies that the model is giving a generalized performance.\n",
    "- The **recall has a high range** which implies that the **model is good at identifying some objects while poor at identifying some other objects**. For example, the **model is able to identify more than 90% of ships but can only identify only ~63% dogs**.\n",
    "- The model is majorly **confused between cat and dogs**. This implies that the **model might be focused on features related to shapes and sizes but not deep features of objects** that can help to distinguish between objects like cats and dogs.\n",
    "- Consequently, **precision also has a high range with 'cat' class having the least precision.**\n",
    "- The **highest precision is for 'horse'** which implies that the model is able to distinguish horses from other objects. "
   ]
  },
  {
   "cell_type": "markdown",
   "metadata": {
    "id": "K2OKaSvisDku"
   },
   "source": [
    "### **Visualizing predicted images**"
   ]
  },
  {
   "cell_type": "code",
   "execution_count": null,
   "metadata": {
    "colab": {
     "base_uri": "https://localhost:8080/",
     "height": 691
    },
    "executionInfo": {
     "elapsed": 1160,
     "status": "ok",
     "timestamp": 1625321451631,
     "user": {
      "displayName": "Prateek Dhokwal",
      "photoUrl": "",
      "userId": "08627769684824629279"
     },
     "user_tz": -330
    },
    "id": "Njd7at1zGJSr",
    "outputId": "7bdb773d-d7e7-4d4a-a962-3e0103913459"
   },
   "outputs": [
    {
     "data": {
      "image/png": "[encoded data removed]",
      "text/plain": [
       "<Figure size 720x864 with 12 Axes>"
      ]
     },
     "metadata": {
      "needs_background": "light",
      "tags": []
     },
     "output_type": "display_data"
    }
   ],
   "source": [
    "rows = 3\n",
    "cols = 4\n",
    "fig = plt.figure(figsize=(10, 12))\n",
    "for i in range(cols):\n",
    "    for j in range(rows):\n",
    "        random_index = np.random.randint(0, len(y_test))\n",
    "        ax = fig.add_subplot(rows, cols, i * rows + j + 1)\n",
    "        ax.imshow(x_test[random_index, :])\n",
    "        pred_label = cifar10_classes[y_pred_test_classes[random_index]]\n",
    "        pred_proba = y_pred_test_max_probas[random_index]\n",
    "        true_label = cifar10_classes[y_test[random_index, 0]]\n",
    "        ax.set_title(\"actual: {}\\npredicted: {}\\nprobability: {:.3}\\n\".format(\n",
    "               true_label, pred_label, pred_proba\n",
    "        ))\n",
    "plt.show()"
   ]
  },
  {
   "cell_type": "markdown",
   "metadata": {
    "id": "YI14z-hvukaF"
   },
   "source": [
    "### **Conclusion**"
   ]
  },
  {
   "cell_type": "markdown",
   "metadata": {
    "id": "PA82NQO52MzH"
   },
   "source": [
    "In this notebook, **we have implemented a CNN model from scratch and used transfer learning to make predictions on the CIFAR-10 dataset.** We have learned how to prepare the image data before passing it into the CNN model and how to add layers sequentially inside the model.\n",
    "\n",
    "We have seen four different iterations of the CNN model and built an intuition about how to improve the model by tuning various hyperparameters and using different techniques. There is still plenty of scope for improvement and you can try out tuning different hyperparameters to improve the model performance."
   ]
  }
 ],
 "metadata": {
  "accelerator": "GPU",
  "colab": {
   "collapsed_sections": [],
   "name": "MLS 2_Case_Study_CIFAR.ipynb",
   "provenance": []
  },
  "kernelspec": {
   "display_name": "Python 3",
   "language": "python",
   "name": "python3"
  },
  "language_info": {
   "codemirror_mode": {
    "name": "ipython",
    "version": 3
   },
   "file_extension": ".py",
   "mimetype": "text/x-python",
   "name": "python",
   "nbconvert_exporter": "python",
   "pygments_lexer": "ipython3",
   "version": "3.8.8"
  }
 },
 "nbformat": 4,
 "nbformat_minor": 1
}
