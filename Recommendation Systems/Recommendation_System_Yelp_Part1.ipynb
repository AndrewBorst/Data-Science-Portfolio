{
 "cells": [
  {
   "cell_type": "markdown",
   "metadata": {},
   "source": [
    "# Case Study - Recommendation Systems Part 1\n",
    "\n",
    "---------------\n",
    "## Context\n",
    "---------------\n",
    "\n",
    "Yelp was founded in 2004 to help people find great local businesses like restaurants, hairstylists, etc. Today, the website and their mobile application publish crowd-sourced reviews about local businesses as well as certain metadata about them that can help in customer's decision making process. Yelp uses automated software to recommend the most helpful and reliable reviews for the Yelp community out of such a large and diverse dataset.\n",
    "\n",
    "The Yelp dataset is a large collection of user reviews, business metadata, business check-ins, users' social network data, user tips for businesses across 10 cities spread across 4 countries. The original dataset is very huge with ~ 11GB of data. In this case study, we will only use a subset of data due to hardware limitations.\n",
    "\n",
    "-----------------\n",
    "## Objective\n",
    "-----------------\n",
    "\n",
    "In this case study, we will build three types of recommendation systems: \n",
    "- **Knowledge/Rank based recommendation system**\n",
    "- **Similarity-Based Collaborative filtering**\n",
    "- **Matrix Factorization Based Collaborative Filtering**\n",
    "\n",
    "-----------------\n",
    "## Dataset\n",
    "-----------------\n",
    "\n",
    "We will only use the following four attributes from the **yelp_reviews dataset**: \n",
    "- business_id\n",
    "- business_name\n",
    "- stars\n",
    "- user_id"
   ]
  },
  {
   "cell_type": "markdown",
   "metadata": {
    "id": "KeLgLKqKmfWL"
   },
   "source": [
    "### Importing libraries"
   ]
  },
  {
   "cell_type": "code",
   "execution_count": 1,
   "metadata": {
    "id": "J5B9H5TemfWL",
    "outputId": "86a5dc8c-0335-4b2c-cff6-3b181013f2b5"
   },
   "outputs": [],
   "source": [
    "import warnings\n",
    "warnings.filterwarnings('ignore')\n",
    "\n",
    "import numpy as np\n",
    "import pandas as pd\n",
    "\n",
    "import matplotlib.pyplot as plt\n",
    "import seaborn as sns\n",
    "\n",
    "from sklearn.preprocessing import LabelEncoder\n",
    "\n",
    "from sklearn.metrics.pairwise import cosine_similarity\n",
    "\n",
    "from sklearn.model_selection import train_test_split\n",
    "\n",
    "from sklearn.metrics import mean_squared_error"
   ]
  },
  {
   "cell_type": "markdown",
   "metadata": {},
   "source": [
    "### Loading data"
   ]
  },
  {
   "cell_type": "code",
   "execution_count": 2,
   "metadata": {
    "id": "AtIr8FlUmfWM",
    "outputId": "7ef0a361-9888-4663-fbfd-1f55bf98d25d"
   },
   "outputs": [
    {
     "data": {
      "text/html": [
       "<div>\n",
       "<style scoped>\n",
       "    .dataframe tbody tr th:only-of-type {\n",
       "        vertical-align: middle;\n",
       "    }\n",
       "\n",
       "    .dataframe tbody tr th {\n",
       "        vertical-align: top;\n",
       "    }\n",
       "\n",
       "    .dataframe thead th {\n",
       "        text-align: right;\n",
       "    }\n",
       "</style>\n",
       "<table border=\"1\" class=\"dataframe\">\n",
       "  <thead>\n",
       "    <tr style=\"text-align: right;\">\n",
       "      <th></th>\n",
       "      <th>business_id</th>\n",
       "      <th>business_name</th>\n",
       "      <th>stars</th>\n",
       "      <th>user_id</th>\n",
       "    </tr>\n",
       "  </thead>\n",
       "  <tbody>\n",
       "    <tr>\n",
       "      <th>0</th>\n",
       "      <td>9yKzy9PApeiPPOUJEtnvkg</td>\n",
       "      <td>Morning Glory Cafe</td>\n",
       "      <td>5</td>\n",
       "      <td>rLtl8ZkDX5vH5nAx9C3q5Q</td>\n",
       "    </tr>\n",
       "    <tr>\n",
       "      <th>1</th>\n",
       "      <td>ZRJwVLyzEJq1VAihDhYiow</td>\n",
       "      <td>Spinato's Pizzeria</td>\n",
       "      <td>5</td>\n",
       "      <td>0a2KyEL0d3Yb1V6aivbIuQ</td>\n",
       "    </tr>\n",
       "    <tr>\n",
       "      <th>2</th>\n",
       "      <td>6oRAC4uyJCsJl1X0WZpVSA</td>\n",
       "      <td>Haji-Baba</td>\n",
       "      <td>4</td>\n",
       "      <td>0hT2KtfLiobPvh6cDC8JQg</td>\n",
       "    </tr>\n",
       "    <tr>\n",
       "      <th>3</th>\n",
       "      <td>_1QQZuf4zZOyFCvXc0o6Vg</td>\n",
       "      <td>Chaparral Dog Park</td>\n",
       "      <td>5</td>\n",
       "      <td>uZetl9T0NcROGOyFfughhg</td>\n",
       "    </tr>\n",
       "    <tr>\n",
       "      <th>4</th>\n",
       "      <td>6ozycU1RpktNG2-1BroVtw</td>\n",
       "      <td>Discount Tire</td>\n",
       "      <td>5</td>\n",
       "      <td>vYmM4KTsC8ZfQBg-j5MWkw</td>\n",
       "    </tr>\n",
       "  </tbody>\n",
       "</table>\n",
       "</div>"
      ],
      "text/plain": [
       "              business_id       business_name  stars                 user_id\n",
       "0  9yKzy9PApeiPPOUJEtnvkg  Morning Glory Cafe      5  rLtl8ZkDX5vH5nAx9C3q5Q\n",
       "1  ZRJwVLyzEJq1VAihDhYiow  Spinato's Pizzeria      5  0a2KyEL0d3Yb1V6aivbIuQ\n",
       "2  6oRAC4uyJCsJl1X0WZpVSA           Haji-Baba      4  0hT2KtfLiobPvh6cDC8JQg\n",
       "3  _1QQZuf4zZOyFCvXc0o6Vg  Chaparral Dog Park      5  uZetl9T0NcROGOyFfughhg\n",
       "4  6ozycU1RpktNG2-1BroVtw       Discount Tire      5  vYmM4KTsC8ZfQBg-j5MWkw"
      ]
     },
     "execution_count": 2,
     "metadata": {},
     "output_type": "execute_result"
    }
   ],
   "source": [
    "reviews = pd.read_csv('yelp_reviews.csv', usecols=['user_id', 'business_id', 'business_name', 'stars'])\n",
    "reviews.head()"
   ]
  },
  {
   "cell_type": "code",
   "execution_count": 3,
   "metadata": {
    "id": "enfvl1aRmfWM",
    "outputId": "af9ce54b-7d6a-4ed7-cb89-8dba729ad10b"
   },
   "outputs": [
    {
     "name": "stdout",
     "output_type": "stream",
     "text": [
      "<class 'pandas.core.frame.DataFrame'>\n",
      "RangeIndex: 229907 entries, 0 to 229906\n",
      "Data columns (total 4 columns):\n",
      " #   Column         Non-Null Count   Dtype \n",
      "---  ------         --------------   ----- \n",
      " 0   business_id    229907 non-null  object\n",
      " 1   business_name  229907 non-null  object\n",
      " 2   stars          229907 non-null  int64 \n",
      " 3   user_id        229907 non-null  object\n",
      "dtypes: int64(1), object(3)\n",
      "memory usage: 7.0+ MB\n"
     ]
    }
   ],
   "source": [
    "reviews.info()"
   ]
  },
  {
   "cell_type": "markdown",
   "metadata": {},
   "source": [
    "- There are **2,29,907 observations** and **4 columns** in the data\n",
    "- There are **no missing values** in the data\n",
    "- All the columns are of **object data type** except the **stars column** which is of **numeric data type**\n",
    "- The columns **business_id** and **user_id** are encrypted to provide anonymity. To ease our processing of the dataset we will use **label encodings** to process these two variables."
   ]
  },
  {
   "cell_type": "code",
   "execution_count": 4,
   "metadata": {
    "id": "CuikN9KhmfWN"
   },
   "outputs": [],
   "source": [
    "#Label Encoding\n",
    "le = LabelEncoder()\n",
    "\n",
    "reviews['user_id'] = le.fit_transform(reviews['user_id'])\n",
    "\n",
    "reviews['business_id'] = le.fit_transform(reviews['business_id'])"
   ]
  },
  {
   "cell_type": "code",
   "execution_count": 5,
   "metadata": {
    "id": "9t0KrzevmfWN",
    "outputId": "faf4ddd7-b5bf-4a36-9e90-6260e8a069e2"
   },
   "outputs": [
    {
     "data": {
      "text/html": [
       "<div>\n",
       "<style scoped>\n",
       "    .dataframe tbody tr th:only-of-type {\n",
       "        vertical-align: middle;\n",
       "    }\n",
       "\n",
       "    .dataframe tbody tr th {\n",
       "        vertical-align: top;\n",
       "    }\n",
       "\n",
       "    .dataframe thead th {\n",
       "        text-align: right;\n",
       "    }\n",
       "</style>\n",
       "<table border=\"1\" class=\"dataframe\">\n",
       "  <thead>\n",
       "    <tr style=\"text-align: right;\">\n",
       "      <th></th>\n",
       "      <th>business_id</th>\n",
       "      <th>business_name</th>\n",
       "      <th>stars</th>\n",
       "      <th>user_id</th>\n",
       "    </tr>\n",
       "  </thead>\n",
       "  <tbody>\n",
       "    <tr>\n",
       "      <th>0</th>\n",
       "      <td>2030</td>\n",
       "      <td>Morning Glory Cafe</td>\n",
       "      <td>5</td>\n",
       "      <td>39808</td>\n",
       "    </tr>\n",
       "    <tr>\n",
       "      <th>1</th>\n",
       "      <td>6654</td>\n",
       "      <td>Spinato's Pizzeria</td>\n",
       "      <td>5</td>\n",
       "      <td>1179</td>\n",
       "    </tr>\n",
       "    <tr>\n",
       "      <th>2</th>\n",
       "      <td>1470</td>\n",
       "      <td>Haji-Baba</td>\n",
       "      <td>4</td>\n",
       "      <td>1279</td>\n",
       "    </tr>\n",
       "    <tr>\n",
       "      <th>3</th>\n",
       "      <td>6753</td>\n",
       "      <td>Chaparral Dog Park</td>\n",
       "      <td>5</td>\n",
       "      <td>42067</td>\n",
       "    </tr>\n",
       "    <tr>\n",
       "      <th>4</th>\n",
       "      <td>1471</td>\n",
       "      <td>Discount Tire</td>\n",
       "      <td>5</td>\n",
       "      <td>42785</td>\n",
       "    </tr>\n",
       "  </tbody>\n",
       "</table>\n",
       "</div>"
      ],
      "text/plain": [
       "   business_id       business_name  stars  user_id\n",
       "0         2030  Morning Glory Cafe      5    39808\n",
       "1         6654  Spinato's Pizzeria      5     1179\n",
       "2         1470           Haji-Baba      4     1279\n",
       "3         6753  Chaparral Dog Park      5    42067\n",
       "4         1471       Discount Tire      5    42785"
      ]
     },
     "execution_count": 5,
     "metadata": {},
     "output_type": "execute_result"
    }
   ],
   "source": [
    "reviews.head()"
   ]
  },
  {
   "cell_type": "markdown",
   "metadata": {
    "id": "pDmODKHOmfWN"
   },
   "source": [
    "### Exploring the dataset\n",
    "\n",
    "Let's explore the dataset and answer some basic data-related questions "
   ]
  },
  {
   "cell_type": "markdown",
   "metadata": {
    "id": "M-TkLrVBmfWO"
   },
   "source": [
    "#### Q1. What is the total number of unique businesses in the dataset?"
   ]
  },
  {
   "cell_type": "code",
   "execution_count": 6,
   "metadata": {
    "id": "OEXkLerxmfWO",
    "outputId": "4125a536-f24a-4c9e-ca85-ad492485cdd2"
   },
   "outputs": [
    {
     "data": {
      "text/plain": [
       "11537"
      ]
     },
     "execution_count": 6,
     "metadata": {},
     "output_type": "execute_result"
    }
   ],
   "source": [
    "reviews['business_id'].nunique()"
   ]
  },
  {
   "cell_type": "markdown",
   "metadata": {},
   "source": [
    "- There are **11,537** businesses in the data"
   ]
  },
  {
   "cell_type": "markdown",
   "metadata": {
    "id": "L2xCLzOYmfWO"
   },
   "source": [
    "#### Q2. What is the total number of unique users in the dataset?"
   ]
  },
  {
   "cell_type": "code",
   "execution_count": 7,
   "metadata": {
    "id": "iD1qBDyimfWO",
    "outputId": "101972e5-9c17-4c8f-b1f1-b27e95a87826"
   },
   "outputs": [
    {
     "data": {
      "text/plain": [
       "45981"
      ]
     },
     "execution_count": 7,
     "metadata": {},
     "output_type": "execute_result"
    }
   ],
   "source": [
    "reviews['user_id'].nunique()"
   ]
  },
  {
   "cell_type": "markdown",
   "metadata": {},
   "source": [
    "- There are **45,981** users in the data\n",
    "- As per the number of unique users and businesses, there is a **possibility of 11537 * 45981 = 53,04,82,797 reviews** in the dataset. But **we only have 2,29,907 reviews**, i.e. not every user has rated every business in the dataset. And we can build a recommendation system to recommend  business to users which they have not interacted with."
   ]
  },
  {
   "cell_type": "markdown",
   "metadata": {
    "id": "vUyzsldBmfWP"
   },
   "source": [
    "#### Q3. Which business has the most reviews?"
   ]
  },
  {
   "cell_type": "code",
   "execution_count": 8,
   "metadata": {
    "id": "xu0CS9f7mfWP",
    "outputId": "20c87716-257f-4d23-fc7c-0d10f099038a"
   },
   "outputs": [
    {
     "data": {
      "text/plain": [
       "Pita Jungle                                 1275\n",
       "Oregano's Pizza Bistro                       960\n",
       "Cornish Pasty Company                        907\n",
       "Phoenix Sky Harbor International Airport     844\n",
       "Pizzeria Bianco                              794\n",
       "                                            ... \n",
       "A-1 Van Leasing & Rental                       3\n",
       "Sonoma Oral and Facial Surgery                 3\n",
       "Rancho Santa Fe Dental Group                   3\n",
       "Paprika Mediterranean Experience               3\n",
       "Twist Boutique                                 3\n",
       "Name: business_name, Length: 8315, dtype: int64"
      ]
     },
     "execution_count": 8,
     "metadata": {},
     "output_type": "execute_result"
    }
   ],
   "source": [
    "reviews['business_name'].value_counts()"
   ]
  },
  {
   "cell_type": "markdown",
   "metadata": {},
   "source": [
    "- **Pita Jungle** has most reviews i.e. **1275**"
   ]
  },
  {
   "cell_type": "markdown",
   "metadata": {
    "id": "DZb7gW6umfWP"
   },
   "source": [
    "#### Q4. Which user provided the most reviews?"
   ]
  },
  {
   "cell_type": "code",
   "execution_count": 9,
   "metadata": {
    "id": "iiVvwqDAmfWP",
    "outputId": "7c212514-48b2-4455-b215-c389fcb691c4"
   },
   "outputs": [
    {
     "data": {
      "text/plain": [
       "31258    588\n",
       "7236     506\n",
       "880      473\n",
       "4179     442\n",
       "34386    392\n",
       "        ... \n",
       "18417      1\n",
       "17806      1\n",
       "31545      1\n",
       "16488      1\n",
       "29554      1\n",
       "Name: user_id, Length: 45981, dtype: int64"
      ]
     },
     "execution_count": 9,
     "metadata": {},
     "output_type": "execute_result"
    }
   ],
   "source": [
    "reviews['user_id'].value_counts()"
   ]
  },
  {
   "cell_type": "markdown",
   "metadata": {},
   "source": [
    "- The user with **user_id 31258** has provided the most reviews i.e. **588**"
   ]
  },
  {
   "cell_type": "markdown",
   "metadata": {
    "id": "Teoc7LMimfWQ"
   },
   "source": [
    "#### Q5. What is the distribution of `stars` in the data?"
   ]
  },
  {
   "cell_type": "code",
   "execution_count": 10,
   "metadata": {
    "id": "01NKngHBmfWQ",
    "outputId": "5ba39e73-03bb-4d19-93ee-df79f41b4568"
   },
   "outputs": [
    {
     "data": {
      "text/plain": [
       "<matplotlib.axes._subplots.AxesSubplot at 0x2731f206220>"
      ]
     },
     "execution_count": 10,
     "metadata": {},
     "output_type": "execute_result"
    },
    {
     "data": {
      "image/png": "[encoded data removed]",
      "text/plain": [
       "<Figure size 504x504 with 1 Axes>"
      ]
     },
     "metadata": {
      "needs_background": "light"
     },
     "output_type": "display_data"
    }
   ],
   "source": [
    "#Plotting distributions of stars \n",
    "\n",
    "plt.figure(figsize=(7,7))\n",
    "\n",
    "reviews['stars'].value_counts(1).plot(kind='bar')"
   ]
  },
  {
   "cell_type": "markdown",
   "metadata": {},
   "source": [
    "- 4 is the most common star that users give\n",
    "- About **68% of reviews are positive with 5 or 4 stars** \n",
    "- About 32% of reviews has 3 or below stars"
   ]
  },
  {
   "cell_type": "markdown",
   "metadata": {
    "id": "SbMZ4eJ-mfWR"
   },
   "source": [
    "#### Q6. What restaurant should we recommend to a new user who does not have a review history?"
   ]
  },
  {
   "cell_type": "markdown",
   "metadata": {
    "id": "nP-raVjzmfWR"
   },
   "source": [
    "This kind of problem is known as the **cold start** problem. In this case, we don't have any interactions history by the user as the user is new. So the best recommendation, in this case, is to provide the most popular recommendations based on average stars."
   ]
  },
  {
   "cell_type": "markdown",
   "metadata": {
    "id": "FtNk76ABmfWS"
   },
   "source": [
    "### Rank based recommendation system"
   ]
  },
  {
   "cell_type": "markdown",
   "metadata": {
    "id": "MbGIfrEEmfWS"
   },
   "source": [
    "As we have see before, the restaurant: **Pita Jungle** has been interacted the most. Let's check the distribution of stars for the business below: "
   ]
  },
  {
   "cell_type": "code",
   "execution_count": 11,
   "metadata": {
    "id": "gV9-sZZ2mfWS",
    "outputId": "81f81944-d996-4bc2-c1c4-0f1fbbf3d966"
   },
   "outputs": [
    {
     "data": {
      "text/plain": [
       "<matplotlib.axes._subplots.AxesSubplot at 0x2731f571100>"
      ]
     },
     "execution_count": 11,
     "metadata": {},
     "output_type": "execute_result"
    },
    {
     "data": {
      "image/png": "[encoded data removed]",
      "text/plain": [
       "<Figure size 432x288 with 1 Axes>"
      ]
     },
     "metadata": {
      "needs_background": "light"
     },
     "output_type": "display_data"
    }
   ],
   "source": [
    "reviews[reviews['business_name'] == 'Pita Jungle']['stars'].value_counts().plot(kind='bar')"
   ]
  },
  {
   "cell_type": "markdown",
   "metadata": {
    "id": "1drQUNczmfWS"
   },
   "source": [
    "- As we can see this business has been a liked restaurant as the count of stars 5 and 4 are higher than the remaining stars. \n",
    "- There might be some businesses with very high interactions but 1 and 2 stars may be much higher than 4 or 5 i.e. that business is the most disliked business."
   ]
  },
  {
   "cell_type": "markdown",
   "metadata": {
    "id": "mKbpjOsqmfWS"
   },
   "source": [
    "So to build the rank based recommendation system, let's take **average** of all the stars provided to each business and then rank them based on their average stars"
   ]
  },
  {
   "cell_type": "code",
   "execution_count": 12,
   "metadata": {
    "id": "73Zf2gg3mfWT"
   },
   "outputs": [],
   "source": [
    "#Calculating average stars\n",
    "average_stars = reviews.groupby('business_name').mean()['stars']\n",
    "\n",
    "#Calculating the count of stars\n",
    "count_star = reviews.groupby('business_name').count()['stars']\n",
    "\n",
    "#Making a dataframe with the count and average of stars\n",
    "final_review = pd.DataFrame({'avg_review':average_stars, 'review_count':count_star})"
   ]
  },
  {
   "cell_type": "code",
   "execution_count": 13,
   "metadata": {
    "id": "co2XEGQKmfWT",
    "outputId": "11c4ec5f-523b-4820-ef6f-79f8c1bd269e"
   },
   "outputs": [
    {
     "data": {
      "text/html": [
       "<div>\n",
       "<style scoped>\n",
       "    .dataframe tbody tr th:only-of-type {\n",
       "        vertical-align: middle;\n",
       "    }\n",
       "\n",
       "    .dataframe tbody tr th {\n",
       "        vertical-align: top;\n",
       "    }\n",
       "\n",
       "    .dataframe thead th {\n",
       "        text-align: right;\n",
       "    }\n",
       "</style>\n",
       "<table border=\"1\" class=\"dataframe\">\n",
       "  <thead>\n",
       "    <tr style=\"text-align: right;\">\n",
       "      <th></th>\n",
       "      <th>avg_review</th>\n",
       "      <th>review_count</th>\n",
       "    </tr>\n",
       "    <tr>\n",
       "      <th>business_name</th>\n",
       "      <th></th>\n",
       "      <th></th>\n",
       "    </tr>\n",
       "  </thead>\n",
       "  <tbody>\n",
       "    <tr>\n",
       "      <th>#1 Brother's Pizza</th>\n",
       "      <td>4.333333</td>\n",
       "      <td>9</td>\n",
       "    </tr>\n",
       "    <tr>\n",
       "      <th>1 Brother's Pizza</th>\n",
       "      <td>1.000000</td>\n",
       "      <td>4</td>\n",
       "    </tr>\n",
       "    <tr>\n",
       "      <th>1 Brothers Inc</th>\n",
       "      <td>2.538462</td>\n",
       "      <td>13</td>\n",
       "    </tr>\n",
       "    <tr>\n",
       "      <th>1 Obi Nail Spa</th>\n",
       "      <td>2.166667</td>\n",
       "      <td>6</td>\n",
       "    </tr>\n",
       "    <tr>\n",
       "      <th>101 Bistro</th>\n",
       "      <td>3.285714</td>\n",
       "      <td>7</td>\n",
       "    </tr>\n",
       "  </tbody>\n",
       "</table>\n",
       "</div>"
      ],
      "text/plain": [
       "                    avg_review  review_count\n",
       "business_name                               \n",
       "#1 Brother's Pizza    4.333333             9\n",
       "1 Brother's Pizza     1.000000             4\n",
       "1 Brothers Inc        2.538462            13\n",
       "1 Obi Nail Spa        2.166667             6\n",
       "101 Bistro            3.285714             7"
      ]
     },
     "execution_count": 13,
     "metadata": {},
     "output_type": "execute_result"
    }
   ],
   "source": [
    "final_review.head()"
   ]
  },
  {
   "cell_type": "markdown",
   "metadata": {},
   "source": [
    "Now, let's create a function to find the **top n businesses** for a recommendation based on the average stars of all businesses. We can also add a **threshold for a minimum number of interactions** for a business to be considered for recommendation."
   ]
  },
  {
   "cell_type": "code",
   "execution_count": 14,
   "metadata": {
    "id": "ULcyjm1JmfWT"
   },
   "outputs": [],
   "source": [
    "def top_n_businesses(data, n, min_interaction=100):\n",
    "    \n",
    "    #Finding businesses with minimum number of interactions\n",
    "    recommendations = data[data['review_count'] > min_interaction]\n",
    "    \n",
    "    #Sorting values w.r.t average stars\n",
    "    recommendations = recommendations.sort_values(by='avg_review', ascending=False)\n",
    "    \n",
    "    return recommendations.index[:n]"
   ]
  },
  {
   "cell_type": "markdown",
   "metadata": {},
   "source": [
    "We can **use this function with different n's and minimum interactions** to get businesses to recommend"
   ]
  },
  {
   "cell_type": "markdown",
   "metadata": {
    "id": "De0JkuSOmfWT"
   },
   "source": [
    "#### Recommending top 5 businesses with 50 minimum interactions based on popularity"
   ]
  },
  {
   "cell_type": "code",
   "execution_count": 15,
   "metadata": {
    "id": "jwfY4b7SmfWT",
    "outputId": "21e62397-9b97-45ef-fc42-acba8d69b0bd"
   },
   "outputs": [
    {
     "data": {
      "text/plain": [
       "['FROST A Gelato Shoppe',\n",
       " \"That's Amore Gelato\",\n",
       " 'HTC Body Piercing',\n",
       " \"Penzey's Spices\",\n",
       " 'Café Monarch']"
      ]
     },
     "execution_count": 15,
     "metadata": {},
     "output_type": "execute_result"
    }
   ],
   "source": [
    "list(top_n_businesses(final_review, 5, 50))"
   ]
  },
  {
   "cell_type": "markdown",
   "metadata": {
    "id": "v-GiakoKmfWU"
   },
   "source": [
    "#### Recommending top 5 businesses with 100 minimum interactions based on popularity"
   ]
  },
  {
   "cell_type": "code",
   "execution_count": 16,
   "metadata": {
    "id": "0WmcwZHUmfWU",
    "outputId": "dcab8438-1ea7-4a9d-9829-0847d5a4e8ba"
   },
   "outputs": [
    {
     "data": {
      "text/plain": [
       "['Café Monarch',\n",
       " 'Short Leash Dogs',\n",
       " 'Paletas Betty',\n",
       " 'Changing Hands Bookstore',\n",
       " 'The Deli']"
      ]
     },
     "execution_count": 16,
     "metadata": {},
     "output_type": "execute_result"
    }
   ],
   "source": [
    "list(top_n_businesses(final_review, 5, 100))"
   ]
  },
  {
   "cell_type": "markdown",
   "metadata": {
    "id": "YuC7h-T3mfWU"
   },
   "source": [
    "#### Recommending top 5 businesses with 500 minimum interactions based on popularity"
   ]
  },
  {
   "cell_type": "code",
   "execution_count": 17,
   "metadata": {
    "id": "TtpSl--jmfWU",
    "outputId": "a1caf31d-c57e-440d-c3b6-979ca9776929"
   },
   "outputs": [
    {
     "data": {
      "text/plain": [
       "['Postino Arcadia',\n",
       " 'Cornish Pasty Company',\n",
       " 'Cibo',\n",
       " 'Four Peaks Brewing Co',\n",
       " \"Joe's Farm Grill\"]"
      ]
     },
     "execution_count": 17,
     "metadata": {},
     "output_type": "execute_result"
    }
   ],
   "source": [
    "list(top_n_businesses(final_review, 5, 500))"
   ]
  },
  {
   "cell_type": "markdown",
   "metadata": {},
   "source": [
    "Now that we have seen how to apply the Rank-Based Recommendation System to solve the cold start problem. Now, let's see the Collaborative Filtering Based Recommendation System"
   ]
  },
  {
   "cell_type": "markdown",
   "metadata": {
    "id": "GD3IlKznmfWU"
   },
   "source": [
    "### Collaborative Filtering"
   ]
  },
  {
   "cell_type": "markdown",
   "metadata": {},
   "source": [
    "#### Types of Collaborative Filtering\n",
    "\n",
    "- Similarity/Neighborhood based\n",
    "- Model based"
   ]
  },
  {
   "cell_type": "markdown",
   "metadata": {
    "id": "srF01IiwmfWV"
   },
   "source": [
    "#### Building Similarity/Neighborhood based Collaborative Filtering\n",
    "\n",
    "To build collaborative filtering recommendation system, we need to create **user-item interactions matrix**. Since this dataset is big, we will make a shorter version of this dataset by filtering to 1000 most rated businesses and top 1000 users who has interacted the most."
   ]
  },
  {
   "cell_type": "code",
   "execution_count": 18,
   "metadata": {
    "id": "G78vsrY5mfWV",
    "outputId": "c84bb502-2e79-4357-9a80-7134003902e9"
   },
   "outputs": [
    {
     "data": {
      "text/html": [
       "<div>\n",
       "<style scoped>\n",
       "    .dataframe tbody tr th:only-of-type {\n",
       "        vertical-align: middle;\n",
       "    }\n",
       "\n",
       "    .dataframe tbody tr th {\n",
       "        vertical-align: top;\n",
       "    }\n",
       "\n",
       "    .dataframe thead th {\n",
       "        text-align: right;\n",
       "    }\n",
       "</style>\n",
       "<table border=\"1\" class=\"dataframe\">\n",
       "  <thead>\n",
       "    <tr style=\"text-align: right;\">\n",
       "      <th></th>\n",
       "      <th>business_id</th>\n",
       "    </tr>\n",
       "  </thead>\n",
       "  <tbody>\n",
       "    <tr>\n",
       "      <th>0</th>\n",
       "      <td>8254</td>\n",
       "    </tr>\n",
       "    <tr>\n",
       "      <th>1</th>\n",
       "      <td>5947</td>\n",
       "    </tr>\n",
       "    <tr>\n",
       "      <th>2</th>\n",
       "      <td>3830</td>\n",
       "    </tr>\n",
       "    <tr>\n",
       "      <th>3</th>\n",
       "      <td>9425</td>\n",
       "    </tr>\n",
       "    <tr>\n",
       "      <th>4</th>\n",
       "      <td>2852</td>\n",
       "    </tr>\n",
       "  </tbody>\n",
       "</table>\n",
       "</div>"
      ],
      "text/plain": [
       "   business_id\n",
       "0         8254\n",
       "1         5947\n",
       "2         3830\n",
       "3         9425\n",
       "4         2852"
      ]
     },
     "execution_count": 18,
     "metadata": {},
     "output_type": "execute_result"
    }
   ],
   "source": [
    "#Finding IDs of top 1000 businesses\n",
    "top_1000_businesses = pd.DataFrame({'business_id':reviews['business_id'].value_counts()[:1000].index})\n",
    "top_1000_businesses.head()"
   ]
  },
  {
   "cell_type": "code",
   "execution_count": 19,
   "metadata": {
    "id": "L184SefGmfWV",
    "outputId": "e91c79cc-851d-43b5-e19c-5a4887ca9568"
   },
   "outputs": [
    {
     "data": {
      "text/html": [
       "<div>\n",
       "<style scoped>\n",
       "    .dataframe tbody tr th:only-of-type {\n",
       "        vertical-align: middle;\n",
       "    }\n",
       "\n",
       "    .dataframe tbody tr th {\n",
       "        vertical-align: top;\n",
       "    }\n",
       "\n",
       "    .dataframe thead th {\n",
       "        text-align: right;\n",
       "    }\n",
       "</style>\n",
       "<table border=\"1\" class=\"dataframe\">\n",
       "  <thead>\n",
       "    <tr style=\"text-align: right;\">\n",
       "      <th></th>\n",
       "      <th>user_id</th>\n",
       "    </tr>\n",
       "  </thead>\n",
       "  <tbody>\n",
       "    <tr>\n",
       "      <th>0</th>\n",
       "      <td>31258</td>\n",
       "    </tr>\n",
       "    <tr>\n",
       "      <th>1</th>\n",
       "      <td>7236</td>\n",
       "    </tr>\n",
       "    <tr>\n",
       "      <th>2</th>\n",
       "      <td>4179</td>\n",
       "    </tr>\n",
       "    <tr>\n",
       "      <th>3</th>\n",
       "      <td>1196</td>\n",
       "    </tr>\n",
       "    <tr>\n",
       "      <th>4</th>\n",
       "      <td>3371</td>\n",
       "    </tr>\n",
       "  </tbody>\n",
       "</table>\n",
       "</div>"
      ],
      "text/plain": [
       "   user_id\n",
       "0    31258\n",
       "1     7236\n",
       "2     4179\n",
       "3     1196\n",
       "4     3371"
      ]
     },
     "execution_count": 19,
     "metadata": {},
     "output_type": "execute_result"
    }
   ],
   "source": [
    "#Finding IDs of top 1000 users\n",
    "top_1000_users = pd.DataFrame({'user_id':reviews[reviews['business_id'].isin(top_1000_businesses['business_id'])]['user_id'].value_counts()[:1000].index})\n",
    "top_1000_users.head()"
   ]
  },
  {
   "cell_type": "code",
   "execution_count": 20,
   "metadata": {
    "id": "09EadHcqmfWV",
    "outputId": "fd9ba380-3445-43a7-88a3-722153da8b94"
   },
   "outputs": [
    {
     "data": {
      "text/plain": [
       "(123460, 4)"
      ]
     },
     "execution_count": 20,
     "metadata": {},
     "output_type": "execute_result"
    }
   ],
   "source": [
    "#Filtering the original data to contain only top 1000 businesses\n",
    "reviews_small = top_1000_businesses.merge(reviews, how='inner', on='business_id')\n",
    "reviews_small.shape"
   ]
  },
  {
   "cell_type": "code",
   "execution_count": 21,
   "metadata": {
    "id": "Cg3u44mimfWV",
    "outputId": "72c51295-697c-4379-9d42-8b599301c044"
   },
   "outputs": [
    {
     "data": {
      "text/plain": [
       "(42958, 4)"
      ]
     },
     "execution_count": 21,
     "metadata": {},
     "output_type": "execute_result"
    }
   ],
   "source": [
    "#Filtering the data with top 1000 businesses to contain only top 1000 users\n",
    "reviews_small = top_1000_users.merge(reviews_small, how='inner', on='user_id')\n",
    "reviews_small.shape"
   ]
  },
  {
   "cell_type": "code",
   "execution_count": 22,
   "metadata": {
    "id": "p9otmfDFmfWW",
    "outputId": "0aa84eba-c372-4fb8-fc18-47fe9355be21"
   },
   "outputs": [
    {
     "data": {
      "text/html": [
       "<div>\n",
       "<style scoped>\n",
       "    .dataframe tbody tr th:only-of-type {\n",
       "        vertical-align: middle;\n",
       "    }\n",
       "\n",
       "    .dataframe tbody tr th {\n",
       "        vertical-align: top;\n",
       "    }\n",
       "\n",
       "    .dataframe thead th {\n",
       "        text-align: right;\n",
       "    }\n",
       "</style>\n",
       "<table border=\"1\" class=\"dataframe\">\n",
       "  <thead>\n",
       "    <tr style=\"text-align: right;\">\n",
       "      <th></th>\n",
       "      <th>user_id</th>\n",
       "      <th>business_id</th>\n",
       "      <th>business_name</th>\n",
       "      <th>stars</th>\n",
       "    </tr>\n",
       "  </thead>\n",
       "  <tbody>\n",
       "    <tr>\n",
       "      <th>0</th>\n",
       "      <td>31258</td>\n",
       "      <td>8254</td>\n",
       "      <td>Phoenix Sky Harbor International Airport</td>\n",
       "      <td>3</td>\n",
       "    </tr>\n",
       "    <tr>\n",
       "      <th>1</th>\n",
       "      <td>31258</td>\n",
       "      <td>3830</td>\n",
       "      <td>Four Peaks Brewing Co</td>\n",
       "      <td>4</td>\n",
       "    </tr>\n",
       "    <tr>\n",
       "      <th>2</th>\n",
       "      <td>31258</td>\n",
       "      <td>9425</td>\n",
       "      <td>Matt's Big Breakfast</td>\n",
       "      <td>4</td>\n",
       "    </tr>\n",
       "    <tr>\n",
       "      <th>3</th>\n",
       "      <td>31258</td>\n",
       "      <td>2852</td>\n",
       "      <td>FEZ</td>\n",
       "      <td>5</td>\n",
       "    </tr>\n",
       "    <tr>\n",
       "      <th>4</th>\n",
       "      <td>31258</td>\n",
       "      <td>5852</td>\n",
       "      <td>Cibo</td>\n",
       "      <td>5</td>\n",
       "    </tr>\n",
       "  </tbody>\n",
       "</table>\n",
       "</div>"
      ],
      "text/plain": [
       "   user_id  business_id                             business_name  stars\n",
       "0    31258         8254  Phoenix Sky Harbor International Airport      3\n",
       "1    31258         3830                     Four Peaks Brewing Co      4\n",
       "2    31258         9425                      Matt's Big Breakfast      4\n",
       "3    31258         2852                                       FEZ      5\n",
       "4    31258         5852                                      Cibo      5"
      ]
     },
     "execution_count": 22,
     "metadata": {},
     "output_type": "execute_result"
    }
   ],
   "source": [
    "reviews_small.head()"
   ]
  },
  {
   "cell_type": "markdown",
   "metadata": {},
   "source": [
    "Let's compute the **user-item interactions matrix**"
   ]
  },
  {
   "cell_type": "code",
   "execution_count": 23,
   "metadata": {
    "id": "7-ThGEbnmfWW"
   },
   "outputs": [],
   "source": [
    "interactions_matrix = reviews_small.pivot(index='user_id', columns='business_id', values='stars')"
   ]
  },
  {
   "cell_type": "code",
   "execution_count": 24,
   "metadata": {
    "id": "MQK769x9mfWW",
    "outputId": "4738b33d-7e5d-4b32-87ab-12fb60775f3b"
   },
   "outputs": [
    {
     "data": {
      "text/html": [
       "<div>\n",
       "<style scoped>\n",
       "    .dataframe tbody tr th:only-of-type {\n",
       "        vertical-align: middle;\n",
       "    }\n",
       "\n",
       "    .dataframe tbody tr th {\n",
       "        vertical-align: top;\n",
       "    }\n",
       "\n",
       "    .dataframe thead th {\n",
       "        text-align: right;\n",
       "    }\n",
       "</style>\n",
       "<table border=\"1\" class=\"dataframe\">\n",
       "  <thead>\n",
       "    <tr style=\"text-align: right;\">\n",
       "      <th>business_id</th>\n",
       "      <th>11</th>\n",
       "      <th>12</th>\n",
       "      <th>13</th>\n",
       "      <th>36</th>\n",
       "      <th>39</th>\n",
       "      <th>51</th>\n",
       "      <th>88</th>\n",
       "      <th>103</th>\n",
       "      <th>126</th>\n",
       "      <th>140</th>\n",
       "      <th>...</th>\n",
       "      <th>11433</th>\n",
       "      <th>11446</th>\n",
       "      <th>11495</th>\n",
       "      <th>11504</th>\n",
       "      <th>11506</th>\n",
       "      <th>11509</th>\n",
       "      <th>11517</th>\n",
       "      <th>11521</th>\n",
       "      <th>11529</th>\n",
       "      <th>11531</th>\n",
       "    </tr>\n",
       "    <tr>\n",
       "      <th>user_id</th>\n",
       "      <th></th>\n",
       "      <th></th>\n",
       "      <th></th>\n",
       "      <th></th>\n",
       "      <th></th>\n",
       "      <th></th>\n",
       "      <th></th>\n",
       "      <th></th>\n",
       "      <th></th>\n",
       "      <th></th>\n",
       "      <th></th>\n",
       "      <th></th>\n",
       "      <th></th>\n",
       "      <th></th>\n",
       "      <th></th>\n",
       "      <th></th>\n",
       "      <th></th>\n",
       "      <th></th>\n",
       "      <th></th>\n",
       "      <th></th>\n",
       "      <th></th>\n",
       "    </tr>\n",
       "  </thead>\n",
       "  <tbody>\n",
       "    <tr>\n",
       "      <th>1</th>\n",
       "      <td>NaN</td>\n",
       "      <td>NaN</td>\n",
       "      <td>NaN</td>\n",
       "      <td>NaN</td>\n",
       "      <td>NaN</td>\n",
       "      <td>NaN</td>\n",
       "      <td>NaN</td>\n",
       "      <td>NaN</td>\n",
       "      <td>NaN</td>\n",
       "      <td>NaN</td>\n",
       "      <td>...</td>\n",
       "      <td>NaN</td>\n",
       "      <td>NaN</td>\n",
       "      <td>NaN</td>\n",
       "      <td>1.0</td>\n",
       "      <td>NaN</td>\n",
       "      <td>4.0</td>\n",
       "      <td>NaN</td>\n",
       "      <td>NaN</td>\n",
       "      <td>NaN</td>\n",
       "      <td>3.0</td>\n",
       "    </tr>\n",
       "    <tr>\n",
       "      <th>45</th>\n",
       "      <td>NaN</td>\n",
       "      <td>NaN</td>\n",
       "      <td>NaN</td>\n",
       "      <td>NaN</td>\n",
       "      <td>NaN</td>\n",
       "      <td>NaN</td>\n",
       "      <td>NaN</td>\n",
       "      <td>NaN</td>\n",
       "      <td>NaN</td>\n",
       "      <td>NaN</td>\n",
       "      <td>...</td>\n",
       "      <td>NaN</td>\n",
       "      <td>NaN</td>\n",
       "      <td>NaN</td>\n",
       "      <td>NaN</td>\n",
       "      <td>NaN</td>\n",
       "      <td>NaN</td>\n",
       "      <td>NaN</td>\n",
       "      <td>NaN</td>\n",
       "      <td>NaN</td>\n",
       "      <td>NaN</td>\n",
       "    </tr>\n",
       "    <tr>\n",
       "      <th>87</th>\n",
       "      <td>NaN</td>\n",
       "      <td>NaN</td>\n",
       "      <td>NaN</td>\n",
       "      <td>NaN</td>\n",
       "      <td>NaN</td>\n",
       "      <td>NaN</td>\n",
       "      <td>NaN</td>\n",
       "      <td>NaN</td>\n",
       "      <td>NaN</td>\n",
       "      <td>NaN</td>\n",
       "      <td>...</td>\n",
       "      <td>NaN</td>\n",
       "      <td>NaN</td>\n",
       "      <td>NaN</td>\n",
       "      <td>NaN</td>\n",
       "      <td>NaN</td>\n",
       "      <td>NaN</td>\n",
       "      <td>NaN</td>\n",
       "      <td>NaN</td>\n",
       "      <td>NaN</td>\n",
       "      <td>NaN</td>\n",
       "    </tr>\n",
       "    <tr>\n",
       "      <th>111</th>\n",
       "      <td>NaN</td>\n",
       "      <td>NaN</td>\n",
       "      <td>NaN</td>\n",
       "      <td>NaN</td>\n",
       "      <td>NaN</td>\n",
       "      <td>3.0</td>\n",
       "      <td>NaN</td>\n",
       "      <td>NaN</td>\n",
       "      <td>NaN</td>\n",
       "      <td>NaN</td>\n",
       "      <td>...</td>\n",
       "      <td>NaN</td>\n",
       "      <td>NaN</td>\n",
       "      <td>NaN</td>\n",
       "      <td>NaN</td>\n",
       "      <td>NaN</td>\n",
       "      <td>NaN</td>\n",
       "      <td>NaN</td>\n",
       "      <td>NaN</td>\n",
       "      <td>NaN</td>\n",
       "      <td>NaN</td>\n",
       "    </tr>\n",
       "    <tr>\n",
       "      <th>162</th>\n",
       "      <td>NaN</td>\n",
       "      <td>NaN</td>\n",
       "      <td>NaN</td>\n",
       "      <td>NaN</td>\n",
       "      <td>NaN</td>\n",
       "      <td>NaN</td>\n",
       "      <td>NaN</td>\n",
       "      <td>NaN</td>\n",
       "      <td>NaN</td>\n",
       "      <td>NaN</td>\n",
       "      <td>...</td>\n",
       "      <td>NaN</td>\n",
       "      <td>NaN</td>\n",
       "      <td>4.0</td>\n",
       "      <td>NaN</td>\n",
       "      <td>NaN</td>\n",
       "      <td>NaN</td>\n",
       "      <td>NaN</td>\n",
       "      <td>NaN</td>\n",
       "      <td>NaN</td>\n",
       "      <td>NaN</td>\n",
       "    </tr>\n",
       "    <tr>\n",
       "      <th>...</th>\n",
       "      <td>...</td>\n",
       "      <td>...</td>\n",
       "      <td>...</td>\n",
       "      <td>...</td>\n",
       "      <td>...</td>\n",
       "      <td>...</td>\n",
       "      <td>...</td>\n",
       "      <td>...</td>\n",
       "      <td>...</td>\n",
       "      <td>...</td>\n",
       "      <td>...</td>\n",
       "      <td>...</td>\n",
       "      <td>...</td>\n",
       "      <td>...</td>\n",
       "      <td>...</td>\n",
       "      <td>...</td>\n",
       "      <td>...</td>\n",
       "      <td>...</td>\n",
       "      <td>...</td>\n",
       "      <td>...</td>\n",
       "      <td>...</td>\n",
       "    </tr>\n",
       "    <tr>\n",
       "      <th>45740</th>\n",
       "      <td>NaN</td>\n",
       "      <td>NaN</td>\n",
       "      <td>NaN</td>\n",
       "      <td>NaN</td>\n",
       "      <td>NaN</td>\n",
       "      <td>NaN</td>\n",
       "      <td>NaN</td>\n",
       "      <td>NaN</td>\n",
       "      <td>NaN</td>\n",
       "      <td>NaN</td>\n",
       "      <td>...</td>\n",
       "      <td>NaN</td>\n",
       "      <td>NaN</td>\n",
       "      <td>NaN</td>\n",
       "      <td>NaN</td>\n",
       "      <td>NaN</td>\n",
       "      <td>NaN</td>\n",
       "      <td>NaN</td>\n",
       "      <td>NaN</td>\n",
       "      <td>NaN</td>\n",
       "      <td>NaN</td>\n",
       "    </tr>\n",
       "    <tr>\n",
       "      <th>45742</th>\n",
       "      <td>3.0</td>\n",
       "      <td>NaN</td>\n",
       "      <td>NaN</td>\n",
       "      <td>NaN</td>\n",
       "      <td>5.0</td>\n",
       "      <td>NaN</td>\n",
       "      <td>NaN</td>\n",
       "      <td>NaN</td>\n",
       "      <td>4.0</td>\n",
       "      <td>NaN</td>\n",
       "      <td>...</td>\n",
       "      <td>NaN</td>\n",
       "      <td>NaN</td>\n",
       "      <td>2.0</td>\n",
       "      <td>NaN</td>\n",
       "      <td>NaN</td>\n",
       "      <td>NaN</td>\n",
       "      <td>NaN</td>\n",
       "      <td>NaN</td>\n",
       "      <td>NaN</td>\n",
       "      <td>NaN</td>\n",
       "    </tr>\n",
       "    <tr>\n",
       "      <th>45758</th>\n",
       "      <td>NaN</td>\n",
       "      <td>NaN</td>\n",
       "      <td>NaN</td>\n",
       "      <td>NaN</td>\n",
       "      <td>NaN</td>\n",
       "      <td>NaN</td>\n",
       "      <td>NaN</td>\n",
       "      <td>NaN</td>\n",
       "      <td>NaN</td>\n",
       "      <td>NaN</td>\n",
       "      <td>...</td>\n",
       "      <td>NaN</td>\n",
       "      <td>NaN</td>\n",
       "      <td>NaN</td>\n",
       "      <td>NaN</td>\n",
       "      <td>NaN</td>\n",
       "      <td>NaN</td>\n",
       "      <td>NaN</td>\n",
       "      <td>NaN</td>\n",
       "      <td>NaN</td>\n",
       "      <td>NaN</td>\n",
       "    </tr>\n",
       "    <tr>\n",
       "      <th>45763</th>\n",
       "      <td>NaN</td>\n",
       "      <td>NaN</td>\n",
       "      <td>NaN</td>\n",
       "      <td>NaN</td>\n",
       "      <td>NaN</td>\n",
       "      <td>NaN</td>\n",
       "      <td>NaN</td>\n",
       "      <td>NaN</td>\n",
       "      <td>NaN</td>\n",
       "      <td>NaN</td>\n",
       "      <td>...</td>\n",
       "      <td>NaN</td>\n",
       "      <td>NaN</td>\n",
       "      <td>NaN</td>\n",
       "      <td>NaN</td>\n",
       "      <td>NaN</td>\n",
       "      <td>NaN</td>\n",
       "      <td>NaN</td>\n",
       "      <td>NaN</td>\n",
       "      <td>NaN</td>\n",
       "      <td>NaN</td>\n",
       "    </tr>\n",
       "    <tr>\n",
       "      <th>45868</th>\n",
       "      <td>NaN</td>\n",
       "      <td>NaN</td>\n",
       "      <td>NaN</td>\n",
       "      <td>NaN</td>\n",
       "      <td>NaN</td>\n",
       "      <td>NaN</td>\n",
       "      <td>NaN</td>\n",
       "      <td>4.0</td>\n",
       "      <td>NaN</td>\n",
       "      <td>NaN</td>\n",
       "      <td>...</td>\n",
       "      <td>NaN</td>\n",
       "      <td>NaN</td>\n",
       "      <td>NaN</td>\n",
       "      <td>NaN</td>\n",
       "      <td>NaN</td>\n",
       "      <td>NaN</td>\n",
       "      <td>NaN</td>\n",
       "      <td>NaN</td>\n",
       "      <td>NaN</td>\n",
       "      <td>NaN</td>\n",
       "    </tr>\n",
       "  </tbody>\n",
       "</table>\n",
       "<p>1000 rows × 1000 columns</p>\n",
       "</div>"
      ],
      "text/plain": [
       "business_id  11     12     13     36     39     51     88     103    126    \\\n",
       "user_id                                                                      \n",
       "1              NaN    NaN    NaN    NaN    NaN    NaN    NaN    NaN    NaN   \n",
       "45             NaN    NaN    NaN    NaN    NaN    NaN    NaN    NaN    NaN   \n",
       "87             NaN    NaN    NaN    NaN    NaN    NaN    NaN    NaN    NaN   \n",
       "111            NaN    NaN    NaN    NaN    NaN    3.0    NaN    NaN    NaN   \n",
       "162            NaN    NaN    NaN    NaN    NaN    NaN    NaN    NaN    NaN   \n",
       "...            ...    ...    ...    ...    ...    ...    ...    ...    ...   \n",
       "45740          NaN    NaN    NaN    NaN    NaN    NaN    NaN    NaN    NaN   \n",
       "45742          3.0    NaN    NaN    NaN    5.0    NaN    NaN    NaN    4.0   \n",
       "45758          NaN    NaN    NaN    NaN    NaN    NaN    NaN    NaN    NaN   \n",
       "45763          NaN    NaN    NaN    NaN    NaN    NaN    NaN    NaN    NaN   \n",
       "45868          NaN    NaN    NaN    NaN    NaN    NaN    NaN    4.0    NaN   \n",
       "\n",
       "business_id  140    ...  11433  11446  11495  11504  11506  11509  11517  \\\n",
       "user_id             ...                                                    \n",
       "1              NaN  ...    NaN    NaN    NaN    1.0    NaN    4.0    NaN   \n",
       "45             NaN  ...    NaN    NaN    NaN    NaN    NaN    NaN    NaN   \n",
       "87             NaN  ...    NaN    NaN    NaN    NaN    NaN    NaN    NaN   \n",
       "111            NaN  ...    NaN    NaN    NaN    NaN    NaN    NaN    NaN   \n",
       "162            NaN  ...    NaN    NaN    4.0    NaN    NaN    NaN    NaN   \n",
       "...            ...  ...    ...    ...    ...    ...    ...    ...    ...   \n",
       "45740          NaN  ...    NaN    NaN    NaN    NaN    NaN    NaN    NaN   \n",
       "45742          NaN  ...    NaN    NaN    2.0    NaN    NaN    NaN    NaN   \n",
       "45758          NaN  ...    NaN    NaN    NaN    NaN    NaN    NaN    NaN   \n",
       "45763          NaN  ...    NaN    NaN    NaN    NaN    NaN    NaN    NaN   \n",
       "45868          NaN  ...    NaN    NaN    NaN    NaN    NaN    NaN    NaN   \n",
       "\n",
       "business_id  11521  11529  11531  \n",
       "user_id                           \n",
       "1              NaN    NaN    3.0  \n",
       "45             NaN    NaN    NaN  \n",
       "87             NaN    NaN    NaN  \n",
       "111            NaN    NaN    NaN  \n",
       "162            NaN    NaN    NaN  \n",
       "...            ...    ...    ...  \n",
       "45740          NaN    NaN    NaN  \n",
       "45742          NaN    NaN    NaN  \n",
       "45758          NaN    NaN    NaN  \n",
       "45763          NaN    NaN    NaN  \n",
       "45868          NaN    NaN    NaN  \n",
       "\n",
       "[1000 rows x 1000 columns]"
      ]
     },
     "execution_count": 24,
     "metadata": {},
     "output_type": "execute_result"
    }
   ],
   "source": [
    "interactions_matrix"
   ]
  },
  {
   "cell_type": "markdown",
   "metadata": {},
   "source": [
    "- This is a very **sparse matrix**. \n",
    "\n",
    "We will find out the most similar users using this matrix but first we need to replace the missing values with 0 values."
   ]
  },
  {
   "cell_type": "code",
   "execution_count": 25,
   "metadata": {
    "id": "0v3dH_-UmfWW",
    "outputId": "075647ad-1886-4089-85a8-65cdd0efc195"
   },
   "outputs": [
    {
     "data": {
      "text/html": [
       "<div>\n",
       "<style scoped>\n",
       "    .dataframe tbody tr th:only-of-type {\n",
       "        vertical-align: middle;\n",
       "    }\n",
       "\n",
       "    .dataframe tbody tr th {\n",
       "        vertical-align: top;\n",
       "    }\n",
       "\n",
       "    .dataframe thead th {\n",
       "        text-align: right;\n",
       "    }\n",
       "</style>\n",
       "<table border=\"1\" class=\"dataframe\">\n",
       "  <thead>\n",
       "    <tr style=\"text-align: right;\">\n",
       "      <th>business_id</th>\n",
       "      <th>11</th>\n",
       "      <th>12</th>\n",
       "      <th>13</th>\n",
       "      <th>36</th>\n",
       "      <th>39</th>\n",
       "      <th>51</th>\n",
       "      <th>88</th>\n",
       "      <th>103</th>\n",
       "      <th>126</th>\n",
       "      <th>140</th>\n",
       "      <th>...</th>\n",
       "      <th>11433</th>\n",
       "      <th>11446</th>\n",
       "      <th>11495</th>\n",
       "      <th>11504</th>\n",
       "      <th>11506</th>\n",
       "      <th>11509</th>\n",
       "      <th>11517</th>\n",
       "      <th>11521</th>\n",
       "      <th>11529</th>\n",
       "      <th>11531</th>\n",
       "    </tr>\n",
       "    <tr>\n",
       "      <th>user_id</th>\n",
       "      <th></th>\n",
       "      <th></th>\n",
       "      <th></th>\n",
       "      <th></th>\n",
       "      <th></th>\n",
       "      <th></th>\n",
       "      <th></th>\n",
       "      <th></th>\n",
       "      <th></th>\n",
       "      <th></th>\n",
       "      <th></th>\n",
       "      <th></th>\n",
       "      <th></th>\n",
       "      <th></th>\n",
       "      <th></th>\n",
       "      <th></th>\n",
       "      <th></th>\n",
       "      <th></th>\n",
       "      <th></th>\n",
       "      <th></th>\n",
       "      <th></th>\n",
       "    </tr>\n",
       "  </thead>\n",
       "  <tbody>\n",
       "    <tr>\n",
       "      <th>1</th>\n",
       "      <td>0.0</td>\n",
       "      <td>0.0</td>\n",
       "      <td>0.0</td>\n",
       "      <td>0.0</td>\n",
       "      <td>0.0</td>\n",
       "      <td>0.0</td>\n",
       "      <td>0.0</td>\n",
       "      <td>0.0</td>\n",
       "      <td>0.0</td>\n",
       "      <td>0.0</td>\n",
       "      <td>...</td>\n",
       "      <td>0.0</td>\n",
       "      <td>0.0</td>\n",
       "      <td>0.0</td>\n",
       "      <td>1.0</td>\n",
       "      <td>0.0</td>\n",
       "      <td>4.0</td>\n",
       "      <td>0.0</td>\n",
       "      <td>0.0</td>\n",
       "      <td>0.0</td>\n",
       "      <td>3.0</td>\n",
       "    </tr>\n",
       "    <tr>\n",
       "      <th>45</th>\n",
       "      <td>0.0</td>\n",
       "      <td>0.0</td>\n",
       "      <td>0.0</td>\n",
       "      <td>0.0</td>\n",
       "      <td>0.0</td>\n",
       "      <td>0.0</td>\n",
       "      <td>0.0</td>\n",
       "      <td>0.0</td>\n",
       "      <td>0.0</td>\n",
       "      <td>0.0</td>\n",
       "      <td>...</td>\n",
       "      <td>0.0</td>\n",
       "      <td>0.0</td>\n",
       "      <td>0.0</td>\n",
       "      <td>0.0</td>\n",
       "      <td>0.0</td>\n",
       "      <td>0.0</td>\n",
       "      <td>0.0</td>\n",
       "      <td>0.0</td>\n",
       "      <td>0.0</td>\n",
       "      <td>0.0</td>\n",
       "    </tr>\n",
       "    <tr>\n",
       "      <th>87</th>\n",
       "      <td>0.0</td>\n",
       "      <td>0.0</td>\n",
       "      <td>0.0</td>\n",
       "      <td>0.0</td>\n",
       "      <td>0.0</td>\n",
       "      <td>0.0</td>\n",
       "      <td>0.0</td>\n",
       "      <td>0.0</td>\n",
       "      <td>0.0</td>\n",
       "      <td>0.0</td>\n",
       "      <td>...</td>\n",
       "      <td>0.0</td>\n",
       "      <td>0.0</td>\n",
       "      <td>0.0</td>\n",
       "      <td>0.0</td>\n",
       "      <td>0.0</td>\n",
       "      <td>0.0</td>\n",
       "      <td>0.0</td>\n",
       "      <td>0.0</td>\n",
       "      <td>0.0</td>\n",
       "      <td>0.0</td>\n",
       "    </tr>\n",
       "    <tr>\n",
       "      <th>111</th>\n",
       "      <td>0.0</td>\n",
       "      <td>0.0</td>\n",
       "      <td>0.0</td>\n",
       "      <td>0.0</td>\n",
       "      <td>0.0</td>\n",
       "      <td>3.0</td>\n",
       "      <td>0.0</td>\n",
       "      <td>0.0</td>\n",
       "      <td>0.0</td>\n",
       "      <td>0.0</td>\n",
       "      <td>...</td>\n",
       "      <td>0.0</td>\n",
       "      <td>0.0</td>\n",
       "      <td>0.0</td>\n",
       "      <td>0.0</td>\n",
       "      <td>0.0</td>\n",
       "      <td>0.0</td>\n",
       "      <td>0.0</td>\n",
       "      <td>0.0</td>\n",
       "      <td>0.0</td>\n",
       "      <td>0.0</td>\n",
       "    </tr>\n",
       "    <tr>\n",
       "      <th>162</th>\n",
       "      <td>0.0</td>\n",
       "      <td>0.0</td>\n",
       "      <td>0.0</td>\n",
       "      <td>0.0</td>\n",
       "      <td>0.0</td>\n",
       "      <td>0.0</td>\n",
       "      <td>0.0</td>\n",
       "      <td>0.0</td>\n",
       "      <td>0.0</td>\n",
       "      <td>0.0</td>\n",
       "      <td>...</td>\n",
       "      <td>0.0</td>\n",
       "      <td>0.0</td>\n",
       "      <td>4.0</td>\n",
       "      <td>0.0</td>\n",
       "      <td>0.0</td>\n",
       "      <td>0.0</td>\n",
       "      <td>0.0</td>\n",
       "      <td>0.0</td>\n",
       "      <td>0.0</td>\n",
       "      <td>0.0</td>\n",
       "    </tr>\n",
       "  </tbody>\n",
       "</table>\n",
       "<p>5 rows × 1000 columns</p>\n",
       "</div>"
      ],
      "text/plain": [
       "business_id  11     12     13     36     39     51     88     103    126    \\\n",
       "user_id                                                                      \n",
       "1              0.0    0.0    0.0    0.0    0.0    0.0    0.0    0.0    0.0   \n",
       "45             0.0    0.0    0.0    0.0    0.0    0.0    0.0    0.0    0.0   \n",
       "87             0.0    0.0    0.0    0.0    0.0    0.0    0.0    0.0    0.0   \n",
       "111            0.0    0.0    0.0    0.0    0.0    3.0    0.0    0.0    0.0   \n",
       "162            0.0    0.0    0.0    0.0    0.0    0.0    0.0    0.0    0.0   \n",
       "\n",
       "business_id  140    ...  11433  11446  11495  11504  11506  11509  11517  \\\n",
       "user_id             ...                                                    \n",
       "1              0.0  ...    0.0    0.0    0.0    1.0    0.0    4.0    0.0   \n",
       "45             0.0  ...    0.0    0.0    0.0    0.0    0.0    0.0    0.0   \n",
       "87             0.0  ...    0.0    0.0    0.0    0.0    0.0    0.0    0.0   \n",
       "111            0.0  ...    0.0    0.0    0.0    0.0    0.0    0.0    0.0   \n",
       "162            0.0  ...    0.0    0.0    4.0    0.0    0.0    0.0    0.0   \n",
       "\n",
       "business_id  11521  11529  11531  \n",
       "user_id                           \n",
       "1              0.0    0.0    3.0  \n",
       "45             0.0    0.0    0.0  \n",
       "87             0.0    0.0    0.0  \n",
       "111            0.0    0.0    0.0  \n",
       "162            0.0    0.0    0.0  \n",
       "\n",
       "[5 rows x 1000 columns]"
      ]
     },
     "execution_count": 25,
     "metadata": {},
     "output_type": "execute_result"
    }
   ],
   "source": [
    "interactions_matrix.fillna(0, inplace=True)\n",
    "interactions_matrix.head()"
   ]
  },
  {
   "cell_type": "markdown",
   "metadata": {},
   "source": [
    "Now, let's create a **function to find similar users and similarity scores for given userID and interaction matrix**"
   ]
  },
  {
   "cell_type": "code",
   "execution_count": 26,
   "metadata": {},
   "outputs": [],
   "source": [
    "def similar_users(user_id, interactions_matrix):\n",
    "    similarity = [] \n",
    "    for user in interactions_matrix.index:\n",
    "        \n",
    "        #finding cosine similarity between the user_id and each user\n",
    "        sim = cosine_similarity([interactions_matrix.loc[user_id]], [interactions_matrix.loc[user]])\n",
    "        \n",
    "        #Appending the user and the corresponding similarity score with user_id as a tuple \n",
    "        similarity.append((user, sim))\n",
    "        \n",
    "    similarity.sort(key=lambda x: x[1], reverse=True)   #Sorting the list on the basis of similarity scores\n",
    "    \n",
    "    most_similar_users = [tup[0] for tup in similarity] #Extracting the user from each tuple in the sorted list\n",
    "    \n",
    "    similarity_score = [tup[1] for tup in similarity]   #Extracting the similarity score from each tuple in the sorted list\n",
    "    \n",
    "    most_similar_users.remove(user_id)                  #Removing the original user and keeping only other similar users       \n",
    "    similarity_score.remove(similarity_score[0])\n",
    "       \n",
    "    return most_similar_users, similarity_score"
   ]
  },
  {
   "cell_type": "markdown",
   "metadata": {
    "id": "Ns9WJy2smfWX"
   },
   "source": [
    "#### Finding out top 10 similar users to the userID 87 and their similarity score"
   ]
  },
  {
   "cell_type": "code",
   "execution_count": 27,
   "metadata": {
    "id": "LiF8X8fPmfWX",
    "outputId": "5c32502e-d68a-4cd1-d32a-ce1766e26006"
   },
   "outputs": [
    {
     "data": {
      "text/plain": [
       "[32677, 41925, 32197, 11704, 21842, 31797, 11756, 823, 660, 2588]"
      ]
     },
     "execution_count": 27,
     "metadata": {},
     "output_type": "execute_result"
    }
   ],
   "source": [
    "similar_users(87, interactions_matrix)[0][:10]"
   ]
  },
  {
   "cell_type": "code",
   "execution_count": 28,
   "metadata": {
    "id": "V4iefWupmfWX",
    "outputId": "4b6fee1f-71ad-4a00-dc72-142a302f84cc"
   },
   "outputs": [
    {
     "data": {
      "text/plain": [
       "[array([[0.2425335]]),\n",
       " array([[0.23386363]]),\n",
       " array([[0.23118345]]),\n",
       " array([[0.23054085]]),\n",
       " array([[0.21433346]]),\n",
       " array([[0.20585862]]),\n",
       " array([[0.19890013]]),\n",
       " array([[0.19846943]]),\n",
       " array([[0.19021444]]),\n",
       " array([[0.18735775]])]"
      ]
     },
     "execution_count": 28,
     "metadata": {},
     "output_type": "execute_result"
    }
   ],
   "source": [
    "similar_users(87, interactions_matrix)[1][:10]"
   ]
  },
  {
   "cell_type": "markdown",
   "metadata": {
    "id": "speykIjbmfWY"
   },
   "source": [
    "#### Finding out top 10 similar users to the userID 45 and their similarity score"
   ]
  },
  {
   "cell_type": "code",
   "execution_count": 29,
   "metadata": {
    "id": "-SpiAqMgmfWY",
    "outputId": "1d5e783a-d83b-48ee-bc14-953db9b6299a"
   },
   "outputs": [
    {
     "data": {
      "text/plain": [
       "[168, 9887, 34405, 37045, 21842, 2153, 30360, 43019, 1012, 7236]"
      ]
     },
     "execution_count": 29,
     "metadata": {},
     "output_type": "execute_result"
    }
   ],
   "source": [
    "similar_users(45, interactions_matrix)[0][:10]"
   ]
  },
  {
   "cell_type": "code",
   "execution_count": 30,
   "metadata": {
    "id": "U96z4jnOmfWY",
    "outputId": "cdaf6ee9-9094-41e6-c664-fc90d7042fa4"
   },
   "outputs": [
    {
     "data": {
      "text/plain": [
       "[array([[0.23243065]]),\n",
       " array([[0.22341618]]),\n",
       " array([[0.21733215]]),\n",
       " array([[0.21607569]]),\n",
       " array([[0.21571987]]),\n",
       " array([[0.20630411]]),\n",
       " array([[0.20249907]]),\n",
       " array([[0.20036151]]),\n",
       " array([[0.19259192]]),\n",
       " array([[0.18997788]])]"
      ]
     },
     "execution_count": 30,
     "metadata": {},
     "output_type": "execute_result"
    }
   ],
   "source": [
    "similar_users(45, interactions_matrix)[1][:10]"
   ]
  },
  {
   "cell_type": "markdown",
   "metadata": {},
   "source": [
    "We have learned how to find similar users for a given user but how do we find which **business to recommend to a particular user?** This is done by finding the **businesses which have been interacted/rated the most by similar users** but not by the user of interest.\n",
    "\n",
    "**Let's create a function to do the same.**"
   ]
  },
  {
   "cell_type": "code",
   "execution_count": 31,
   "metadata": {
    "id": "rmITPvTjmfWY"
   },
   "outputs": [],
   "source": [
    "def recommendations(user_id, num_of_businesses, interactions_matrix, reviews_small):\n",
    "    \n",
    "    #Saving similar users using the function similar_users defined above\n",
    "    most_similar_users = similar_users(user_id, interactions_matrix)[0]\n",
    "    \n",
    "    #Finding business IDs with which the user_id has interacted\n",
    "    business_ids = set(list(interactions_matrix.columns[np.where(interactions_matrix.loc[user_id] > 0)]))\n",
    "    recommendations = []\n",
    "    \n",
    "    observed_interactions = business_ids.copy()\n",
    "    for similar_user in most_similar_users:\n",
    "        if len(recommendations) < num_of_businesses:\n",
    "            #Finding 'n' businesses which have been rated by similar users but not by the user_id\n",
    "            similar_user_business_ids = set(list(interactions_matrix.columns[np.where(interactions_matrix.loc[similar_user] > 0)]))\n",
    "            recommendations.extend(list(similar_user_business_ids.difference(observed_interactions)))\n",
    "            observed_interactions = observed_interactions.union(similar_user_business_ids)\n",
    "        else:\n",
    "            break\n",
    "            \n",
    "    business_names = reviews_small[reviews_small['business_id'].isin(recommendations[:num_of_businesses])]['business_name'].unique()\n",
    "    \n",
    "    return business_names"
   ]
  },
  {
   "cell_type": "markdown",
   "metadata": {},
   "source": [
    "Now, we can recommend **`n`** number of businesses to any user using the function defined above "
   ]
  },
  {
   "cell_type": "markdown",
   "metadata": {
    "id": "wguXnngtmfWY"
   },
   "source": [
    "#### Recommend 5 businesses to userID 87 based on similarity based collaborative filtering"
   ]
  },
  {
   "cell_type": "code",
   "execution_count": 32,
   "metadata": {
    "id": "DVrErxeImfWZ",
    "outputId": "caf02f2a-899e-4829-f539-fa6c92358dc8"
   },
   "outputs": [
    {
     "data": {
      "text/plain": [
       "array([\"Carly's Bistro\", 'The Arrogant Butcher', 'Phoenix City Grille',\n",
       "       'Nami', 'World Of Beer'], dtype=object)"
      ]
     },
     "execution_count": 32,
     "metadata": {},
     "output_type": "execute_result"
    }
   ],
   "source": [
    "recommendations(87, 5, interactions_matrix, reviews_small)"
   ]
  },
  {
   "cell_type": "markdown",
   "metadata": {
    "id": "qoLnUsd3mfWZ"
   },
   "source": [
    "#### Recommend 5 businesses to userID 45 based on similarity based collaborative filtering"
   ]
  },
  {
   "cell_type": "code",
   "execution_count": 33,
   "metadata": {
    "id": "ztPi29hHmfWZ",
    "outputId": "02d89c35-2750-498c-a239-d5d625535a83"
   },
   "outputs": [
    {
     "data": {
      "text/plain": [
       "array(['House of Tricks', 'Bikini Lounge', 'Rogue Bar',\n",
       "       'Hana Japanese Eatery', \"Lon's At the Hermosa\"], dtype=object)"
      ]
     },
     "execution_count": 33,
     "metadata": {},
     "output_type": "execute_result"
    }
   ],
   "source": [
    "recommendations(45, 5, interactions_matrix, reviews_small)"
   ]
  },
  {
   "cell_type": "markdown",
   "metadata": {
    "id": "eIQeOCqbmfWZ"
   },
   "source": [
    "### Model Based Collaborative Filtering - Matrix Factorization"
   ]
  },
  {
   "cell_type": "markdown",
   "metadata": {},
   "source": [
    "Model-based Collaborative Filtering is a **personalized recommendation system**, the recommendations are based on the past behavior of the user and it is not dependent on any additional information. We use **latent features** to find recommendations for each user.\n",
    "\n",
    "SVD is used to compute the latent features from the user-item matrix that we already learned earlier. We can find the decomposition using the **`svd() function`** from the linalg module of the NumPy library."
   ]
  },
  {
   "cell_type": "code",
   "execution_count": 34,
   "metadata": {
    "id": "qVe8SzvwmfWZ"
   },
   "outputs": [],
   "source": [
    "u, s, vt = np.linalg.svd(interactions_matrix, full_matrices=False)"
   ]
  },
  {
   "cell_type": "code",
   "execution_count": 35,
   "metadata": {
    "id": "l9G6_YYjmfWZ",
    "outputId": "80e484a7-a3ca-44bb-bc62-5e245f63f89a"
   },
   "outputs": [
    {
     "data": {
      "text/plain": [
       "(1000, 1000)"
      ]
     },
     "execution_count": 35,
     "metadata": {},
     "output_type": "execute_result"
    }
   ],
   "source": [
    "u.shape"
   ]
  },
  {
   "cell_type": "code",
   "execution_count": 36,
   "metadata": {
    "id": "6JUo-aQzmfWa",
    "outputId": "2def1536-b57e-4409-d871-f75d3f481d1f"
   },
   "outputs": [
    {
     "data": {
      "text/plain": [
       "(1000,)"
      ]
     },
     "execution_count": 36,
     "metadata": {},
     "output_type": "execute_result"
    }
   ],
   "source": [
    "s.shape"
   ]
  },
  {
   "cell_type": "code",
   "execution_count": 37,
   "metadata": {
    "id": "0Q6FtZUImfWa",
    "outputId": "44e2f5f9-0f27-4ff6-88fa-ec0c4f79451c"
   },
   "outputs": [
    {
     "data": {
      "text/plain": [
       "(1000, 1000)"
      ]
     },
     "execution_count": 37,
     "metadata": {},
     "output_type": "execute_result"
    }
   ],
   "source": [
    "vt.shape"
   ]
  },
  {
   "cell_type": "markdown",
   "metadata": {},
   "source": [
    "Now, we need to find the appropriate K to use in order to re-generate the interaction matrix and make predictions. We will split the data into **train and test data** and make predictions for different value of K. We will choose the K which gives good performance on the train and test data.\n",
    "\n",
    "Now, let's split the data into **train and test data**"
   ]
  },
  {
   "cell_type": "code",
   "execution_count": 38,
   "metadata": {
    "id": "hp_FEIAWmfWa"
   },
   "outputs": [],
   "source": [
    "X_train, X_test = train_test_split(reviews_small, test_size=0.2, random_state=42)"
   ]
  },
  {
   "cell_type": "code",
   "execution_count": 39,
   "metadata": {
    "id": "qsqu9UnhmfWa",
    "outputId": "386f44da-8d48-403e-9335-7d3f59eea2c8"
   },
   "outputs": [
    {
     "data": {
      "text/plain": [
       "(34366, 4)"
      ]
     },
     "execution_count": 39,
     "metadata": {},
     "output_type": "execute_result"
    }
   ],
   "source": [
    "X_train.shape"
   ]
  },
  {
   "cell_type": "code",
   "execution_count": 40,
   "metadata": {
    "id": "qat3YATOmfWa",
    "outputId": "ce407349-9570-4d66-db40-9f0a8d5c0bbb"
   },
   "outputs": [
    {
     "data": {
      "text/plain": [
       "(8592, 4)"
      ]
     },
     "execution_count": 40,
     "metadata": {},
     "output_type": "execute_result"
    }
   ],
   "source": [
    "X_test.shape"
   ]
  },
  {
   "cell_type": "markdown",
   "metadata": {},
   "source": [
    "Let's create the **train and test interactions matrices**"
   ]
  },
  {
   "cell_type": "code",
   "execution_count": 41,
   "metadata": {
    "id": "CJ2kKqhpmfWa"
   },
   "outputs": [],
   "source": [
    "#Train interaction matrix\n",
    "interactions_matrix_train = X_train.pivot(index='user_id', columns='business_id', values='stars')\n",
    "interactions_matrix_train.fillna(0, inplace=True)"
   ]
  },
  {
   "cell_type": "code",
   "execution_count": 42,
   "metadata": {
    "id": "5hh0kp_0mfWb",
    "outputId": "a99da053-b3f7-4a76-b547-832802cac080"
   },
   "outputs": [
    {
     "data": {
      "text/plain": [
       "(1000, 1000)"
      ]
     },
     "execution_count": 42,
     "metadata": {},
     "output_type": "execute_result"
    }
   ],
   "source": [
    "interactions_matrix_train.shape"
   ]
  },
  {
   "cell_type": "code",
   "execution_count": 43,
   "metadata": {
    "id": "_CiQtRlAmfWb"
   },
   "outputs": [],
   "source": [
    "#Test interaction matrix\n",
    "interactions_matrix_test = X_test.pivot(index='user_id', columns='business_id', values='stars')\n",
    "interactions_matrix_test.fillna(0, inplace=True)"
   ]
  },
  {
   "cell_type": "code",
   "execution_count": 44,
   "metadata": {
    "id": "Tis4tQcimfWb",
    "outputId": "79c2d4ed-7618-4886-fc0b-76459736e1d9"
   },
   "outputs": [
    {
     "data": {
      "text/plain": [
       "(996, 991)"
      ]
     },
     "execution_count": 44,
     "metadata": {},
     "output_type": "execute_result"
    }
   ],
   "source": [
    "interactions_matrix_test.shape"
   ]
  },
  {
   "cell_type": "markdown",
   "metadata": {},
   "source": [
    "We will use the **interactions_matrix_train** to find U, S, and V transpose using SVD. Then find the subset of rows in the **interactions_matrix_test** dataset which we can predict using this matrix decomposition with different numbers of latent features."
   ]
  },
  {
   "cell_type": "code",
   "execution_count": 45,
   "metadata": {
    "id": "SXbaBWwEmfWb",
    "outputId": "a468310e-1478-4a09-d52c-f78f0fef47fe"
   },
   "outputs": [],
   "source": [
    "#Finding unique users in train and test data and then taking their intersection i.e. common users in train and test data \n",
    "train_idx = set(interactions_matrix_train.index)\n",
    "test_idx = set(interactions_matrix_test.index)\n",
    "match_idx = train_idx.intersection(test_idx)\n",
    "    \n",
    "#Finding unique businesses in train and test data and then taking their intersection i.e. common businesses in train and test data \n",
    "train_business = set(interactions_matrix_train.columns)\n",
    "test_business = set(interactions_matrix_test.columns)\n",
    "match_cols = train_business.intersection(test_business)\n",
    "\n",
    "#Selecting only common users and businesses from the test interaction matrix\n",
    "interactions_matrix_test = interactions_matrix_test.loc[match_idx, match_cols]"
   ]
  },
  {
   "cell_type": "code",
   "execution_count": 46,
   "metadata": {
    "id": "C_WXoK-gmfWb",
    "outputId": "a51c8e20-e00a-4e45-a819-d8047231d85b"
   },
   "outputs": [
    {
     "data": {
      "text/plain": [
       "(996, 991)"
      ]
     },
     "execution_count": 46,
     "metadata": {},
     "output_type": "execute_result"
    }
   ],
   "source": [
    "interactions_matrix_test.shape"
   ]
  },
  {
   "cell_type": "markdown",
   "metadata": {},
   "source": [
    "Now, let's decompose the **interactions_matrix_train** and **find the U and Vt for the test data** using the common users and businesses in the train and test data"
   ]
  },
  {
   "cell_type": "code",
   "execution_count": 47,
   "metadata": {
    "id": "a-iHI40LmfWc"
   },
   "outputs": [],
   "source": [
    "u_train, s_train, vt_train = np.linalg.svd(interactions_matrix_train, full_matrices=False)"
   ]
  },
  {
   "cell_type": "code",
   "execution_count": 48,
   "metadata": {
    "id": "GSmtNVuomfWc"
   },
   "outputs": [],
   "source": [
    "#Finding u_test and vt_test matrices using u_train, vt_train and common user/businesses in train and test data\n",
    "row_idxs = interactions_matrix_train.index.isin(test_idx)\n",
    "col_idxs = interactions_matrix_train.columns.isin(test_business)\n",
    "u_test = u_train[row_idxs, :]\n",
    "vt_test = vt_train[:, col_idxs]"
   ]
  },
  {
   "cell_type": "markdown",
   "metadata": {},
   "source": [
    "We have calculated U and Vt matrices for the train as well as test data. Now, we need to find the number of latent features that give us the **lowest RMSE on the train and the test data**."
   ]
  },
  {
   "cell_type": "code",
   "execution_count": 49,
   "metadata": {
    "id": "Y8LVSTZvmfWc",
    "outputId": "742d9eda-8e29-435c-a58b-fae8b1f22eb5"
   },
   "outputs": [
    {
     "data": {
      "image/png": "[encoded data removed]",
      "text/plain": [
       "<Figure size 720x504 with 1 Axes>"
      ]
     },
     "metadata": {
      "needs_background": "light"
     },
     "output_type": "display_data"
    }
   ],
   "source": [
    "#Creating array for number of latent features and empty lists to store train and test errors\n",
    "latent_features = np.arange(0, 1000, 20) \n",
    "train_error = []\n",
    "test_error = []\n",
    "\n",
    "for k in latent_features:\n",
    "    #Slicing the U, S, and Vt matrices to get k latent features from train and test data \n",
    "    s_train_lat, u_train_lat, vt_train_lat = np.diag(s_train[:k]), u_train[:, :k], vt_train[:k, :]\n",
    "    u_test_lat, vt_test_lat = u_test[:, :k], vt_test[:k, :]\n",
    "    \n",
    "    #Regenerating train and test interaction matrices using k latent features\n",
    "    interactions_matrix_train_preds = np.around(np.matmul(np.matmul(u_train_lat, s_train_lat), vt_train_lat))\n",
    "    interactions_matrix_test_preds = np.around(np.matmul(np.matmul(u_test_lat, s_train_lat), vt_test_lat))\n",
    "    \n",
    "    #Calculating the actual and predicted average stars for each business in the training data\n",
    "    avg_star_train = interactions_matrix_train.mean(axis=0)\n",
    "    avg_star_train_pred = interactions_matrix_train_preds.mean(axis=0)\n",
    "    \n",
    "    #Calculating the actual and predicted average stars for each business in the test data\n",
    "    avg_star_test = interactions_matrix_test.mean(axis=0)\n",
    "    avg_star_test_pred = interactions_matrix_test_preds.mean(axis=0)\n",
    "    \n",
    "    #Calculating train and test RMSE\n",
    "    train_rmse = mean_squared_error(avg_star_train, avg_star_train_pred, squared=False)\n",
    "    test_rmse = mean_squared_error(avg_star_test, avg_star_test_pred, squared=False)\n",
    "    \n",
    "    train_error.append(train_rmse)\n",
    "    test_error.append(test_rmse)\n",
    "    \n",
    "#Plotting train and test RMSE\n",
    "plt.figure(figsize=(10,7))\n",
    "plt.plot(latent_features, train_error, label='Train', marker='o');\n",
    "plt.plot(latent_features, test_error, label='Test', marker='o');\n",
    "plt.xlabel('Number of Latent Features');\n",
    "plt.ylabel('RMSE');\n",
    "plt.legend();"
   ]
  },
  {
   "cell_type": "markdown",
   "metadata": {
    "id": "fWFJeZpBmfWc"
   },
   "source": [
    "From the above plot we can see that we got a **reasonable RMSE in both train and test dataset at around latent features=10.** If we increase the latent features it will be overfitted and decreasing the latent features will underfit the model."
   ]
  },
  {
   "cell_type": "markdown",
   "metadata": {
    "id": "4YwDnRo2mfWd"
   },
   "source": [
    "Let us now **reconstruct the original interaction matrix using latent features = 10** in the same way as above"
   ]
  },
  {
   "cell_type": "code",
   "execution_count": 50,
   "metadata": {},
   "outputs": [
    {
     "data": {
      "text/html": [
       "<div>\n",
       "<style scoped>\n",
       "    .dataframe tbody tr th:only-of-type {\n",
       "        vertical-align: middle;\n",
       "    }\n",
       "\n",
       "    .dataframe tbody tr th {\n",
       "        vertical-align: top;\n",
       "    }\n",
       "\n",
       "    .dataframe thead th {\n",
       "        text-align: right;\n",
       "    }\n",
       "</style>\n",
       "<table border=\"1\" class=\"dataframe\">\n",
       "  <thead>\n",
       "    <tr style=\"text-align: right;\">\n",
       "      <th>business_id</th>\n",
       "      <th>11</th>\n",
       "      <th>12</th>\n",
       "      <th>13</th>\n",
       "      <th>36</th>\n",
       "      <th>39</th>\n",
       "      <th>51</th>\n",
       "      <th>88</th>\n",
       "      <th>103</th>\n",
       "      <th>126</th>\n",
       "      <th>140</th>\n",
       "      <th>...</th>\n",
       "      <th>11433</th>\n",
       "      <th>11446</th>\n",
       "      <th>11495</th>\n",
       "      <th>11504</th>\n",
       "      <th>11506</th>\n",
       "      <th>11509</th>\n",
       "      <th>11517</th>\n",
       "      <th>11521</th>\n",
       "      <th>11529</th>\n",
       "      <th>11531</th>\n",
       "    </tr>\n",
       "    <tr>\n",
       "      <th>user_id</th>\n",
       "      <th></th>\n",
       "      <th></th>\n",
       "      <th></th>\n",
       "      <th></th>\n",
       "      <th></th>\n",
       "      <th></th>\n",
       "      <th></th>\n",
       "      <th></th>\n",
       "      <th></th>\n",
       "      <th></th>\n",
       "      <th></th>\n",
       "      <th></th>\n",
       "      <th></th>\n",
       "      <th></th>\n",
       "      <th></th>\n",
       "      <th></th>\n",
       "      <th></th>\n",
       "      <th></th>\n",
       "      <th></th>\n",
       "      <th></th>\n",
       "      <th></th>\n",
       "    </tr>\n",
       "  </thead>\n",
       "  <tbody>\n",
       "    <tr>\n",
       "      <th>1</th>\n",
       "      <td>1.0</td>\n",
       "      <td>0.0</td>\n",
       "      <td>0.0</td>\n",
       "      <td>0.0</td>\n",
       "      <td>2.0</td>\n",
       "      <td>1.0</td>\n",
       "      <td>0.0</td>\n",
       "      <td>0.0</td>\n",
       "      <td>1.0</td>\n",
       "      <td>1.0</td>\n",
       "      <td>...</td>\n",
       "      <td>1.0</td>\n",
       "      <td>0.0</td>\n",
       "      <td>1.0</td>\n",
       "      <td>1.0</td>\n",
       "      <td>0.0</td>\n",
       "      <td>4.0</td>\n",
       "      <td>0.0</td>\n",
       "      <td>0.0</td>\n",
       "      <td>0.0</td>\n",
       "      <td>0.0</td>\n",
       "    </tr>\n",
       "    <tr>\n",
       "      <th>45</th>\n",
       "      <td>0.0</td>\n",
       "      <td>0.0</td>\n",
       "      <td>0.0</td>\n",
       "      <td>0.0</td>\n",
       "      <td>1.0</td>\n",
       "      <td>1.0</td>\n",
       "      <td>0.0</td>\n",
       "      <td>0.0</td>\n",
       "      <td>0.0</td>\n",
       "      <td>0.0</td>\n",
       "      <td>...</td>\n",
       "      <td>0.0</td>\n",
       "      <td>0.0</td>\n",
       "      <td>1.0</td>\n",
       "      <td>0.0</td>\n",
       "      <td>0.0</td>\n",
       "      <td>0.0</td>\n",
       "      <td>0.0</td>\n",
       "      <td>0.0</td>\n",
       "      <td>0.0</td>\n",
       "      <td>0.0</td>\n",
       "    </tr>\n",
       "    <tr>\n",
       "      <th>87</th>\n",
       "      <td>0.0</td>\n",
       "      <td>0.0</td>\n",
       "      <td>0.0</td>\n",
       "      <td>0.0</td>\n",
       "      <td>0.0</td>\n",
       "      <td>0.0</td>\n",
       "      <td>0.0</td>\n",
       "      <td>0.0</td>\n",
       "      <td>0.0</td>\n",
       "      <td>0.0</td>\n",
       "      <td>...</td>\n",
       "      <td>0.0</td>\n",
       "      <td>0.0</td>\n",
       "      <td>0.0</td>\n",
       "      <td>0.0</td>\n",
       "      <td>0.0</td>\n",
       "      <td>0.0</td>\n",
       "      <td>0.0</td>\n",
       "      <td>0.0</td>\n",
       "      <td>0.0</td>\n",
       "      <td>0.0</td>\n",
       "    </tr>\n",
       "    <tr>\n",
       "      <th>111</th>\n",
       "      <td>0.0</td>\n",
       "      <td>0.0</td>\n",
       "      <td>0.0</td>\n",
       "      <td>0.0</td>\n",
       "      <td>0.0</td>\n",
       "      <td>0.0</td>\n",
       "      <td>0.0</td>\n",
       "      <td>0.0</td>\n",
       "      <td>0.0</td>\n",
       "      <td>0.0</td>\n",
       "      <td>...</td>\n",
       "      <td>0.0</td>\n",
       "      <td>0.0</td>\n",
       "      <td>0.0</td>\n",
       "      <td>0.0</td>\n",
       "      <td>0.0</td>\n",
       "      <td>0.0</td>\n",
       "      <td>0.0</td>\n",
       "      <td>0.0</td>\n",
       "      <td>0.0</td>\n",
       "      <td>0.0</td>\n",
       "    </tr>\n",
       "    <tr>\n",
       "      <th>162</th>\n",
       "      <td>0.0</td>\n",
       "      <td>0.0</td>\n",
       "      <td>0.0</td>\n",
       "      <td>0.0</td>\n",
       "      <td>0.0</td>\n",
       "      <td>0.0</td>\n",
       "      <td>0.0</td>\n",
       "      <td>0.0</td>\n",
       "      <td>1.0</td>\n",
       "      <td>0.0</td>\n",
       "      <td>...</td>\n",
       "      <td>0.0</td>\n",
       "      <td>0.0</td>\n",
       "      <td>0.0</td>\n",
       "      <td>0.0</td>\n",
       "      <td>0.0</td>\n",
       "      <td>0.0</td>\n",
       "      <td>0.0</td>\n",
       "      <td>0.0</td>\n",
       "      <td>0.0</td>\n",
       "      <td>0.0</td>\n",
       "    </tr>\n",
       "  </tbody>\n",
       "</table>\n",
       "<p>5 rows × 1000 columns</p>\n",
       "</div>"
      ],
      "text/plain": [
       "business_id  11     12     13     36     39     51     88     103    126    \\\n",
       "user_id                                                                      \n",
       "1              1.0    0.0    0.0    0.0    2.0    1.0    0.0    0.0    1.0   \n",
       "45             0.0    0.0    0.0    0.0    1.0    1.0    0.0    0.0    0.0   \n",
       "87             0.0    0.0    0.0    0.0    0.0    0.0    0.0    0.0    0.0   \n",
       "111            0.0    0.0    0.0    0.0    0.0    0.0    0.0    0.0    0.0   \n",
       "162            0.0    0.0    0.0    0.0    0.0    0.0    0.0    0.0    1.0   \n",
       "\n",
       "business_id  140    ...  11433  11446  11495  11504  11506  11509  11517  \\\n",
       "user_id             ...                                                    \n",
       "1              1.0  ...    1.0    0.0    1.0    1.0    0.0    4.0    0.0   \n",
       "45             0.0  ...    0.0    0.0    1.0    0.0    0.0    0.0    0.0   \n",
       "87             0.0  ...    0.0    0.0    0.0    0.0    0.0    0.0    0.0   \n",
       "111            0.0  ...    0.0    0.0    0.0    0.0    0.0    0.0    0.0   \n",
       "162            0.0  ...    0.0    0.0    0.0    0.0    0.0    0.0    0.0   \n",
       "\n",
       "business_id  11521  11529  11531  \n",
       "user_id                           \n",
       "1              0.0    0.0    0.0  \n",
       "45             0.0    0.0    0.0  \n",
       "87             0.0    0.0    0.0  \n",
       "111            0.0    0.0    0.0  \n",
       "162            0.0    0.0    0.0  \n",
       "\n",
       "[5 rows x 1000 columns]"
      ]
     },
     "execution_count": 50,
     "metadata": {},
     "output_type": "execute_result"
    }
   ],
   "source": [
    "s_final, u_final, vt_final = np.diag(s[:10]), u[:, :10], vt[:10, :]\n",
    "business_predicted_stars = np.around(np.matmul(np.matmul(u_final, s_final), vt_final))\n",
    "business_predicted_stars = pd.DataFrame(abs(business_predicted_stars), columns = interactions_matrix.columns, index = interactions_matrix.index)\n",
    "business_predicted_stars.head()"
   ]
  },
  {
   "cell_type": "markdown",
   "metadata": {},
   "source": [
    "We have the predictions of stars but we need to create a **function to recommend businesses** to the users on the basis of predicted stars for each business"
   ]
  },
  {
   "cell_type": "code",
   "execution_count": 51,
   "metadata": {},
   "outputs": [],
   "source": [
    "# Recommend businesses with the highest predicted stars\n",
    "\n",
    "def recommend_business(user_idx, interactions_matrix, preds_df, num_recommendations):\n",
    "          \n",
    "    # Get and sort stars given by users from the actual and predicted interaction matrix\n",
    "    sorted_user_stars = interactions_matrix.loc[user_idx].sort_values(ascending=False)\n",
    "    sorted_user_predictions = preds_df.loc[user_idx].sort_values(ascending=False)\n",
    "    \n",
    "    #Creating a dataframe with actual and predicted stars columns\n",
    "    temp = pd.concat([sorted_user_stars, sorted_user_predictions], axis=1)\n",
    "    temp.index.name = 'Recommended Business'\n",
    "    temp.columns = ['user_stars', 'user_predictions']\n",
    "    \n",
    "    #Filtering the dataframe where actual stars are 0 which implies that the user has not interacted with that business\n",
    "    temp = temp.loc[temp.user_stars == 0]   \n",
    "    \n",
    "    #Recommending businesses with top predicted stars\n",
    "    temp = temp.sort_values('user_predictions', ascending=False)\n",
    "    print('\\nBelow are the recommended businesses for user(user_id = {}):\\n'.format(user_index))\n",
    "    print(temp['user_predictions'].head(num_recommendations))"
   ]
  },
  {
   "cell_type": "markdown",
   "metadata": {},
   "source": [
    "Now, let's use the function defined above to **recommend businesses to a user**"
   ]
  },
  {
   "cell_type": "code",
   "execution_count": 52,
   "metadata": {},
   "outputs": [
    {
     "name": "stdout",
     "output_type": "stream",
     "text": [
      "\n",
      "Below are the recommended businesses for user(user_id = 31258):\n",
      "\n",
      "Recommended Business\n",
      "6999    4.0\n",
      "7222    4.0\n",
      "5947    4.0\n",
      "175     4.0\n",
      "3890    3.0\n",
      "Name: user_predictions, dtype: float64\n"
     ]
    }
   ],
   "source": [
    "user_index = 31258\n",
    "num_recommendations = 5\n",
    "recommend_business(user_index, interactions_matrix, business_predicted_stars, num_recommendations)"
   ]
  },
  {
   "cell_type": "markdown",
   "metadata": {},
   "source": [
    "We can also **calculate the RMSE** for the final stars predicted using the model-based recommendation system. "
   ]
  },
  {
   "cell_type": "code",
   "execution_count": 53,
   "metadata": {},
   "outputs": [
    {
     "data": {
      "text/html": [
       "<div>\n",
       "<style scoped>\n",
       "    .dataframe tbody tr th:only-of-type {\n",
       "        vertical-align: middle;\n",
       "    }\n",
       "\n",
       "    .dataframe tbody tr th {\n",
       "        vertical-align: top;\n",
       "    }\n",
       "\n",
       "    .dataframe thead th {\n",
       "        text-align: right;\n",
       "    }\n",
       "</style>\n",
       "<table border=\"1\" class=\"dataframe\">\n",
       "  <thead>\n",
       "    <tr style=\"text-align: right;\">\n",
       "      <th></th>\n",
       "      <th>Avg_actual_stars</th>\n",
       "      <th>Avg_predicted_stars</th>\n",
       "    </tr>\n",
       "    <tr>\n",
       "      <th>business_id</th>\n",
       "      <th></th>\n",
       "      <th></th>\n",
       "    </tr>\n",
       "  </thead>\n",
       "  <tbody>\n",
       "    <tr>\n",
       "      <th>11</th>\n",
       "      <td>0.248</td>\n",
       "      <td>0.213</td>\n",
       "    </tr>\n",
       "    <tr>\n",
       "      <th>12</th>\n",
       "      <td>0.066</td>\n",
       "      <td>0.004</td>\n",
       "    </tr>\n",
       "    <tr>\n",
       "      <th>13</th>\n",
       "      <td>0.272</td>\n",
       "      <td>0.212</td>\n",
       "    </tr>\n",
       "    <tr>\n",
       "      <th>36</th>\n",
       "      <td>0.109</td>\n",
       "      <td>0.017</td>\n",
       "    </tr>\n",
       "    <tr>\n",
       "      <th>39</th>\n",
       "      <td>0.548</td>\n",
       "      <td>0.576</td>\n",
       "    </tr>\n",
       "    <tr>\n",
       "      <th>...</th>\n",
       "      <td>...</td>\n",
       "      <td>...</td>\n",
       "    </tr>\n",
       "    <tr>\n",
       "      <th>11509</th>\n",
       "      <td>0.488</td>\n",
       "      <td>0.466</td>\n",
       "    </tr>\n",
       "    <tr>\n",
       "      <th>11517</th>\n",
       "      <td>0.168</td>\n",
       "      <td>0.055</td>\n",
       "    </tr>\n",
       "    <tr>\n",
       "      <th>11521</th>\n",
       "      <td>0.035</td>\n",
       "      <td>0.001</td>\n",
       "    </tr>\n",
       "    <tr>\n",
       "      <th>11529</th>\n",
       "      <td>0.056</td>\n",
       "      <td>0.003</td>\n",
       "    </tr>\n",
       "    <tr>\n",
       "      <th>11531</th>\n",
       "      <td>0.081</td>\n",
       "      <td>0.025</td>\n",
       "    </tr>\n",
       "  </tbody>\n",
       "</table>\n",
       "<p>1000 rows × 2 columns</p>\n",
       "</div>"
      ],
      "text/plain": [
       "             Avg_actual_stars  Avg_predicted_stars\n",
       "business_id                                       \n",
       "11                      0.248                0.213\n",
       "12                      0.066                0.004\n",
       "13                      0.272                0.212\n",
       "36                      0.109                0.017\n",
       "39                      0.548                0.576\n",
       "...                       ...                  ...\n",
       "11509                   0.488                0.466\n",
       "11517                   0.168                0.055\n",
       "11521                   0.035                0.001\n",
       "11529                   0.056                0.003\n",
       "11531                   0.081                0.025\n",
       "\n",
       "[1000 rows x 2 columns]"
      ]
     },
     "execution_count": 53,
     "metadata": {},
     "output_type": "execute_result"
    }
   ],
   "source": [
    "#creating a dataframe containing average actual stars and avearge predicted stars of the business\n",
    "rmse_df = pd.concat([interactions_matrix.mean(), business_predicted_stars.mean()], axis=1)\n",
    "rmse_df.columns = ['Avg_actual_stars', 'Avg_predicted_stars']\n",
    "rmse_df"
   ]
  },
  {
   "cell_type": "code",
   "execution_count": 54,
   "metadata": {},
   "outputs": [
    {
     "name": "stdout",
     "output_type": "stream",
     "text": [
      "\n",
      "RMSE SVD Model = 0.06936969078783616 \n",
      "\n"
     ]
    }
   ],
   "source": [
    "RMSE = mean_squared_error(rmse_df['Avg_actual_stars'], rmse_df['Avg_predicted_stars'], squared=False)\n",
    "print('\\nRMSE SVD Model = {} \\n'.format(RMSE))"
   ]
  },
  {
   "cell_type": "markdown",
   "metadata": {},
   "source": [
    "- The **RMSE is low** which implies that the majority of **predicted stars are close to the actual stars**"
   ]
  },
  {
   "cell_type": "markdown",
   "metadata": {
    "id": "RbomvLn3mfWe"
   },
   "source": [
    "### Conclusion"
   ]
  },
  {
   "cell_type": "markdown",
   "metadata": {
    "id": "1vM7CeiCmfWe"
   },
   "source": [
    "In this case study, we saw three different ways of building recommendation systems: \n",
    "- rank-based using averages\n",
    "- similarity based collaborative filtering\n",
    "- model-based (matrix factorization) based collaborative filtering\n",
    "\n",
    "We also understood the advantages/disadvantages of these recommendation systems and when to use which kind of recommendation systems. Once we build these recommendation systems, we can use **A/B Testing** to measure the effectiveness of these systems."
   ]
  }
 ],
 "metadata": {
  "colab": {
   "name": "yelp_recommendation_system_v1.ipynb",
   "provenance": []
  },
  "kernelspec": {
   "display_name": "Python 3",
   "language": "python",
   "name": "python3"
  },
  "language_info": {
   "codemirror_mode": {
    "name": "ipython",
    "version": 3
   },
   "file_extension": ".py",
   "mimetype": "text/x-python",
   "name": "python",
   "nbconvert_exporter": "python",
   "pygments_lexer": "ipython3",
   "version": "3.8.3"
  }
 },
 "nbformat": 4,
 "nbformat_minor": 1
}
